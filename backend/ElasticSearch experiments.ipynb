{
 "cells": [
  {
   "cell_type": "code",
   "execution_count": 1,
   "metadata": {
    "collapsed": true
   },
   "outputs": [],
   "source": [
    "from elasticsearch import Elasticsearch"
   ]
  },
  {
   "cell_type": "code",
   "execution_count": 2,
   "metadata": {
    "collapsed": true
   },
   "outputs": [],
   "source": [
    "es = Elasticsearch(hosts=[{'host': 'localhost', 'port': 9200}])"
   ]
  },
  {
   "cell_type": "code",
   "execution_count": 5,
   "metadata": {
    "collapsed": true
   },
   "outputs": [],
   "source": [
    "import reader, config, json\n",
    "cfg = config.Config()\n",
    "\n",
    "i = reader.read_investigation(cfg, open('../../data/new_ISAcreatorArchives/StudyID_01_archive/i_Investigation.txt', 'r'))\n",
    "result = {\n",
    "    'id': 1,\n",
    "    'sampleIds': [k for k in range(0, 17+1)],\n",
    "    '_source': reader.conform_investigation_to_schema(\n",
    "                reader.remove_isa_name_prefixes(\n",
    "                  reader.remove_empty_values_in_dict(\n",
    "                    reader.flatten_investigation(\n",
    "                      i\n",
    "                    )\n",
    "                  )\n",
    "                )\n",
    "              )\n",
    "}"
   ]
  },
  {
   "cell_type": "code",
   "execution_count": 7,
   "metadata": {
    "collapsed": false
   },
   "outputs": [
    {
     "data": {
      "text/plain": [
       "{u'_id': u'1',\n",
       " u'_index': u'cbit',\n",
       " u'_shards': {u'failed': 0, u'successful': 1, u'total': 2},\n",
       " u'_type': u'study',\n",
       " u'_version': 1,\n",
       " u'created': True}"
      ]
     },
     "execution_count": 7,
     "metadata": {},
     "output_type": "execute_result"
    }
   ],
   "source": [
    "es.index(index='cbit', doc_type='study', id=1, body=result['_source'])"
   ]
  },
  {
   "cell_type": "code",
   "execution_count": 13,
   "metadata": {
    "collapsed": false
   },
   "outputs": [
    {
     "data": {
      "text/plain": [
       "{u'_id': u'2',\n",
       " u'_index': u'cbit',\n",
       " u'_shards': {u'failed': 0, u'successful': 1, u'total': 2},\n",
       " u'_type': u'study',\n",
       " u'_version': 1,\n",
       " u'created': True}"
      ]
     },
     "execution_count": 13,
     "metadata": {},
     "output_type": "execute_result"
    }
   ],
   "source": [
    "i = reader.read_investigation(cfg, open('../../data/new_ISAcreatorArchives/StudyID_02_archive/i_Investigation.txt', 'r'))\n",
    "result = {\n",
    "  'id': 2,\n",
    "  'sampleIds': [k for k in range(100, 153+1)],\n",
    "  '_source': reader.conform_investigation_to_schema(\n",
    "               reader.remove_isa_name_prefixes(\n",
    "                 reader.remove_empty_values_in_dict(\n",
    "                   reader.flatten_investigation(\n",
    "                     i\n",
    "                   )\n",
    "                 )\n",
    "               )\n",
    "             )\n",
    "}\n",
    "es.index(index='cbit', doc_type='study', id=2, body=result['_source'])"
   ]
  },
  {
   "cell_type": "code",
   "execution_count": 19,
   "metadata": {
    "collapsed": false
   },
   "outputs": [
    {
     "name": "stdout",
     "output_type": "stream",
     "text": [
      "0\n",
      "1\n",
      "2\n",
      "3\n",
      "4\n",
      "5\n",
      "6\n",
      "7\n",
      "8\n",
      "9\n",
      "10\n",
      "11\n",
      "12\n",
      "13\n",
      "14\n",
      "15\n",
      "16\n",
      "17\n",
      "100\n"
     ]
    },
    {
     "ename": "RequestError",
     "evalue": "TransportError(400, u'mapper_parsing_exception', u'failed to parse [Source Name]')",
     "output_type": "error",
     "traceback": [
      "\u001b[0;31m---------------------------------------------------------------------------\u001b[0m",
      "\u001b[0;31mRequestError\u001b[0m                              Traceback (most recent call last)",
      "\u001b[0;32m<ipython-input-19-fd205bfb9b73>\u001b[0m in \u001b[0;36m<module>\u001b[0;34m()\u001b[0m\n\u001b[1;32m     24\u001b[0m \u001b[0;32mfor\u001b[0m \u001b[0mr\u001b[0m \u001b[0;32min\u001b[0m \u001b[0mresult\u001b[0m\u001b[0;34m:\u001b[0m\u001b[0;34m\u001b[0m\u001b[0m\n\u001b[1;32m     25\u001b[0m     \u001b[0;32mprint\u001b[0m\u001b[0;34m(\u001b[0m\u001b[0mr\u001b[0m\u001b[0;34m[\u001b[0m\u001b[0;34m'id'\u001b[0m\u001b[0;34m]\u001b[0m\u001b[0;34m)\u001b[0m\u001b[0;34m\u001b[0m\u001b[0m\n\u001b[0;32m---> 26\u001b[0;31m     \u001b[0mes\u001b[0m\u001b[0;34m.\u001b[0m\u001b[0mindex\u001b[0m\u001b[0;34m(\u001b[0m\u001b[0mindex\u001b[0m\u001b[0;34m=\u001b[0m\u001b[0;34m'cbit'\u001b[0m\u001b[0;34m,\u001b[0m \u001b[0mdoc_type\u001b[0m\u001b[0;34m=\u001b[0m\u001b[0;34m'sample'\u001b[0m\u001b[0;34m,\u001b[0m \u001b[0mid\u001b[0m\u001b[0;34m=\u001b[0m\u001b[0mr\u001b[0m\u001b[0;34m[\u001b[0m\u001b[0;34m'id'\u001b[0m\u001b[0;34m]\u001b[0m\u001b[0;34m,\u001b[0m \u001b[0mbody\u001b[0m\u001b[0;34m=\u001b[0m\u001b[0mr\u001b[0m\u001b[0;34m[\u001b[0m\u001b[0;34m'_source'\u001b[0m\u001b[0;34m]\u001b[0m\u001b[0;34m,\u001b[0m \u001b[0mrefresh\u001b[0m\u001b[0;34m=\u001b[0m\u001b[0mTrue\u001b[0m\u001b[0;34m)\u001b[0m\u001b[0;34m\u001b[0m\u001b[0m\n\u001b[0m",
      "\u001b[0;32m/Users/pat/Work/VarillySciences/2016_UMaastricht/cbit/venv/lib/python2.7/site-packages/elasticsearch/client/utils.pyc\u001b[0m in \u001b[0;36m_wrapped\u001b[0;34m(*args, **kwargs)\u001b[0m\n\u001b[1;32m     69\u001b[0m                 \u001b[0;32mif\u001b[0m \u001b[0mp\u001b[0m \u001b[0;32min\u001b[0m \u001b[0mkwargs\u001b[0m\u001b[0;34m:\u001b[0m\u001b[0;34m\u001b[0m\u001b[0m\n\u001b[1;32m     70\u001b[0m                     \u001b[0mparams\u001b[0m\u001b[0;34m[\u001b[0m\u001b[0mp\u001b[0m\u001b[0;34m]\u001b[0m \u001b[0;34m=\u001b[0m \u001b[0mkwargs\u001b[0m\u001b[0;34m.\u001b[0m\u001b[0mpop\u001b[0m\u001b[0;34m(\u001b[0m\u001b[0mp\u001b[0m\u001b[0;34m)\u001b[0m\u001b[0;34m\u001b[0m\u001b[0m\n\u001b[0;32m---> 71\u001b[0;31m             \u001b[0;32mreturn\u001b[0m \u001b[0mfunc\u001b[0m\u001b[0;34m(\u001b[0m\u001b[0;34m*\u001b[0m\u001b[0margs\u001b[0m\u001b[0;34m,\u001b[0m \u001b[0mparams\u001b[0m\u001b[0;34m=\u001b[0m\u001b[0mparams\u001b[0m\u001b[0;34m,\u001b[0m \u001b[0;34m**\u001b[0m\u001b[0mkwargs\u001b[0m\u001b[0;34m)\u001b[0m\u001b[0;34m\u001b[0m\u001b[0m\n\u001b[0m\u001b[1;32m     72\u001b[0m         \u001b[0;32mreturn\u001b[0m \u001b[0m_wrapped\u001b[0m\u001b[0;34m\u001b[0m\u001b[0m\n\u001b[1;32m     73\u001b[0m     \u001b[0;32mreturn\u001b[0m \u001b[0m_wrapper\u001b[0m\u001b[0;34m\u001b[0m\u001b[0m\n",
      "\u001b[0;32m/Users/pat/Work/VarillySciences/2016_UMaastricht/cbit/venv/lib/python2.7/site-packages/elasticsearch/client/__init__.pyc\u001b[0m in \u001b[0;36mindex\u001b[0;34m(self, index, doc_type, body, id, params)\u001b[0m\n\u001b[1;32m    298\u001b[0m                 \u001b[0;32mraise\u001b[0m \u001b[0mValueError\u001b[0m\u001b[0;34m(\u001b[0m\u001b[0;34m\"Empty value passed for a required argument.\"\u001b[0m\u001b[0;34m)\u001b[0m\u001b[0;34m\u001b[0m\u001b[0m\n\u001b[1;32m    299\u001b[0m         return self.transport.perform_request('POST' if id in SKIP_IN_PATH else 'PUT',\n\u001b[0;32m--> 300\u001b[0;31m             _make_path(index, doc_type, id), params=params, body=body)\n\u001b[0m\u001b[1;32m    301\u001b[0m \u001b[0;34m\u001b[0m\u001b[0m\n\u001b[1;32m    302\u001b[0m     \u001b[0;34m@\u001b[0m\u001b[0mquery_params\u001b[0m\u001b[0;34m(\u001b[0m\u001b[0;34m'parent'\u001b[0m\u001b[0;34m,\u001b[0m \u001b[0;34m'preference'\u001b[0m\u001b[0;34m,\u001b[0m \u001b[0;34m'realtime'\u001b[0m\u001b[0;34m,\u001b[0m \u001b[0;34m'refresh'\u001b[0m\u001b[0;34m,\u001b[0m \u001b[0;34m'routing'\u001b[0m\u001b[0;34m)\u001b[0m\u001b[0;34m\u001b[0m\u001b[0m\n",
      "\u001b[0;32m/Users/pat/Work/VarillySciences/2016_UMaastricht/cbit/venv/lib/python2.7/site-packages/elasticsearch/transport.pyc\u001b[0m in \u001b[0;36mperform_request\u001b[0;34m(self, method, url, params, body)\u001b[0m\n\u001b[1;32m    325\u001b[0m \u001b[0;34m\u001b[0m\u001b[0m\n\u001b[1;32m    326\u001b[0m             \u001b[0;32mtry\u001b[0m\u001b[0;34m:\u001b[0m\u001b[0;34m\u001b[0m\u001b[0m\n\u001b[0;32m--> 327\u001b[0;31m                 \u001b[0mstatus\u001b[0m\u001b[0;34m,\u001b[0m \u001b[0mheaders\u001b[0m\u001b[0;34m,\u001b[0m \u001b[0mdata\u001b[0m \u001b[0;34m=\u001b[0m \u001b[0mconnection\u001b[0m\u001b[0;34m.\u001b[0m\u001b[0mperform_request\u001b[0m\u001b[0;34m(\u001b[0m\u001b[0mmethod\u001b[0m\u001b[0;34m,\u001b[0m \u001b[0murl\u001b[0m\u001b[0;34m,\u001b[0m \u001b[0mparams\u001b[0m\u001b[0;34m,\u001b[0m \u001b[0mbody\u001b[0m\u001b[0;34m,\u001b[0m \u001b[0mignore\u001b[0m\u001b[0;34m=\u001b[0m\u001b[0mignore\u001b[0m\u001b[0;34m,\u001b[0m \u001b[0mtimeout\u001b[0m\u001b[0;34m=\u001b[0m\u001b[0mtimeout\u001b[0m\u001b[0;34m)\u001b[0m\u001b[0;34m\u001b[0m\u001b[0m\n\u001b[0m\u001b[1;32m    328\u001b[0m \u001b[0;34m\u001b[0m\u001b[0m\n\u001b[1;32m    329\u001b[0m             \u001b[0;32mexcept\u001b[0m \u001b[0mTransportError\u001b[0m \u001b[0;32mas\u001b[0m \u001b[0me\u001b[0m\u001b[0;34m:\u001b[0m\u001b[0;34m\u001b[0m\u001b[0m\n",
      "\u001b[0;32m/Users/pat/Work/VarillySciences/2016_UMaastricht/cbit/venv/lib/python2.7/site-packages/elasticsearch/connection/http_urllib3.pyc\u001b[0m in \u001b[0;36mperform_request\u001b[0;34m(self, method, url, params, body, timeout, ignore)\u001b[0m\n\u001b[1;32m    122\u001b[0m         \u001b[0;32mif\u001b[0m \u001b[0;32mnot\u001b[0m \u001b[0;34m(\u001b[0m\u001b[0;36m200\u001b[0m \u001b[0;34m<=\u001b[0m \u001b[0mresponse\u001b[0m\u001b[0;34m.\u001b[0m\u001b[0mstatus\u001b[0m \u001b[0;34m<\u001b[0m \u001b[0;36m300\u001b[0m\u001b[0;34m)\u001b[0m \u001b[0;32mand\u001b[0m \u001b[0mresponse\u001b[0m\u001b[0;34m.\u001b[0m\u001b[0mstatus\u001b[0m \u001b[0;32mnot\u001b[0m \u001b[0;32min\u001b[0m \u001b[0mignore\u001b[0m\u001b[0;34m:\u001b[0m\u001b[0;34m\u001b[0m\u001b[0m\n\u001b[1;32m    123\u001b[0m             \u001b[0mself\u001b[0m\u001b[0;34m.\u001b[0m\u001b[0mlog_request_fail\u001b[0m\u001b[0;34m(\u001b[0m\u001b[0mmethod\u001b[0m\u001b[0;34m,\u001b[0m \u001b[0mfull_url\u001b[0m\u001b[0;34m,\u001b[0m \u001b[0murl\u001b[0m\u001b[0;34m,\u001b[0m \u001b[0mbody\u001b[0m\u001b[0;34m,\u001b[0m \u001b[0mduration\u001b[0m\u001b[0;34m,\u001b[0m \u001b[0mresponse\u001b[0m\u001b[0;34m.\u001b[0m\u001b[0mstatus\u001b[0m\u001b[0;34m,\u001b[0m \u001b[0mraw_data\u001b[0m\u001b[0;34m)\u001b[0m\u001b[0;34m\u001b[0m\u001b[0m\n\u001b[0;32m--> 124\u001b[0;31m             \u001b[0mself\u001b[0m\u001b[0;34m.\u001b[0m\u001b[0m_raise_error\u001b[0m\u001b[0;34m(\u001b[0m\u001b[0mresponse\u001b[0m\u001b[0;34m.\u001b[0m\u001b[0mstatus\u001b[0m\u001b[0;34m,\u001b[0m \u001b[0mraw_data\u001b[0m\u001b[0;34m)\u001b[0m\u001b[0;34m\u001b[0m\u001b[0m\n\u001b[0m\u001b[1;32m    125\u001b[0m \u001b[0;34m\u001b[0m\u001b[0m\n\u001b[1;32m    126\u001b[0m         self.log_request_success(method, full_url, url, body, response.status,\n",
      "\u001b[0;32m/Users/pat/Work/VarillySciences/2016_UMaastricht/cbit/venv/lib/python2.7/site-packages/elasticsearch/connection/base.pyc\u001b[0m in \u001b[0;36m_raise_error\u001b[0;34m(self, status_code, raw_data)\u001b[0m\n\u001b[1;32m    120\u001b[0m             \u001b[0mlogger\u001b[0m\u001b[0;34m.\u001b[0m\u001b[0mwarning\u001b[0m\u001b[0;34m(\u001b[0m\u001b[0;34m'Undecodable raw error response from server: %s'\u001b[0m\u001b[0;34m,\u001b[0m \u001b[0merr\u001b[0m\u001b[0;34m)\u001b[0m\u001b[0;34m\u001b[0m\u001b[0m\n\u001b[1;32m    121\u001b[0m \u001b[0;34m\u001b[0m\u001b[0m\n\u001b[0;32m--> 122\u001b[0;31m         \u001b[0;32mraise\u001b[0m \u001b[0mHTTP_EXCEPTIONS\u001b[0m\u001b[0;34m.\u001b[0m\u001b[0mget\u001b[0m\u001b[0;34m(\u001b[0m\u001b[0mstatus_code\u001b[0m\u001b[0;34m,\u001b[0m \u001b[0mTransportError\u001b[0m\u001b[0;34m)\u001b[0m\u001b[0;34m(\u001b[0m\u001b[0mstatus_code\u001b[0m\u001b[0;34m,\u001b[0m \u001b[0merror_message\u001b[0m\u001b[0;34m,\u001b[0m \u001b[0madditional_info\u001b[0m\u001b[0;34m)\u001b[0m\u001b[0;34m\u001b[0m\u001b[0m\n\u001b[0m\u001b[1;32m    123\u001b[0m \u001b[0;34m\u001b[0m\u001b[0m\n\u001b[1;32m    124\u001b[0m \u001b[0;34m\u001b[0m\u001b[0m\n",
      "\u001b[0;31mRequestError\u001b[0m: TransportError(400, u'mapper_parsing_exception', u'failed to parse [Source Name]')"
     ]
    }
   ],
   "source": [
    "import reader, config, json\n",
    "cfg = config.Config()\n",
    "a = reader.read_assay(cfg, open('../../data/new_ISAcreatorArchives/StudyID_01_archive/a_transcription_micro_1.txt', 'r'))\n",
    "s = reader.read_study_sample(cfg, open('../../data/new_ISAcreatorArchives/StudyID_01_archive/s_study_sample.txt', 'r'))\n",
    "d = reader.join_study_sample_and_assay(reader.clean_up_study_samples(s), reader.clean_up_assay(a))\n",
    "d = reader.apply_special_treatments_to_study_sample(d)\n",
    "a2 = reader.read_assay(cfg, open('../../data/new_ISAcreatorArchives/StudyID_02_archive/a_transcription_micro_1.txt', 'r'))\n",
    "s2 = reader.read_study_sample(cfg, open('../../data/new_ISAcreatorArchives/StudyID_02_archive/s_study_sample.txt', 'r'))\n",
    "d2 = reader.join_study_sample_and_assay(reader.clean_up_study_samples(s2), reader.clean_up_assay(a2))\n",
    "d2 = reader.apply_special_treatments_to_study_sample(d2)\n",
    "\n",
    "result = []\n",
    "\n",
    "for i, (k, v) in enumerate(d.iteritems()):\n",
    "    vv = v.copy()\n",
    "    vv['Sample Name'] = k\n",
    "    result.append({'id': i, 'studyId': 1, '_source': vv})\n",
    "\n",
    "for i, (k, v) in enumerate(d2.iteritems()):\n",
    "    vv = v.copy()\n",
    "    vv['Sample Name'] = k\n",
    "    result.append({'id': 100+i, 'studyId': 2, '_source': vv})\n",
    "\n",
    "for r in result:\n",
    "    print(r['id'])\n",
    "    es.index(index='cbit', doc_type='sample', id=r['id'], body=r['_source'], refresh=True)"
   ]
  },
  {
   "cell_type": "code",
   "execution_count": 21,
   "metadata": {
    "collapsed": false
   },
   "outputs": [
    {
     "data": {
      "text/plain": [
       "{'_source': {'*Compound': '8-br-cAMP - 8-bromo-cAMP',\n",
       "  '*Material': 'PS - polystyrene',\n",
       "  '*Strain': 'hMSC - human mesenchymal stromal cells',\n",
       "  u'Array or chip design': u'Illumina HT12v3',\n",
       "  u'Assay Type': u'in vitro',\n",
       "  'Attach Duration (hours)': 12.5,\n",
       "  u'Barcode': u'5342595028_C',\n",
       "  u'Biological Replicate': 1,\n",
       "  u'Biologically degradable': u'no',\n",
       "  u'CAS number': u'23583-48-4',\n",
       "  u'Cell type': u'stromal cell',\n",
       "  u'Compound': u'8-bromo-cAMP',\n",
       "  u'Compound abbreviation': u'8-br-cAMP',\n",
       "  u'Control': False,\n",
       "  u'Culture medium': u'alpha-MEM',\n",
       "  'Dose (mM)': 1.0,\n",
       "  'Dose Duration (hours)': 72.0,\n",
       "  u'Gene expression type': u'Microarray',\n",
       "  u'Group ID': 6,\n",
       "  u'Material Class': u'polymer',\n",
       "  u'Material Name': u'polystyrene',\n",
       "  u'Material Shape': u'flat',\n",
       "  u'Material abbreviation': u'PS',\n",
       "  u'Organ': u'bone',\n",
       "  u'Organism': u'Homo sapiens',\n",
       "  u'Passage number': 2,\n",
       "  u'Platform': u'Illumina',\n",
       "  'Protocols': u'Protocol_01_Sample_treatment, Protocol_02_Material_synthesis',\n",
       "  u'Sample ID': u'01-6-1',\n",
       "  u'Sample Match': u'5342595028_A',\n",
       "  'Sample Name': u'5342595028_C',\n",
       "  u'Sex': u'unknown',\n",
       "  u'Source Name': 1,\n",
       "  u'Strain abbreviation': u'hMSC',\n",
       "  u'Strain full name': u'human mesenchymal stromal cells',\n",
       "  u'Study ID': 1,\n",
       "  u'Tissue': u'connective',\n",
       "  'Transcriptomics Assay Detail: Background correction': u'yes',\n",
       "  'Transcriptomics Assay Detail: Data Transformation Name': u'variance stabilization',\n",
       "  'Transcriptomics Assay Detail: Label': u'biotin',\n",
       "  'Transcriptomics Assay Detail: Normalization Name': u'quantile'},\n",
       " 'id': 17,\n",
       " 'studyId': 1}"
      ]
     },
     "execution_count": 21,
     "metadata": {},
     "output_type": "execute_result"
    }
   ],
   "source": [
    "result[17]"
   ]
  },
  {
   "cell_type": "code",
   "execution_count": 10,
   "metadata": {
    "collapsed": false
   },
   "outputs": [],
   "source": [
    "esResult = es.search(index='cbit', doc_type='study', body={})"
   ]
  },
  {
   "cell_type": "code",
   "execution_count": 12,
   "metadata": {
    "collapsed": false
   },
   "outputs": [
    {
     "name": "stdout",
     "output_type": "stream",
     "text": [
      "{\n",
      "  \"_shards\": {\n",
      "    \"failed\": 0, \n",
      "    \"successful\": 5, \n",
      "    \"total\": 5\n",
      "  }, \n",
      "  \"hits\": {\n",
      "    \"hits\": [\n",
      "      {\n",
      "        \"_id\": \"1\", \n",
      "        \"_index\": \"cbit\", \n",
      "        \"_score\": 1.0, \n",
      "        \"_source\": {\n",
      "          \"INVESTIGATION\": {\n",
      "            \"Investigation Identifier\": \"1478015927860\", \n",
      "            \"Investigation Title\": \"Investigation\"\n",
      "          }, \n",
      "          \"ONTOLOGY SOURCE REFERENCE\": {\n",
      "            \"Term Source Description\": \"Experimental Factor Ontology\", \n",
      "            \"Term Source File\": \"http://data.bioontology.org/ontologies/EFO\", \n",
      "            \"Term Source Name\": \"EFO\", \n",
      "            \"Term Source Version\": \"149\"\n",
      "          }, \n",
      "          \"STUDY\": {\n",
      "            \"Study Description\": \"Osteogenic differentiation of human mesenchymal stromal cells (hMSCs) may potentially be used in cell-based bone tissue-engineering applications to enhance the bone-forming potential of these cells. Osteogenic differentiation and adipogenic differentiation are thought to be mutually exclusive, and although several signaling pathways and cues that induce osteogenic or adipogenic differentiation, respectively, have been identified, there is no general consensus on how to optimally differentiate hMSCs into the osteogenic lineage. Some pathways have also been reported to be involved in both adipogenic and osteogenic differentiation, as for example, the protein kinase A (PKA) pathway, and the aim of this study was to investigate the role of cAMP/PKA signaling in differentiation of hMSCs in more detail. We show that activation of this pathway with dibutyryl-cAMP results in enhanced alkaline phosphatase expression, whereas another cAMP analog induces adipogenesis in long-term mineralization cultures. Adipogenic differentiation, induced by 8-bromo-cAMP, was accompanied by stronger PKA activity and higher expression of cAMP-responsive genes, suggesting that stronger activation correlates with adipogenic differentiation. In addition, a whole-genome expression analysis showed an increase in expression of adipogenic genes in 8-br-cAMP-treated cells. Furthermore, by means of quantitative polymerase chain reaction, we show differences in peroxisome proliferator-activated receptor-gamma activation, either alone or in combination with dexamethasone, thus demonstrating differential effects of the PKA pathway, most likely depending on its mode of activation.\", \n",
      "            \"Study File Name\": \"s_study_sample.txt\", \n",
      "            \"Study Identifier\": \"StudyID_01\", \n",
      "            \"Study Public Release Date\": \"2012-05-30\", \n",
      "            \"Study Researchers Involved\": \"Doorn J, Leusink M, Groen N, van de Peppel J, van Leeuwen JP, van Blitterswijk CA, de Boer J\", \n",
      "            \"Study Submission Date\": \"2011-08-25\", \n",
      "            \"Study Title\": \"Diverse effects of cyclic AMP variants on osteogenic and adipogenic differentiation of human mesenchymal stromal cells\"\n",
      "          }, \n",
      "          \"STUDY ASSAYS\": {\n",
      "            \"Study Assay File Name\": \"a_transcription_micro_1.txt\", \n",
      "            \"Study Assay Measurement Type\": \"transcription profiling\", \n",
      "            \"Study Assay Technology Platform\": \"Illumina\", \n",
      "            \"Study Assay Technology Type\": \"DNA microarray\"\n",
      "          }, \n",
      "          \"STUDY CONTACTS\": [\n",
      "            {\n",
      "              \"Study Person Affiliation\": \"Maastricht University\", \n",
      "              \"Study Person First Name\": \"Jan\", \n",
      "              \"Study Person Last Name\": \"de Boer\"\n",
      "            }, \n",
      "            {\n",
      "              \"Study Person Affiliation\": \"Maastricht University\", \n",
      "              \"Study Person First Name\": \"Dennie\", \n",
      "              \"Study Person Last Name\": \"Hebels\"\n",
      "            }\n",
      "          ], \n",
      "          \"STUDY DESIGN DESCRIPTORS\": {\n",
      "            \"Study Design Type\": \"compound treatment design\"\n",
      "          }, \n",
      "          \"STUDY FACTORS\": [\n",
      "            {\n",
      "              \"Study Factor Name\": \"Age\", \n",
      "              \"Study Factor Type\": \"Age\"\n",
      "            }, \n",
      "            {\n",
      "              \"Study Factor Name\": \"Attach Duration\", \n",
      "              \"Study Factor Type\": \"Attach Duration\"\n",
      "            }, \n",
      "            {\n",
      "              \"Study Factor Name\": \"Compound\", \n",
      "              \"Study Factor Type\": \"Compound\"\n",
      "            }, \n",
      "            {\n",
      "              \"Study Factor Name\": \"Dose\", \n",
      "              \"Study Factor Type\": \"Dose\"\n",
      "            }, \n",
      "            {\n",
      "              \"Study Factor Name\": \"Dose Duration\", \n",
      "              \"Study Factor Type\": \"Dose Duration\"\n",
      "            }, \n",
      "            {\n",
      "              \"Study Factor Name\": \"Dose Frequency\", \n",
      "              \"Study Factor Type\": \"Dose Frequency\"\n",
      "            }, \n",
      "            {\n",
      "              \"Study Factor Name\": \"Culture Duration\", \n",
      "              \"Study Factor Type\": \"Culture Duration\"\n",
      "            }, \n",
      "            {\n",
      "              \"Study Factor Name\": \"Material abbreviation\", \n",
      "              \"Study Factor Type\": \"Material abbreviation\"\n",
      "            }, \n",
      "            {\n",
      "              \"Study Factor Name\": \"Sintering temperature\", \n",
      "              \"Study Factor Type\": \"Sintering temperature\"\n",
      "            }\n",
      "          ], \n",
      "          \"STUDY PROTOCOLS\": [\n",
      "            {\n",
      "              \"Study Protocol Description\": \"Bone marrow aspirates were obtained from donors after obtaining written informed consent. hMSCs were isolated and proliferated as described previously. Briefly, aspirates were resuspended using 20G needles, plated at a density of 5.105 cells/cm2, and cultured in an hMSC proliferation medium, consisting of an alpha-minimal essential medium (alpha-MEM; Life Technologies), 10% fetal bovine serum (FBS; Cambrex Bio sciences, Verviers), 0.2 mM ascorbic acid 2-phosphate (ASAP; Sigma Aldrich), 2 mM L-glutamine (Invitrogen, Life Technologies), 100 U/mL penicillin (Life Technologies), 10 ug/mL streptomycin (Life Technologies), and 1 ng/mL basic fibroblast growth factor (bFGF; Instruchemie). Cells were grown at 37\\u00b0C, in a humid atmosphere with 5% CO2. The medium was refreshed twice a week, and cells were used for further subculturing or cryopreservation upon reaching near confluence. The hMSC basic medium was composed of a proliferation medium without bFGF.\\nFor whole-genome expression analysis, hMSCs were seeded in 12-well plates at 5000 cells/cm2 and allowed to attach for 10\\u201315 h in a proliferation medium. The next day, either a basic medium or a basic medium supplemented with 1 mM db-cAMP or 8-br-cAMP was added. After 6 or 72 h of treatment, cells were lyzed directly from the plate, and RNA was isolated.\", \n",
      "              \"Study Protocol Name\": \"Protocol_01_Sample_treatment\", \n",
      "              \"Study Protocol Type\": \"Protocol_01_Sample_treatment\"\n",
      "            }, \n",
      "            {\n",
      "              \"Study Protocol Description\": \"In this study no materials were synthesized. All cells were grown on standard 12-well polystyrene plates.\", \n",
      "              \"Study Protocol Name\": \"Protocol_02_Material_synthesis\", \n",
      "              \"Study Protocol Type\": \"Protocol_02_Material_synthesis\"\n",
      "            }, \n",
      "            {\n",
      "              \"Study Protocol Description\": \"After 6 or 72 h of treatment, cells were lyzed directly from the plate. RNA was isolated using a Bioke RNA II nucleospin RNA isolation kit (Machery Nagel), and RNA concentrations were measured using an ND100 spectrophotometer (Nanodrop technologies).\", \n",
      "              \"Study Protocol Name\": \"Protocol_03_RNA_extraction\", \n",
      "              \"Study Protocol Type\": \"Protocol_03_RNA_extraction\"\n",
      "            }, \n",
      "            {\n",
      "              \"Study Protocol Description\": \"From 500 ng of RNA, cRNA was synthesized using the Illumina TotalPrep RNA amplification Kit (Ambion/Life Technologies), according to the manufacturer's protocol, and RNA and cRNA quality was verified on Bioanalyzer 2100 (Agilent).\", \n",
      "              \"Study Protocol Name\": \"Protocol_04_Labeling\", \n",
      "              \"Study Protocol Type\": \"Protocol_04_Labeling\"\n",
      "            }, \n",
      "            {\n",
      "              \"Study Protocol Description\": \"Microarrays were performed using Illumina HT-12 v3 expression Beadchips (Illumina), according to the manufacturer's protocol. Briefly, 750 ng of cRNA was hybridized on the array overnight, after which the array was washed and blocked. Then, by addition of streptavidin Cy-3 (Illumina), a fluorescent signal was developed.\", \n",
      "              \"Study Protocol Name\": \"Protocol_05_Nucleic_acid_hybridization\", \n",
      "              \"Study Protocol Parameters Name\": \"Hybridization Date\", \n",
      "              \"Study Protocol Type\": \"Protocol_05_Nucleic_acid_hybridization\"\n",
      "            }, \n",
      "            {\n",
      "              \"Study Protocol Description\": \"Arrays were scanned on an Illumina iScan, and raw intensity values were background corrected in Genomestudio (Illumina). Further data processing and statistical testing were performed using R and Bioconductor statistical software (www.bioconductor.org/).\", \n",
      "              \"Study Protocol Name\": \"Protocol_06_Data_collection\", \n",
      "              \"Study Protocol Type\": \"Protocol_06_Data_collection\"\n",
      "            }, \n",
      "            {\n",
      "              \"Study Protocol Description\": \"The probe-level raw intensity values were quantile normalized.\", \n",
      "              \"Study Protocol Name\": \"Protocol_07_Normalization_data_transformation\", \n",
      "              \"Study Protocol Parameters Name\": \"Background correction\", \n",
      "              \"Study Protocol Type\": \"Protocol_07_Normalization_data_transformation\"\n",
      "            }, \n",
      "            {\n",
      "              \"Study Protocol Description\": \"The normalized intensity values were transformed using variance stabilization.\", \n",
      "              \"Study Protocol Name\": \"Protocol_08_Data transformation\", \n",
      "              \"Study Protocol Type\": \"Protocol_08_Data transformation\"\n",
      "            }\n",
      "          ], \n",
      "          \"STUDY PUBLICATIONS\": [\n",
      "            {\n",
      "              \"Study PubMed ID\": \"22646480\", \n",
      "              \"Study Publication Author List\": \"Doorn J, Leusink M, Groen N, van de Peppel J, van Leeuwen JP, van Blitterswijk CA, de Boer J\", \n",
      "              \"Study Publication DOI\": \"10.1089/ten.TEA.2011.0484\", \n",
      "              \"Study Publication Status\": \"published\", \n",
      "              \"Study Publication Status Term Accession Number\": \"http://www.ebi.ac.uk/efo/EFO_0001796\", \n",
      "              \"Study Publication Status Term Source REF\": \"EFO\", \n",
      "              \"Study Publication Title\": \"Diverse effects of cyclic AMP variants on osteogenic and adipogenic differentiation of human mesenchymal stromal cells\"\n",
      "            }\n",
      "          ]\n",
      "        }, \n",
      "        \"_type\": \"study\"\n",
      "      }\n",
      "    ], \n",
      "    \"max_score\": 1.0, \n",
      "    \"total\": 1\n",
      "  }, \n",
      "  \"timed_out\": false, \n",
      "  \"took\": 2\n",
      "}\n"
     ]
    }
   ],
   "source": [
    "print(json.dumps(esResult, indent=2, sort_keys=True))"
   ]
  },
  {
   "cell_type": "markdown",
   "metadata": {},
   "source": [
    "Taking a step back to follow the tutorial on [https://www.elastic.co/guide/en/elasticsearch/guide/current](`ElasticSearch: The Definitive Guide`)"
   ]
  },
  {
   "cell_type": "code",
   "execution_count": 23,
   "metadata": {
    "collapsed": false
   },
   "outputs": [
    {
     "data": {
      "text/plain": [
       "{u'_id': u'1',\n",
       " u'_index': u'megacorp',\n",
       " u'_shards': {u'failed': 0, u'successful': 1, u'total': 2},\n",
       " u'_type': u'employee',\n",
       " u'_version': 2,\n",
       " u'created': False}"
      ]
     },
     "execution_count": 23,
     "metadata": {},
     "output_type": "execute_result"
    }
   ],
   "source": [
    "es.index(index='megacorp', doc_type='employee', id=1, body={\n",
    "    \"first_name\" : \"John\",\n",
    "    \"last_name\" :  \"Smith\",\n",
    "    \"age\" :        25,\n",
    "    \"about\" :      \"I love to go rock climbing\",\n",
    "    \"interests\": [ \"sports\", \"music\" ]\n",
    "})"
   ]
  },
  {
   "cell_type": "code",
   "execution_count": 24,
   "metadata": {
    "collapsed": false
   },
   "outputs": [
    {
     "data": {
      "text/plain": [
       "{u'_id': u'2',\n",
       " u'_index': u'megacorp',\n",
       " u'_shards': {u'failed': 0, u'successful': 1, u'total': 2},\n",
       " u'_type': u'employee',\n",
       " u'_version': 2,\n",
       " u'created': False}"
      ]
     },
     "execution_count": 24,
     "metadata": {},
     "output_type": "execute_result"
    }
   ],
   "source": [
    "es.index(index='megacorp', doc_type='employee', id=2, body={\n",
    "    \"first_name\" :  \"Jane\",\n",
    "    \"last_name\" :   \"Smith\",\n",
    "    \"age\" :         32,\n",
    "    \"about\" :       \"I like to collect rock albums\",\n",
    "    \"interests\":  [ \"music\" ]\n",
    "})"
   ]
  },
  {
   "cell_type": "code",
   "execution_count": 25,
   "metadata": {
    "collapsed": false
   },
   "outputs": [
    {
     "data": {
      "text/plain": [
       "{u'_id': u'3',\n",
       " u'_index': u'megacorp',\n",
       " u'_shards': {u'failed': 0, u'successful': 1, u'total': 2},\n",
       " u'_type': u'employee',\n",
       " u'_version': 2,\n",
       " u'created': False}"
      ]
     },
     "execution_count": 25,
     "metadata": {},
     "output_type": "execute_result"
    }
   ],
   "source": [
    "es.index(index='megacorp', doc_type='employee', id=3, body={\n",
    "    \"first_name\" :  \"Douglas\",\n",
    "    \"last_name\" :   \"Fir\",\n",
    "    \"age\" :         35,\n",
    "    \"about\":        \"I like to build cabinets\",\n",
    "    \"interests\":  [ \"forestry\" ]\n",
    "})"
   ]
  },
  {
   "cell_type": "code",
   "execution_count": 26,
   "metadata": {
    "collapsed": false
   },
   "outputs": [
    {
     "data": {
      "text/plain": [
       "{u'_id': u'1',\n",
       " u'_index': u'megacorp',\n",
       " u'_source': {u'about': u'I love to go rock climbing',\n",
       "  u'age': 25,\n",
       "  u'first_name': u'John',\n",
       "  u'interests': [u'sports', u'music'],\n",
       "  u'last_name': u'Smith'},\n",
       " u'_type': u'employee',\n",
       " u'_version': 2,\n",
       " u'found': True}"
      ]
     },
     "execution_count": 26,
     "metadata": {},
     "output_type": "execute_result"
    }
   ],
   "source": [
    "es.get(index='megacorp', doc_type='employee', id=1)"
   ]
  },
  {
   "cell_type": "code",
   "execution_count": 27,
   "metadata": {
    "collapsed": false
   },
   "outputs": [
    {
     "data": {
      "text/plain": [
       "{u'_id': u'2',\n",
       " u'_index': u'megacorp',\n",
       " u'_source': {u'about': u'I like to collect rock albums',\n",
       "  u'age': 32,\n",
       "  u'first_name': u'Jane',\n",
       "  u'interests': [u'music'],\n",
       "  u'last_name': u'Smith'},\n",
       " u'_type': u'employee',\n",
       " u'_version': 2,\n",
       " u'found': True}"
      ]
     },
     "execution_count": 27,
     "metadata": {},
     "output_type": "execute_result"
    }
   ],
   "source": [
    "es.get(index='megacorp', doc_type='employee', id=2)"
   ]
  },
  {
   "cell_type": "code",
   "execution_count": 28,
   "metadata": {
    "collapsed": false
   },
   "outputs": [
    {
     "data": {
      "text/plain": [
       "{u'_id': u'3',\n",
       " u'_index': u'megacorp',\n",
       " u'_source': {u'about': u'I like to build cabinets',\n",
       "  u'age': 35,\n",
       "  u'first_name': u'Douglas',\n",
       "  u'interests': [u'forestry'],\n",
       "  u'last_name': u'Fir'},\n",
       " u'_type': u'employee',\n",
       " u'_version': 2,\n",
       " u'found': True}"
      ]
     },
     "execution_count": 28,
     "metadata": {},
     "output_type": "execute_result"
    }
   ],
   "source": [
    "es.get(index='megacorp', doc_type='employee', id=3)"
   ]
  },
  {
   "cell_type": "code",
   "execution_count": 29,
   "metadata": {
    "collapsed": false
   },
   "outputs": [
    {
     "ename": "NotFoundError",
     "evalue": "TransportError(404, u'{\"_index\":\"megacorp\",\"_type\":\"employee\",\"_id\":\"4\",\"found\":false}')",
     "output_type": "error",
     "traceback": [
      "\u001b[0;31m---------------------------------------------------------------------------\u001b[0m",
      "\u001b[0;31mNotFoundError\u001b[0m                             Traceback (most recent call last)",
      "\u001b[0;32m<ipython-input-29-b2a6644f5d8b>\u001b[0m in \u001b[0;36m<module>\u001b[0;34m()\u001b[0m\n\u001b[0;32m----> 1\u001b[0;31m \u001b[0mes\u001b[0m\u001b[0;34m.\u001b[0m\u001b[0mget\u001b[0m\u001b[0;34m(\u001b[0m\u001b[0mindex\u001b[0m\u001b[0;34m=\u001b[0m\u001b[0;34m'megacorp'\u001b[0m\u001b[0;34m,\u001b[0m \u001b[0mdoc_type\u001b[0m\u001b[0;34m=\u001b[0m\u001b[0;34m'employee'\u001b[0m\u001b[0;34m,\u001b[0m \u001b[0mid\u001b[0m\u001b[0;34m=\u001b[0m\u001b[0;36m4\u001b[0m\u001b[0;34m)\u001b[0m\u001b[0;34m\u001b[0m\u001b[0m\n\u001b[0m",
      "\u001b[0;32m/Users/pat/Work/VarillySciences/2016_UMaastricht/cbit/venv/lib/python2.7/site-packages/elasticsearch/client/utils.pyc\u001b[0m in \u001b[0;36m_wrapped\u001b[0;34m(*args, **kwargs)\u001b[0m\n\u001b[1;32m     69\u001b[0m                 \u001b[0;32mif\u001b[0m \u001b[0mp\u001b[0m \u001b[0;32min\u001b[0m \u001b[0mkwargs\u001b[0m\u001b[0;34m:\u001b[0m\u001b[0;34m\u001b[0m\u001b[0m\n\u001b[1;32m     70\u001b[0m                     \u001b[0mparams\u001b[0m\u001b[0;34m[\u001b[0m\u001b[0mp\u001b[0m\u001b[0;34m]\u001b[0m \u001b[0;34m=\u001b[0m \u001b[0mkwargs\u001b[0m\u001b[0;34m.\u001b[0m\u001b[0mpop\u001b[0m\u001b[0;34m(\u001b[0m\u001b[0mp\u001b[0m\u001b[0;34m)\u001b[0m\u001b[0;34m\u001b[0m\u001b[0m\n\u001b[0;32m---> 71\u001b[0;31m             \u001b[0;32mreturn\u001b[0m \u001b[0mfunc\u001b[0m\u001b[0;34m(\u001b[0m\u001b[0;34m*\u001b[0m\u001b[0margs\u001b[0m\u001b[0;34m,\u001b[0m \u001b[0mparams\u001b[0m\u001b[0;34m=\u001b[0m\u001b[0mparams\u001b[0m\u001b[0;34m,\u001b[0m \u001b[0;34m**\u001b[0m\u001b[0mkwargs\u001b[0m\u001b[0;34m)\u001b[0m\u001b[0;34m\u001b[0m\u001b[0m\n\u001b[0m\u001b[1;32m     72\u001b[0m         \u001b[0;32mreturn\u001b[0m \u001b[0m_wrapped\u001b[0m\u001b[0;34m\u001b[0m\u001b[0m\n\u001b[1;32m     73\u001b[0m     \u001b[0;32mreturn\u001b[0m \u001b[0m_wrapper\u001b[0m\u001b[0;34m\u001b[0m\u001b[0m\n",
      "\u001b[0;32m/Users/pat/Work/VarillySciences/2016_UMaastricht/cbit/venv/lib/python2.7/site-packages/elasticsearch/client/__init__.pyc\u001b[0m in \u001b[0;36mget\u001b[0;34m(self, index, id, doc_type, params)\u001b[0m\n\u001b[1;32m    361\u001b[0m                 \u001b[0;32mraise\u001b[0m \u001b[0mValueError\u001b[0m\u001b[0;34m(\u001b[0m\u001b[0;34m\"Empty value passed for a required argument.\"\u001b[0m\u001b[0;34m)\u001b[0m\u001b[0;34m\u001b[0m\u001b[0m\n\u001b[1;32m    362\u001b[0m         return self.transport.perform_request('GET', _make_path(index,\n\u001b[0;32m--> 363\u001b[0;31m             doc_type, id), params=params)\n\u001b[0m\u001b[1;32m    364\u001b[0m \u001b[0;34m\u001b[0m\u001b[0m\n\u001b[1;32m    365\u001b[0m     @query_params('_source', '_source_exclude', '_source_include', 'parent',\n",
      "\u001b[0;32m/Users/pat/Work/VarillySciences/2016_UMaastricht/cbit/venv/lib/python2.7/site-packages/elasticsearch/transport.pyc\u001b[0m in \u001b[0;36mperform_request\u001b[0;34m(self, method, url, params, body)\u001b[0m\n\u001b[1;32m    325\u001b[0m \u001b[0;34m\u001b[0m\u001b[0m\n\u001b[1;32m    326\u001b[0m             \u001b[0;32mtry\u001b[0m\u001b[0;34m:\u001b[0m\u001b[0;34m\u001b[0m\u001b[0m\n\u001b[0;32m--> 327\u001b[0;31m                 \u001b[0mstatus\u001b[0m\u001b[0;34m,\u001b[0m \u001b[0mheaders\u001b[0m\u001b[0;34m,\u001b[0m \u001b[0mdata\u001b[0m \u001b[0;34m=\u001b[0m \u001b[0mconnection\u001b[0m\u001b[0;34m.\u001b[0m\u001b[0mperform_request\u001b[0m\u001b[0;34m(\u001b[0m\u001b[0mmethod\u001b[0m\u001b[0;34m,\u001b[0m \u001b[0murl\u001b[0m\u001b[0;34m,\u001b[0m \u001b[0mparams\u001b[0m\u001b[0;34m,\u001b[0m \u001b[0mbody\u001b[0m\u001b[0;34m,\u001b[0m \u001b[0mignore\u001b[0m\u001b[0;34m=\u001b[0m\u001b[0mignore\u001b[0m\u001b[0;34m,\u001b[0m \u001b[0mtimeout\u001b[0m\u001b[0;34m=\u001b[0m\u001b[0mtimeout\u001b[0m\u001b[0;34m)\u001b[0m\u001b[0;34m\u001b[0m\u001b[0m\n\u001b[0m\u001b[1;32m    328\u001b[0m \u001b[0;34m\u001b[0m\u001b[0m\n\u001b[1;32m    329\u001b[0m             \u001b[0;32mexcept\u001b[0m \u001b[0mTransportError\u001b[0m \u001b[0;32mas\u001b[0m \u001b[0me\u001b[0m\u001b[0;34m:\u001b[0m\u001b[0;34m\u001b[0m\u001b[0m\n",
      "\u001b[0;32m/Users/pat/Work/VarillySciences/2016_UMaastricht/cbit/venv/lib/python2.7/site-packages/elasticsearch/connection/http_urllib3.pyc\u001b[0m in \u001b[0;36mperform_request\u001b[0;34m(self, method, url, params, body, timeout, ignore)\u001b[0m\n\u001b[1;32m    122\u001b[0m         \u001b[0;32mif\u001b[0m \u001b[0;32mnot\u001b[0m \u001b[0;34m(\u001b[0m\u001b[0;36m200\u001b[0m \u001b[0;34m<=\u001b[0m \u001b[0mresponse\u001b[0m\u001b[0;34m.\u001b[0m\u001b[0mstatus\u001b[0m \u001b[0;34m<\u001b[0m \u001b[0;36m300\u001b[0m\u001b[0;34m)\u001b[0m \u001b[0;32mand\u001b[0m \u001b[0mresponse\u001b[0m\u001b[0;34m.\u001b[0m\u001b[0mstatus\u001b[0m \u001b[0;32mnot\u001b[0m \u001b[0;32min\u001b[0m \u001b[0mignore\u001b[0m\u001b[0;34m:\u001b[0m\u001b[0;34m\u001b[0m\u001b[0m\n\u001b[1;32m    123\u001b[0m             \u001b[0mself\u001b[0m\u001b[0;34m.\u001b[0m\u001b[0mlog_request_fail\u001b[0m\u001b[0;34m(\u001b[0m\u001b[0mmethod\u001b[0m\u001b[0;34m,\u001b[0m \u001b[0mfull_url\u001b[0m\u001b[0;34m,\u001b[0m \u001b[0murl\u001b[0m\u001b[0;34m,\u001b[0m \u001b[0mbody\u001b[0m\u001b[0;34m,\u001b[0m \u001b[0mduration\u001b[0m\u001b[0;34m,\u001b[0m \u001b[0mresponse\u001b[0m\u001b[0;34m.\u001b[0m\u001b[0mstatus\u001b[0m\u001b[0;34m,\u001b[0m \u001b[0mraw_data\u001b[0m\u001b[0;34m)\u001b[0m\u001b[0;34m\u001b[0m\u001b[0m\n\u001b[0;32m--> 124\u001b[0;31m             \u001b[0mself\u001b[0m\u001b[0;34m.\u001b[0m\u001b[0m_raise_error\u001b[0m\u001b[0;34m(\u001b[0m\u001b[0mresponse\u001b[0m\u001b[0;34m.\u001b[0m\u001b[0mstatus\u001b[0m\u001b[0;34m,\u001b[0m \u001b[0mraw_data\u001b[0m\u001b[0;34m)\u001b[0m\u001b[0;34m\u001b[0m\u001b[0m\n\u001b[0m\u001b[1;32m    125\u001b[0m \u001b[0;34m\u001b[0m\u001b[0m\n\u001b[1;32m    126\u001b[0m         self.log_request_success(method, full_url, url, body, response.status,\n",
      "\u001b[0;32m/Users/pat/Work/VarillySciences/2016_UMaastricht/cbit/venv/lib/python2.7/site-packages/elasticsearch/connection/base.pyc\u001b[0m in \u001b[0;36m_raise_error\u001b[0;34m(self, status_code, raw_data)\u001b[0m\n\u001b[1;32m    120\u001b[0m             \u001b[0mlogger\u001b[0m\u001b[0;34m.\u001b[0m\u001b[0mwarning\u001b[0m\u001b[0;34m(\u001b[0m\u001b[0;34m'Undecodable raw error response from server: %s'\u001b[0m\u001b[0;34m,\u001b[0m \u001b[0merr\u001b[0m\u001b[0;34m)\u001b[0m\u001b[0;34m\u001b[0m\u001b[0m\n\u001b[1;32m    121\u001b[0m \u001b[0;34m\u001b[0m\u001b[0m\n\u001b[0;32m--> 122\u001b[0;31m         \u001b[0;32mraise\u001b[0m \u001b[0mHTTP_EXCEPTIONS\u001b[0m\u001b[0;34m.\u001b[0m\u001b[0mget\u001b[0m\u001b[0;34m(\u001b[0m\u001b[0mstatus_code\u001b[0m\u001b[0;34m,\u001b[0m \u001b[0mTransportError\u001b[0m\u001b[0;34m)\u001b[0m\u001b[0;34m(\u001b[0m\u001b[0mstatus_code\u001b[0m\u001b[0;34m,\u001b[0m \u001b[0merror_message\u001b[0m\u001b[0;34m,\u001b[0m \u001b[0madditional_info\u001b[0m\u001b[0;34m)\u001b[0m\u001b[0;34m\u001b[0m\u001b[0m\n\u001b[0m\u001b[1;32m    123\u001b[0m \u001b[0;34m\u001b[0m\u001b[0m\n\u001b[1;32m    124\u001b[0m \u001b[0;34m\u001b[0m\u001b[0m\n",
      "\u001b[0;31mNotFoundError\u001b[0m: TransportError(404, u'{\"_index\":\"megacorp\",\"_type\":\"employee\",\"_id\":\"4\",\"found\":false}')"
     ]
    }
   ],
   "source": [
    "es.get(index='megacorp', doc_type='employee', id=4)"
   ]
  },
  {
   "cell_type": "code",
   "execution_count": 30,
   "metadata": {
    "collapsed": false
   },
   "outputs": [
    {
     "data": {
      "text/plain": [
       "False"
      ]
     },
     "execution_count": 30,
     "metadata": {},
     "output_type": "execute_result"
    }
   ],
   "source": [
    "es.exists(index='megacorp', doc_type='employee', id=4)"
   ]
  },
  {
   "cell_type": "code",
   "execution_count": 31,
   "metadata": {
    "collapsed": false
   },
   "outputs": [
    {
     "data": {
      "text/plain": [
       "True"
      ]
     },
     "execution_count": 31,
     "metadata": {},
     "output_type": "execute_result"
    }
   ],
   "source": [
    "es.exists(index='megacorp', doc_type='employee', id=3)"
   ]
  },
  {
   "cell_type": "code",
   "execution_count": 32,
   "metadata": {
    "collapsed": false
   },
   "outputs": [
    {
     "data": {
      "text/plain": [
       "{u'_id': u'3',\n",
       " u'_index': u'megacorp',\n",
       " u'_shards': {u'failed': 0, u'successful': 1, u'total': 2},\n",
       " u'_type': u'employee',\n",
       " u'_version': 3,\n",
       " u'found': True}"
      ]
     },
     "execution_count": 32,
     "metadata": {},
     "output_type": "execute_result"
    }
   ],
   "source": [
    "es.delete(index='megacorp', doc_type='employee', id=3)"
   ]
  },
  {
   "cell_type": "code",
   "execution_count": 33,
   "metadata": {
    "collapsed": false
   },
   "outputs": [
    {
     "data": {
      "text/plain": [
       "False"
      ]
     },
     "execution_count": 33,
     "metadata": {},
     "output_type": "execute_result"
    }
   ],
   "source": [
    "es.exists(index='megacorp', doc_type='employee', id=3)"
   ]
  },
  {
   "cell_type": "code",
   "execution_count": 34,
   "metadata": {
    "collapsed": false
   },
   "outputs": [
    {
     "data": {
      "text/plain": [
       "{u'_id': u'3',\n",
       " u'_index': u'megacorp',\n",
       " u'_shards': {u'failed': 0, u'successful': 1, u'total': 2},\n",
       " u'_type': u'employee',\n",
       " u'_version': 4,\n",
       " u'created': True}"
      ]
     },
     "execution_count": 34,
     "metadata": {},
     "output_type": "execute_result"
    }
   ],
   "source": [
    "es.index(index='megacorp', doc_type='employee', id=3, body={\n",
    "    \"first_name\" :  \"Douglas\",\n",
    "    \"last_name\" :   \"Fir\",\n",
    "    \"age\" :         35,\n",
    "    \"about\":        \"I like to build cabinets\",\n",
    "    \"interests\":  [ \"forestry\" ]\n",
    "})"
   ]
  },
  {
   "cell_type": "code",
   "execution_count": 35,
   "metadata": {
    "collapsed": false
   },
   "outputs": [
    {
     "data": {
      "text/plain": [
       "{u'_id': u'3',\n",
       " u'_index': u'megacorp',\n",
       " u'_source': {u'about': u'I like to build cabinets',\n",
       "  u'age': 35,\n",
       "  u'first_name': u'Douglas',\n",
       "  u'interests': [u'forestry'],\n",
       "  u'last_name': u'Fir'},\n",
       " u'_type': u'employee',\n",
       " u'_version': 4,\n",
       " u'found': True}"
      ]
     },
     "execution_count": 35,
     "metadata": {},
     "output_type": "execute_result"
    }
   ],
   "source": [
    "es.get(index='megacorp', doc_type='employee', id=3)"
   ]
  },
  {
   "cell_type": "code",
   "execution_count": 36,
   "metadata": {
    "collapsed": false
   },
   "outputs": [
    {
     "data": {
      "text/plain": [
       "{u'_shards': {u'failed': 0, u'successful': 5, u'total': 5},\n",
       " u'hits': {u'hits': [{u'_id': u'2',\n",
       "    u'_index': u'megacorp',\n",
       "    u'_score': 1.0,\n",
       "    u'_source': {u'about': u'I like to collect rock albums',\n",
       "     u'age': 32,\n",
       "     u'first_name': u'Jane',\n",
       "     u'interests': [u'music'],\n",
       "     u'last_name': u'Smith'},\n",
       "    u'_type': u'employee'},\n",
       "   {u'_id': u'1',\n",
       "    u'_index': u'megacorp',\n",
       "    u'_score': 1.0,\n",
       "    u'_source': {u'about': u'I love to go rock climbing',\n",
       "     u'age': 25,\n",
       "     u'first_name': u'John',\n",
       "     u'interests': [u'sports', u'music'],\n",
       "     u'last_name': u'Smith'},\n",
       "    u'_type': u'employee'},\n",
       "   {u'_id': u'3',\n",
       "    u'_index': u'megacorp',\n",
       "    u'_score': 1.0,\n",
       "    u'_source': {u'about': u'I like to build cabinets',\n",
       "     u'age': 35,\n",
       "     u'first_name': u'Douglas',\n",
       "     u'interests': [u'forestry'],\n",
       "     u'last_name': u'Fir'},\n",
       "    u'_type': u'employee'}],\n",
       "  u'max_score': 1.0,\n",
       "  u'total': 3},\n",
       " u'timed_out': False,\n",
       " u'took': 18}"
      ]
     },
     "execution_count": 36,
     "metadata": {},
     "output_type": "execute_result"
    }
   ],
   "source": [
    "es.search(index='megacorp', doc_type='employee')"
   ]
  },
  {
   "cell_type": "code",
   "execution_count": 38,
   "metadata": {
    "collapsed": false
   },
   "outputs": [
    {
     "data": {
      "text/plain": [
       "{u'_shards': {u'failed': 0, u'successful': 5, u'total': 5},\n",
       " u'hits': {u'hits': [{u'_id': u'2',\n",
       "    u'_index': u'megacorp',\n",
       "    u'_score': 0.30685282,\n",
       "    u'_source': {u'about': u'I like to collect rock albums',\n",
       "     u'age': 32,\n",
       "     u'first_name': u'Jane',\n",
       "     u'interests': [u'music'],\n",
       "     u'last_name': u'Smith'},\n",
       "    u'_type': u'employee'},\n",
       "   {u'_id': u'1',\n",
       "    u'_index': u'megacorp',\n",
       "    u'_score': 0.30685282,\n",
       "    u'_source': {u'about': u'I love to go rock climbing',\n",
       "     u'age': 25,\n",
       "     u'first_name': u'John',\n",
       "     u'interests': [u'sports', u'music'],\n",
       "     u'last_name': u'Smith'},\n",
       "    u'_type': u'employee'}],\n",
       "  u'max_score': 0.30685282,\n",
       "  u'total': 2},\n",
       " u'timed_out': False,\n",
       " u'took': 3}"
      ]
     },
     "execution_count": 38,
     "metadata": {},
     "output_type": "execute_result"
    }
   ],
   "source": [
    "es.search(index='megacorp', doc_type='employee', q='last_name:Smith')"
   ]
  },
  {
   "cell_type": "code",
   "execution_count": 39,
   "metadata": {
    "collapsed": false
   },
   "outputs": [
    {
     "data": {
      "text/plain": [
       "{u'_shards': {u'failed': 0, u'successful': 5, u'total': 5},\n",
       " u'hits': {u'hits': [{u'_id': u'2',\n",
       "    u'_index': u'megacorp',\n",
       "    u'_score': 0.30685282,\n",
       "    u'_source': {u'about': u'I like to collect rock albums',\n",
       "     u'age': 32,\n",
       "     u'first_name': u'Jane',\n",
       "     u'interests': [u'music'],\n",
       "     u'last_name': u'Smith'},\n",
       "    u'_type': u'employee'},\n",
       "   {u'_id': u'1',\n",
       "    u'_index': u'megacorp',\n",
       "    u'_score': 0.30685282,\n",
       "    u'_source': {u'about': u'I love to go rock climbing',\n",
       "     u'age': 25,\n",
       "     u'first_name': u'John',\n",
       "     u'interests': [u'sports', u'music'],\n",
       "     u'last_name': u'Smith'},\n",
       "    u'_type': u'employee'}],\n",
       "  u'max_score': 0.30685282,\n",
       "  u'total': 2},\n",
       " u'timed_out': False,\n",
       " u'took': 6}"
      ]
     },
     "execution_count": 39,
     "metadata": {},
     "output_type": "execute_result"
    }
   ],
   "source": [
    "es.search(index='megacorp', doc_type='employee', body={\n",
    "        \"query\": {\n",
    "            \"match\": {\n",
    "                \"last_name\": \"Smith\"\n",
    "            }\n",
    "        }\n",
    "    })"
   ]
  },
  {
   "cell_type": "code",
   "execution_count": 40,
   "metadata": {
    "collapsed": false
   },
   "outputs": [
    {
     "data": {
      "text/plain": [
       "{u'_shards': {u'failed': 0, u'successful': 5, u'total': 5},\n",
       " u'hits': {u'hits': [{u'_id': u'2',\n",
       "    u'_index': u'megacorp',\n",
       "    u'_score': 0.30685282,\n",
       "    u'_source': {u'about': u'I like to collect rock albums',\n",
       "     u'age': 32,\n",
       "     u'first_name': u'Jane',\n",
       "     u'interests': [u'music'],\n",
       "     u'last_name': u'Smith'},\n",
       "    u'_type': u'employee'}],\n",
       "  u'max_score': 0.30685282,\n",
       "  u'total': 1},\n",
       " u'timed_out': False,\n",
       " u'took': 9}"
      ]
     },
     "execution_count": 40,
     "metadata": {},
     "output_type": "execute_result"
    }
   ],
   "source": [
    "es.search(index='megacorp', doc_type='employee', body={\n",
    "        \"query\": {\n",
    "            \"bool\": {\n",
    "                \"must\": {\n",
    "                    \"match\": {\n",
    "                        \"last_name\": \"Smith\"\n",
    "                    }\n",
    "                },\n",
    "                \"filter\": {\n",
    "                    \"range\": {\n",
    "                        \"age\": { \"gt\": 30 }\n",
    "                    }\n",
    "                }\n",
    "            }\n",
    "        }\n",
    "    })"
   ]
  },
  {
   "cell_type": "code",
   "execution_count": 42,
   "metadata": {
    "collapsed": false
   },
   "outputs": [
    {
     "data": {
      "text/plain": [
       "{u'_shards': {u'failed': 0, u'successful': 5, u'total': 5},\n",
       " u'hits': {u'hits': [{u'_id': u'1',\n",
       "    u'_index': u'megacorp',\n",
       "    u'_score': 0.16273327,\n",
       "    u'_source': {u'about': u'I love to go rock climbing',\n",
       "     u'age': 25,\n",
       "     u'first_name': u'John',\n",
       "     u'interests': [u'sports', u'music'],\n",
       "     u'last_name': u'Smith'},\n",
       "    u'_type': u'employee'},\n",
       "   {u'_id': u'2',\n",
       "    u'_index': u'megacorp',\n",
       "    u'_score': 0.016878016,\n",
       "    u'_source': {u'about': u'I like to collect rock albums',\n",
       "     u'age': 32,\n",
       "     u'first_name': u'Jane',\n",
       "     u'interests': [u'music'],\n",
       "     u'last_name': u'Smith'},\n",
       "    u'_type': u'employee'}],\n",
       "  u'max_score': 0.16273327,\n",
       "  u'total': 2},\n",
       " u'timed_out': False,\n",
       " u'took': 5}"
      ]
     },
     "execution_count": 42,
     "metadata": {},
     "output_type": "execute_result"
    }
   ],
   "source": [
    "es.search(index='megacorp', doc_type='employee', body={\n",
    "        \"query\": {\n",
    "            \"match\": {\n",
    "                \"about\": \"rock climbing\"\n",
    "            }\n",
    "        }\n",
    "    })"
   ]
  },
  {
   "cell_type": "code",
   "execution_count": 43,
   "metadata": {
    "collapsed": false
   },
   "outputs": [
    {
     "data": {
      "text/plain": [
       "{u'_shards': {u'failed': 0, u'successful': 5, u'total': 5},\n",
       " u'hits': {u'hits': [{u'_id': u'1',\n",
       "    u'_index': u'megacorp',\n",
       "    u'_score': 0.23013961,\n",
       "    u'_source': {u'about': u'I love to go rock climbing',\n",
       "     u'age': 25,\n",
       "     u'first_name': u'John',\n",
       "     u'interests': [u'sports', u'music'],\n",
       "     u'last_name': u'Smith'},\n",
       "    u'_type': u'employee'}],\n",
       "  u'max_score': 0.23013961,\n",
       "  u'total': 1},\n",
       " u'timed_out': False,\n",
       " u'took': 14}"
      ]
     },
     "execution_count": 43,
     "metadata": {},
     "output_type": "execute_result"
    }
   ],
   "source": [
    "es.search(index='megacorp', doc_type='employee', body={\n",
    "        \"query\": {\n",
    "            \"match_phrase\": {\n",
    "                \"about\": \"rock climbing\"\n",
    "            }\n",
    "        }\n",
    "    })"
   ]
  },
  {
   "cell_type": "code",
   "execution_count": 45,
   "metadata": {
    "collapsed": false
   },
   "outputs": [
    {
     "data": {
      "text/plain": [
       "{u'_shards': {u'failed': 0, u'successful': 5, u'total': 5},\n",
       " u'hits': {u'hits': [{u'_id': u'1',\n",
       "    u'_index': u'megacorp',\n",
       "    u'_score': 0.23013961,\n",
       "    u'_source': {u'about': u'I love to go rock climbing',\n",
       "     u'age': 25,\n",
       "     u'first_name': u'John',\n",
       "     u'interests': [u'sports', u'music'],\n",
       "     u'last_name': u'Smith'},\n",
       "    u'_type': u'employee',\n",
       "    u'highlight': {u'about': [u'I love to go <em>rock</em> <em>climbing</em>']}}],\n",
       "  u'max_score': 0.23013961,\n",
       "  u'total': 1},\n",
       " u'timed_out': False,\n",
       " u'took': 35}"
      ]
     },
     "execution_count": 45,
     "metadata": {},
     "output_type": "execute_result"
    }
   ],
   "source": [
    "es.search(index='megacorp', doc_type='employee', body={\n",
    "        \"query\": {\n",
    "            \"match_phrase\": {\n",
    "                \"about\": \"rock climbing\"\n",
    "            }\n",
    "        },\n",
    "        \"highlight\": {\n",
    "            \"fields\": {\n",
    "                \"about\": {}\n",
    "            }\n",
    "        }\n",
    "    })"
   ]
  },
  {
   "cell_type": "code",
   "execution_count": 47,
   "metadata": {
    "collapsed": false
   },
   "outputs": [
    {
     "name": "stdout",
     "output_type": "stream",
     "text": [
      "{\n",
      "  \"_shards\": {\n",
      "    \"failed\": 0, \n",
      "    \"successful\": 5, \n",
      "    \"total\": 5\n",
      "  }, \n",
      "  \"aggregations\": {\n",
      "    \"all_interests\": {\n",
      "      \"buckets\": [\n",
      "        {\n",
      "          \"doc_count\": 2, \n",
      "          \"key\": \"music\"\n",
      "        }, \n",
      "        {\n",
      "          \"doc_count\": 1, \n",
      "          \"key\": \"forestry\"\n",
      "        }, \n",
      "        {\n",
      "          \"doc_count\": 1, \n",
      "          \"key\": \"sports\"\n",
      "        }\n",
      "      ], \n",
      "      \"doc_count_error_upper_bound\": 0, \n",
      "      \"sum_other_doc_count\": 0\n",
      "    }\n",
      "  }, \n",
      "  \"hits\": {\n",
      "    \"hits\": [\n",
      "      {\n",
      "        \"_id\": \"2\", \n",
      "        \"_index\": \"megacorp\", \n",
      "        \"_score\": 1.0, \n",
      "        \"_source\": {\n",
      "          \"about\": \"I like to collect rock albums\", \n",
      "          \"age\": 32, \n",
      "          \"first_name\": \"Jane\", \n",
      "          \"interests\": [\n",
      "            \"music\"\n",
      "          ], \n",
      "          \"last_name\": \"Smith\"\n",
      "        }, \n",
      "        \"_type\": \"employee\"\n",
      "      }, \n",
      "      {\n",
      "        \"_id\": \"1\", \n",
      "        \"_index\": \"megacorp\", \n",
      "        \"_score\": 1.0, \n",
      "        \"_source\": {\n",
      "          \"about\": \"I love to go rock climbing\", \n",
      "          \"age\": 25, \n",
      "          \"first_name\": \"John\", \n",
      "          \"interests\": [\n",
      "            \"sports\", \n",
      "            \"music\"\n",
      "          ], \n",
      "          \"last_name\": \"Smith\"\n",
      "        }, \n",
      "        \"_type\": \"employee\"\n",
      "      }, \n",
      "      {\n",
      "        \"_id\": \"3\", \n",
      "        \"_index\": \"megacorp\", \n",
      "        \"_score\": 1.0, \n",
      "        \"_source\": {\n",
      "          \"about\": \"I like to build cabinets\", \n",
      "          \"age\": 35, \n",
      "          \"first_name\": \"Douglas\", \n",
      "          \"interests\": [\n",
      "            \"forestry\"\n",
      "          ], \n",
      "          \"last_name\": \"Fir\"\n",
      "        }, \n",
      "        \"_type\": \"employee\"\n",
      "      }\n",
      "    ], \n",
      "    \"max_score\": 1.0, \n",
      "    \"total\": 3\n",
      "  }, \n",
      "  \"timed_out\": false, \n",
      "  \"took\": 3\n",
      "}\n"
     ]
    }
   ],
   "source": [
    "r = es.search(index='megacorp', doc_type='employee', body={\n",
    "        \"aggs\": {\n",
    "            \"all_interests\": {\n",
    "                \"terms\": {\n",
    "                    \"field\": \"interests\"\n",
    "                }\n",
    "            }\n",
    "        }\n",
    "    })\n",
    "print(json.dumps(r, indent=2, sort_keys=True))"
   ]
  },
  {
   "cell_type": "code",
   "execution_count": 48,
   "metadata": {
    "collapsed": false
   },
   "outputs": [
    {
     "name": "stdout",
     "output_type": "stream",
     "text": [
      "{\n",
      "  \"_shards\": {\n",
      "    \"failed\": 0, \n",
      "    \"successful\": 5, \n",
      "    \"total\": 5\n",
      "  }, \n",
      "  \"aggregations\": {\n",
      "    \"all_interests\": {\n",
      "      \"buckets\": [\n",
      "        {\n",
      "          \"doc_count\": 2, \n",
      "          \"key\": \"music\"\n",
      "        }, \n",
      "        {\n",
      "          \"doc_count\": 1, \n",
      "          \"key\": \"sports\"\n",
      "        }\n",
      "      ], \n",
      "      \"doc_count_error_upper_bound\": 0, \n",
      "      \"sum_other_doc_count\": 0\n",
      "    }\n",
      "  }, \n",
      "  \"hits\": {\n",
      "    \"hits\": [\n",
      "      {\n",
      "        \"_id\": \"2\", \n",
      "        \"_index\": \"megacorp\", \n",
      "        \"_score\": 0.30685282, \n",
      "        \"_source\": {\n",
      "          \"about\": \"I like to collect rock albums\", \n",
      "          \"age\": 32, \n",
      "          \"first_name\": \"Jane\", \n",
      "          \"interests\": [\n",
      "            \"music\"\n",
      "          ], \n",
      "          \"last_name\": \"Smith\"\n",
      "        }, \n",
      "        \"_type\": \"employee\"\n",
      "      }, \n",
      "      {\n",
      "        \"_id\": \"1\", \n",
      "        \"_index\": \"megacorp\", \n",
      "        \"_score\": 0.30685282, \n",
      "        \"_source\": {\n",
      "          \"about\": \"I love to go rock climbing\", \n",
      "          \"age\": 25, \n",
      "          \"first_name\": \"John\", \n",
      "          \"interests\": [\n",
      "            \"sports\", \n",
      "            \"music\"\n",
      "          ], \n",
      "          \"last_name\": \"Smith\"\n",
      "        }, \n",
      "        \"_type\": \"employee\"\n",
      "      }\n",
      "    ], \n",
      "    \"max_score\": 0.30685282, \n",
      "    \"total\": 2\n",
      "  }, \n",
      "  \"timed_out\": false, \n",
      "  \"took\": 5\n",
      "}\n"
     ]
    }
   ],
   "source": [
    "r = es.search(index='megacorp', doc_type='employee', body={\n",
    "        \"query\": {\n",
    "            \"match\": {\n",
    "                \"last_name\": \"Smith\"\n",
    "            }\n",
    "        },\n",
    "        \"aggs\": {\n",
    "            \"all_interests\": {\n",
    "                \"terms\": {\n",
    "                    \"field\": \"interests\"\n",
    "                }\n",
    "            }\n",
    "        }\n",
    "    })\n",
    "print(json.dumps(r, indent=2, sort_keys=True))"
   ]
  },
  {
   "cell_type": "code",
   "execution_count": 51,
   "metadata": {
    "collapsed": false
   },
   "outputs": [
    {
     "name": "stdout",
     "output_type": "stream",
     "text": [
      "{\n",
      "  \"_shards\": {\n",
      "    \"failed\": 0, \n",
      "    \"successful\": 5, \n",
      "    \"total\": 5\n",
      "  }, \n",
      "  \"aggregations\": {\n",
      "    \"all_interests\": {\n",
      "      \"buckets\": [\n",
      "        {\n",
      "          \"avg_age\": {\n",
      "            \"value\": 28.5\n",
      "          }, \n",
      "          \"doc_count\": 2, \n",
      "          \"key\": \"music\"\n",
      "        }, \n",
      "        {\n",
      "          \"avg_age\": {\n",
      "            \"value\": 35.0\n",
      "          }, \n",
      "          \"doc_count\": 1, \n",
      "          \"key\": \"forestry\"\n",
      "        }, \n",
      "        {\n",
      "          \"avg_age\": {\n",
      "            \"value\": 25.0\n",
      "          }, \n",
      "          \"doc_count\": 1, \n",
      "          \"key\": \"sports\"\n",
      "        }\n",
      "      ], \n",
      "      \"doc_count_error_upper_bound\": 0, \n",
      "      \"sum_other_doc_count\": 0\n",
      "    }\n",
      "  }, \n",
      "  \"hits\": {\n",
      "    \"hits\": [\n",
      "      {\n",
      "        \"_id\": \"2\", \n",
      "        \"_index\": \"megacorp\", \n",
      "        \"_score\": 1.0, \n",
      "        \"_source\": {\n",
      "          \"about\": \"I like to collect rock albums\", \n",
      "          \"age\": 32, \n",
      "          \"first_name\": \"Jane\", \n",
      "          \"interests\": [\n",
      "            \"music\"\n",
      "          ], \n",
      "          \"last_name\": \"Smith\"\n",
      "        }, \n",
      "        \"_type\": \"employee\"\n",
      "      }, \n",
      "      {\n",
      "        \"_id\": \"1\", \n",
      "        \"_index\": \"megacorp\", \n",
      "        \"_score\": 1.0, \n",
      "        \"_source\": {\n",
      "          \"about\": \"I love to go rock climbing\", \n",
      "          \"age\": 25, \n",
      "          \"first_name\": \"John\", \n",
      "          \"interests\": [\n",
      "            \"sports\", \n",
      "            \"music\"\n",
      "          ], \n",
      "          \"last_name\": \"Smith\"\n",
      "        }, \n",
      "        \"_type\": \"employee\"\n",
      "      }, \n",
      "      {\n",
      "        \"_id\": \"3\", \n",
      "        \"_index\": \"megacorp\", \n",
      "        \"_score\": 1.0, \n",
      "        \"_source\": {\n",
      "          \"about\": \"I like to build cabinets\", \n",
      "          \"age\": 35, \n",
      "          \"first_name\": \"Douglas\", \n",
      "          \"interests\": [\n",
      "            \"forestry\"\n",
      "          ], \n",
      "          \"last_name\": \"Fir\"\n",
      "        }, \n",
      "        \"_type\": \"employee\"\n",
      "      }\n",
      "    ], \n",
      "    \"max_score\": 1.0, \n",
      "    \"total\": 3\n",
      "  }, \n",
      "  \"timed_out\": false, \n",
      "  \"took\": 5\n",
      "}\n"
     ]
    }
   ],
   "source": [
    "r = es.search(index='megacorp', doc_type='employee', body={\n",
    "        \"aggs\": {\n",
    "            \"all_interests\": {\n",
    "                \"terms\": {\"field\": \"interests\"},\n",
    "                \"aggs\": {\n",
    "                    \"avg_age\": {\n",
    "                        \"avg\": {\"field\": \"age\"}\n",
    "                    }\n",
    "                }\n",
    "            }\n",
    "        }\n",
    "    })\n",
    "print(json.dumps(r, indent=2, sort_keys=True))"
   ]
  },
  {
   "cell_type": "markdown",
   "metadata": {},
   "source": [
    "---\n",
    "\n",
    "Back to cBiT\n",
    "\n",
    "---"
   ]
  },
  {
   "cell_type": "code",
   "execution_count": 52,
   "metadata": {
    "collapsed": false
   },
   "outputs": [
    {
     "data": {
      "text/plain": [
       "{u'_id': u'1',\n",
       " u'_index': u'cbit',\n",
       " u'_shards': {u'failed': 0, u'successful': 1, u'total': 2},\n",
       " u'_type': u'study',\n",
       " u'_version': 1,\n",
       " u'created': True}"
      ]
     },
     "execution_count": 52,
     "metadata": {},
     "output_type": "execute_result"
    }
   ],
   "source": [
    "import reader, config, json\n",
    "cfg = config.Config()\n",
    "\n",
    "i = reader.read_investigation(cfg, open('../../data/new_ISAcreatorArchives/StudyID_01_archive/i_Investigation.txt', 'r'))\n",
    "result = {\n",
    "    'id': 1,\n",
    "    'sampleIds': [k for k in range(0, 17+1)],\n",
    "    '_source': reader.conform_investigation_to_schema(\n",
    "                reader.remove_isa_name_prefixes(\n",
    "                  reader.remove_empty_values_in_dict(\n",
    "                    reader.flatten_investigation(\n",
    "                      i\n",
    "                    )\n",
    "                  )\n",
    "                )\n",
    "              )\n",
    "}\n",
    "es.index(index='cbit', doc_type='study', id=1, body=result['_source'])"
   ]
  },
  {
   "cell_type": "code",
   "execution_count": 53,
   "metadata": {
    "collapsed": false
   },
   "outputs": [
    {
     "name": "stdout",
     "output_type": "stream",
     "text": [
      "0\n",
      "1\n",
      "2\n",
      "3\n",
      "4\n",
      "5\n",
      "6\n",
      "7\n",
      "8\n",
      "9\n",
      "10\n",
      "11\n",
      "12\n",
      "13\n",
      "14\n",
      "15\n",
      "16\n",
      "17\n"
     ]
    }
   ],
   "source": [
    "# Only deal with Study 1 for the moment\n",
    "import reader, config, json\n",
    "cfg = config.Config()\n",
    "a = reader.read_assay(cfg, open('../../data/new_ISAcreatorArchives/StudyID_01_archive/a_transcription_micro_1.txt', 'r'))\n",
    "s = reader.read_study_sample(cfg, open('../../data/new_ISAcreatorArchives/StudyID_01_archive/s_study_sample.txt', 'r'))\n",
    "d = reader.join_study_sample_and_assay(reader.clean_up_study_samples(s), reader.clean_up_assay(a))\n",
    "d = reader.apply_special_treatments_to_study_sample(d)\n",
    "\n",
    "result = []\n",
    "\n",
    "for i, (k, v) in enumerate(d.iteritems()):\n",
    "    vv = v.copy()\n",
    "    vv['Sample Name'] = k\n",
    "    result.append({'id': i, 'studyId': 1, '_source': vv})\n",
    "\n",
    "for r in result:\n",
    "    print(r['id'])\n",
    "    es.index(index='cbit', doc_type='sample', id=r['id'], body=r['_source'], refresh=True)"
   ]
  },
  {
   "cell_type": "code",
   "execution_count": 64,
   "metadata": {
    "collapsed": false
   },
   "outputs": [
    {
     "data": {
      "text/plain": [
       "{'_source': {'*Compound': 'db-cAMP - dibutyryl-cAMP',\n",
       "  '*Material': 'PS - polystyrene',\n",
       "  '*Strain': 'hMSC - human mesenchymal stromal cells',\n",
       "  u'Array or chip design': u'Illumina HT12v3',\n",
       "  u'Assay Type': u'in vitro',\n",
       "  'Attach Duration (hours)': 12.5,\n",
       "  u'Barcode': u'5342595019_E',\n",
       "  u'Biological Replicate': 2,\n",
       "  u'Biologically degradable': u'no',\n",
       "  u'CAS number': u'362-74-3',\n",
       "  u'Cell type': u'stromal cell',\n",
       "  u'Compound': u'dibutyryl-cAMP',\n",
       "  u'Compound abbreviation': u'db-cAMP',\n",
       "  u'Control': False,\n",
       "  u'Culture medium': u'alpha-MEM',\n",
       "  'Dose (mM)': 1.0,\n",
       "  'Dose Duration (hours)': 6.0,\n",
       "  u'Gene expression type': u'Microarray',\n",
       "  u'Group ID': 2,\n",
       "  u'Material Class': u'polymer',\n",
       "  u'Material Name': u'polystyrene',\n",
       "  u'Material Shape': u'flat',\n",
       "  u'Material abbreviation': u'PS',\n",
       "  u'Organ': u'bone',\n",
       "  u'Organism': u'Homo sapiens',\n",
       "  u'Passage number': 2,\n",
       "  u'Platform': u'Illumina',\n",
       "  'Protocols': u'Protocol_01_Sample_treatment, Protocol_02_Material_synthesis',\n",
       "  u'Sample ID': u'01-2-2',\n",
       "  u'Sample Match': u'5342595019_D',\n",
       "  'Sample Name': u'5342595019_E',\n",
       "  u'Sex': u'unknown',\n",
       "  u'Source Name': 1,\n",
       "  u'Strain abbreviation': u'hMSC',\n",
       "  u'Strain full name': u'human mesenchymal stromal cells',\n",
       "  u'Study ID': 1,\n",
       "  u'Tissue': u'connective',\n",
       "  'Transcriptomics Assay Detail: Background correction': u'yes',\n",
       "  'Transcriptomics Assay Detail: Data Transformation Name': u'variance stabilization',\n",
       "  'Transcriptomics Assay Detail: Label': u'biotin',\n",
       "  'Transcriptomics Assay Detail: Normalization Name': u'quantile'},\n",
       " 'id': 1,\n",
       " 'studyId': 1}"
      ]
     },
     "execution_count": 64,
     "metadata": {},
     "output_type": "execute_result"
    }
   ],
   "source": [
    "result[1]"
   ]
  },
  {
   "cell_type": "code",
   "execution_count": 7,
   "metadata": {
    "collapsed": false
   },
   "outputs": [],
   "source": [
    "import json\n",
    "def p(doc, max_lines=25):\n",
    "    lines = json.dumps(doc, indent=2, sort_keys=True).split('\\n')\n",
    "    if not max_lines or len(lines) <= max_lines:\n",
    "        print('\\n'.join(lines))\n",
    "    else:\n",
    "        print('\\n'.join(lines[:max_lines/2]) + '\\n...\\n' + '\\n'.join(lines[-max_lines/2:]))"
   ]
  },
  {
   "cell_type": "code",
   "execution_count": 86,
   "metadata": {
    "collapsed": false
   },
   "outputs": [
    {
     "name": "stdout",
     "output_type": "stream",
     "text": [
      "{\n",
      "  \"_shards\": {\n",
      "    \"failed\": 0, \n",
      "    \"successful\": 5, \n",
      "    \"total\": 5\n",
      "  }, \n",
      "  \"hits\": {\n",
      "    \"hits\": [\n",
      "      {\n",
      "        \"_id\": \"5\", \n",
      "        \"_index\": \"cbit\", \n",
      "        \"_score\": 0.36076978, \n",
      "        \"_source\": {\n",
      "          \"*Compound\": \"db-cAMP - dibutyryl-cAMP\", \n",
      "          \"*Material\": \"PS - polystyrene\", \n",
      "...\n",
      "        }, \n",
      "        \"_type\": \"sample\"\n",
      "      }\n",
      "    ], \n",
      "    \"max_score\": 0.36076978, \n",
      "    \"total\": 6\n",
      "  }, \n",
      "  \"timed_out\": false, \n",
      "  \"took\": 4\n",
      "}\n"
     ]
    }
   ],
   "source": [
    "# This is the start of the query I need for full-text search\n",
    "query_text = 'db-camp'\n",
    "r = es.search(index='cbit', doc_type='sample', body={\n",
    "        \"query\": {\n",
    "            \"match_phrase\": {\n",
    "                \"_all\": query_text\n",
    "            }\n",
    "        }\n",
    "    })\n",
    "p(r)"
   ]
  },
  {
   "cell_type": "code",
   "execution_count": 87,
   "metadata": {
    "collapsed": false
   },
   "outputs": [
    {
     "name": "stdout",
     "output_type": "stream",
     "text": [
      "0\n",
      "1\n",
      "2\n",
      "3\n",
      "4\n",
      "5\n",
      "6\n",
      "7\n",
      "8\n",
      "9\n",
      "10\n",
      "11\n",
      "12\n",
      "13\n",
      "14\n",
      "15\n",
      "16\n",
      "17\n"
     ]
    }
   ],
   "source": [
    "# Really, I need a study ID in each sample,\n",
    "# and I need to get the study IDs of all the samples that matched\n",
    "import reader, config, json\n",
    "cfg = config.Config()\n",
    "a = reader.read_assay(cfg, open('../../data/new_ISAcreatorArchives/StudyID_01_archive/a_transcription_micro_1.txt', 'r'))\n",
    "s = reader.read_study_sample(cfg, open('../../data/new_ISAcreatorArchives/StudyID_01_archive/s_study_sample.txt', 'r'))\n",
    "d = reader.join_study_sample_and_assay(reader.clean_up_study_samples(s), reader.clean_up_assay(a))\n",
    "d = reader.apply_special_treatments_to_study_sample(d)\n",
    "\n",
    "result = []\n",
    "\n",
    "for i, (k, v) in enumerate(d.iteritems()):\n",
    "    vv = v.copy()\n",
    "    vv['Sample Name'] = k\n",
    "    vv['*Study ID'] = 1\n",
    "    result.append({'id': i, 'studyId': 1, '_source': vv})\n",
    "\n",
    "for r in result:\n",
    "    print(r['id'])\n",
    "    es.index(index='cbit', doc_type='sample', id=r['id'], body=r['_source'], refresh=True)"
   ]
  },
  {
   "cell_type": "code",
   "execution_count": 90,
   "metadata": {
    "collapsed": false,
    "scrolled": true
   },
   "outputs": [
    {
     "data": {
      "text/plain": [
       "{u'_shards': {u'failed': 0, u'successful': 5, u'total': 5},\n",
       " u'aggregations': {u'matching_studies': {u'buckets': [{u'doc_count': 6,\n",
       "     u'key': 1}],\n",
       "   u'doc_count_error_upper_bound': 0,\n",
       "   u'sum_other_doc_count': 0}},\n",
       " u'hits': {u'hits': [{u'_id': u'5',\n",
       "    u'_index': u'cbit',\n",
       "    u'_score': 0.31567356,\n",
       "    u'_source': {u'*Compound': u'db-cAMP - dibutyryl-cAMP',\n",
       "     u'*Material': u'PS - polystyrene',\n",
       "     u'*Strain': u'hMSC - human mesenchymal stromal cells',\n",
       "     u'*Study ID': 1,\n",
       "     u'Array or chip design': u'Illumina HT12v3',\n",
       "     u'Assay Type': u'in vitro',\n",
       "     u'Attach Duration (hours)': 12.5,\n",
       "     u'Barcode': u'5342595019_B',\n",
       "     u'Biological Replicate': 1,\n",
       "     u'Biologically degradable': u'no',\n",
       "     u'CAS number': u'362-74-3',\n",
       "     u'Cell type': u'stromal cell',\n",
       "     u'Compound': u'dibutyryl-cAMP',\n",
       "     u'Compound abbreviation': u'db-cAMP',\n",
       "     u'Control': False,\n",
       "     u'Culture medium': u'alpha-MEM',\n",
       "     u'Dose (mM)': 1.0,\n",
       "     u'Dose Duration (hours)': 6.0,\n",
       "     u'Gene expression type': u'Microarray',\n",
       "     u'Group ID': 2,\n",
       "     u'Material Class': u'polymer',\n",
       "     u'Material Name': u'polystyrene',\n",
       "     u'Material Shape': u'flat',\n",
       "     u'Material abbreviation': u'PS',\n",
       "     u'Organ': u'bone',\n",
       "     u'Organism': u'Homo sapiens',\n",
       "     u'Passage number': 2,\n",
       "     u'Platform': u'Illumina',\n",
       "     u'Protocols': u'Protocol_01_Sample_treatment, Protocol_02_Material_synthesis',\n",
       "     u'Sample ID': u'01-2-1',\n",
       "     u'Sample Match': u'5342595019_A',\n",
       "     u'Sample Name': u'5342595019_B',\n",
       "     u'Sex': u'unknown',\n",
       "     u'Source Name': 1,\n",
       "     u'Strain abbreviation': u'hMSC',\n",
       "     u'Strain full name': u'human mesenchymal stromal cells',\n",
       "     u'Study ID': 1,\n",
       "     u'Tissue': u'connective',\n",
       "     u'Transcriptomics Assay Detail: Background correction': u'yes',\n",
       "     u'Transcriptomics Assay Detail: Data Transformation Name': u'variance stabilization',\n",
       "     u'Transcriptomics Assay Detail: Label': u'biotin',\n",
       "     u'Transcriptomics Assay Detail: Normalization Name': u'quantile'},\n",
       "    u'_type': u'sample'},\n",
       "   {u'_id': u'9',\n",
       "    u'_index': u'cbit',\n",
       "    u'_score': 0.31567356,\n",
       "    u'_source': {u'*Compound': u'db-cAMP - dibutyryl-cAMP',\n",
       "     u'*Material': u'PS - polystyrene',\n",
       "     u'*Strain': u'hMSC - human mesenchymal stromal cells',\n",
       "     u'*Study ID': 1,\n",
       "     u'Array or chip design': u'Illumina HT12v3',\n",
       "     u'Assay Type': u'in vitro',\n",
       "     u'Attach Duration (hours)': 12.5,\n",
       "     u'Barcode': u'5342595028_H',\n",
       "     u'Biological Replicate': 3,\n",
       "     u'Biologically degradable': u'no',\n",
       "     u'CAS number': u'362-74-3',\n",
       "     u'Cell type': u'stromal cell',\n",
       "     u'Compound': u'dibutyryl-cAMP',\n",
       "     u'Compound abbreviation': u'db-cAMP',\n",
       "     u'Control': False,\n",
       "     u'Culture medium': u'alpha-MEM',\n",
       "     u'Dose (mM)': 1.0,\n",
       "     u'Dose Duration (hours)': 72.0,\n",
       "     u'Gene expression type': u'Microarray',\n",
       "     u'Group ID': 5,\n",
       "     u'Material Class': u'polymer',\n",
       "     u'Material Name': u'polystyrene',\n",
       "     u'Material Shape': u'flat',\n",
       "     u'Material abbreviation': u'PS',\n",
       "     u'Organ': u'bone',\n",
       "     u'Organism': u'Homo sapiens',\n",
       "     u'Passage number': 2,\n",
       "     u'Platform': u'Illumina',\n",
       "     u'Protocols': u'Protocol_01_Sample_treatment, Protocol_02_Material_synthesis',\n",
       "     u'Sample ID': u'01-5-3',\n",
       "     u'Sample Match': u'5342595028_G',\n",
       "     u'Sample Name': u'5342595028_H',\n",
       "     u'Sex': u'unknown',\n",
       "     u'Source Name': 1,\n",
       "     u'Strain abbreviation': u'hMSC',\n",
       "     u'Strain full name': u'human mesenchymal stromal cells',\n",
       "     u'Study ID': 1,\n",
       "     u'Tissue': u'connective',\n",
       "     u'Transcriptomics Assay Detail: Background correction': u'yes',\n",
       "     u'Transcriptomics Assay Detail: Data Transformation Name': u'variance stabilization',\n",
       "     u'Transcriptomics Assay Detail: Label': u'biotin',\n",
       "     u'Transcriptomics Assay Detail: Normalization Name': u'quantile'},\n",
       "    u'_type': u'sample'},\n",
       "   {u'_id': u'12',\n",
       "    u'_index': u'cbit',\n",
       "    u'_score': 0.31567356,\n",
       "    u'_source': {u'*Compound': u'db-cAMP - dibutyryl-cAMP',\n",
       "     u'*Material': u'PS - polystyrene',\n",
       "     u'*Strain': u'hMSC - human mesenchymal stromal cells',\n",
       "     u'*Study ID': 1,\n",
       "     u'Array or chip design': u'Illumina HT12v3',\n",
       "     u'Assay Type': u'in vitro',\n",
       "     u'Attach Duration (hours)': 12.5,\n",
       "     u'Barcode': u'5342595028_E',\n",
       "     u'Biological Replicate': 2,\n",
       "     u'Biologically degradable': u'no',\n",
       "     u'CAS number': u'362-74-3',\n",
       "     u'Cell type': u'stromal cell',\n",
       "     u'Compound': u'dibutyryl-cAMP',\n",
       "     u'Compound abbreviation': u'db-cAMP',\n",
       "     u'Control': False,\n",
       "     u'Culture medium': u'alpha-MEM',\n",
       "     u'Dose (mM)': 1.0,\n",
       "     u'Dose Duration (hours)': 72.0,\n",
       "     u'Gene expression type': u'Microarray',\n",
       "     u'Group ID': 5,\n",
       "     u'Material Class': u'polymer',\n",
       "     u'Material Name': u'polystyrene',\n",
       "     u'Material Shape': u'flat',\n",
       "     u'Material abbreviation': u'PS',\n",
       "     u'Organ': u'bone',\n",
       "     u'Organism': u'Homo sapiens',\n",
       "     u'Passage number': 2,\n",
       "     u'Platform': u'Illumina',\n",
       "     u'Protocols': u'Protocol_01_Sample_treatment, Protocol_02_Material_synthesis',\n",
       "     u'Sample ID': u'01-5-2',\n",
       "     u'Sample Match': u'5342595028_D',\n",
       "     u'Sample Name': u'5342595028_E',\n",
       "     u'Sex': u'unknown',\n",
       "     u'Source Name': 1,\n",
       "     u'Strain abbreviation': u'hMSC',\n",
       "     u'Strain full name': u'human mesenchymal stromal cells',\n",
       "     u'Study ID': 1,\n",
       "     u'Tissue': u'connective',\n",
       "     u'Transcriptomics Assay Detail: Background correction': u'yes',\n",
       "     u'Transcriptomics Assay Detail: Data Transformation Name': u'variance stabilization',\n",
       "     u'Transcriptomics Assay Detail: Label': u'biotin',\n",
       "     u'Transcriptomics Assay Detail: Normalization Name': u'quantile'},\n",
       "    u'_type': u'sample'},\n",
       "   {u'_id': u'1',\n",
       "    u'_index': u'cbit',\n",
       "    u'_score': 0.2811578,\n",
       "    u'_source': {u'*Compound': u'db-cAMP - dibutyryl-cAMP',\n",
       "     u'*Material': u'PS - polystyrene',\n",
       "     u'*Strain': u'hMSC - human mesenchymal stromal cells',\n",
       "     u'*Study ID': 1,\n",
       "     u'Array or chip design': u'Illumina HT12v3',\n",
       "     u'Assay Type': u'in vitro',\n",
       "     u'Attach Duration (hours)': 12.5,\n",
       "     u'Barcode': u'5342595019_E',\n",
       "     u'Biological Replicate': 2,\n",
       "     u'Biologically degradable': u'no',\n",
       "     u'CAS number': u'362-74-3',\n",
       "     u'Cell type': u'stromal cell',\n",
       "     u'Compound': u'dibutyryl-cAMP',\n",
       "     u'Compound abbreviation': u'db-cAMP',\n",
       "     u'Control': False,\n",
       "     u'Culture medium': u'alpha-MEM',\n",
       "     u'Dose (mM)': 1.0,\n",
       "     u'Dose Duration (hours)': 6.0,\n",
       "     u'Gene expression type': u'Microarray',\n",
       "     u'Group ID': 2,\n",
       "     u'Material Class': u'polymer',\n",
       "     u'Material Name': u'polystyrene',\n",
       "     u'Material Shape': u'flat',\n",
       "     u'Material abbreviation': u'PS',\n",
       "     u'Organ': u'bone',\n",
       "     u'Organism': u'Homo sapiens',\n",
       "     u'Passage number': 2,\n",
       "     u'Platform': u'Illumina',\n",
       "     u'Protocols': u'Protocol_01_Sample_treatment, Protocol_02_Material_synthesis',\n",
       "     u'Sample ID': u'01-2-2',\n",
       "     u'Sample Match': u'5342595019_D',\n",
       "     u'Sample Name': u'5342595019_E',\n",
       "     u'Sex': u'unknown',\n",
       "     u'Source Name': 1,\n",
       "     u'Strain abbreviation': u'hMSC',\n",
       "     u'Strain full name': u'human mesenchymal stromal cells',\n",
       "     u'Study ID': 1,\n",
       "     u'Tissue': u'connective',\n",
       "     u'Transcriptomics Assay Detail: Background correction': u'yes',\n",
       "     u'Transcriptomics Assay Detail: Data Transformation Name': u'variance stabilization',\n",
       "     u'Transcriptomics Assay Detail: Label': u'biotin',\n",
       "     u'Transcriptomics Assay Detail: Normalization Name': u'quantile'},\n",
       "    u'_type': u'sample'},\n",
       "   {u'_id': u'7',\n",
       "    u'_index': u'cbit',\n",
       "    u'_score': 0.2811578,\n",
       "    u'_source': {u'*Compound': u'db-cAMP - dibutyryl-cAMP',\n",
       "     u'*Material': u'PS - polystyrene',\n",
       "     u'*Strain': u'hMSC - human mesenchymal stromal cells',\n",
       "     u'*Study ID': 1,\n",
       "     u'Array or chip design': u'Illumina HT12v3',\n",
       "     u'Assay Type': u'in vitro',\n",
       "     u'Attach Duration (hours)': 12.5,\n",
       "     u'Barcode': u'5342595019_H',\n",
       "     u'Biological Replicate': 3,\n",
       "     u'Biologically degradable': u'no',\n",
       "     u'CAS number': u'362-74-3',\n",
       "     u'Cell type': u'stromal cell',\n",
       "     u'Compound': u'dibutyryl-cAMP',\n",
       "     u'Compound abbreviation': u'db-cAMP',\n",
       "     u'Control': False,\n",
       "     u'Culture medium': u'alpha-MEM',\n",
       "     u'Dose (mM)': 1.0,\n",
       "     u'Dose Duration (hours)': 6.0,\n",
       "     u'Gene expression type': u'Microarray',\n",
       "     u'Group ID': 2,\n",
       "     u'Material Class': u'polymer',\n",
       "     u'Material Name': u'polystyrene',\n",
       "     u'Material Shape': u'flat',\n",
       "     u'Material abbreviation': u'PS',\n",
       "     u'Organ': u'bone',\n",
       "     u'Organism': u'Homo sapiens',\n",
       "     u'Passage number': 2,\n",
       "     u'Platform': u'Illumina',\n",
       "     u'Protocols': u'Protocol_01_Sample_treatment, Protocol_02_Material_synthesis',\n",
       "     u'Sample ID': u'01-2-3',\n",
       "     u'Sample Match': u'5342595019_G',\n",
       "     u'Sample Name': u'5342595019_H',\n",
       "     u'Sex': u'unknown',\n",
       "     u'Source Name': 1,\n",
       "     u'Strain abbreviation': u'hMSC',\n",
       "     u'Strain full name': u'human mesenchymal stromal cells',\n",
       "     u'Study ID': 1,\n",
       "     u'Tissue': u'connective',\n",
       "     u'Transcriptomics Assay Detail: Background correction': u'yes',\n",
       "     u'Transcriptomics Assay Detail: Data Transformation Name': u'variance stabilization',\n",
       "     u'Transcriptomics Assay Detail: Label': u'biotin',\n",
       "     u'Transcriptomics Assay Detail: Normalization Name': u'quantile'},\n",
       "    u'_type': u'sample'},\n",
       "   {u'_id': u'16',\n",
       "    u'_index': u'cbit',\n",
       "    u'_score': 0.2811578,\n",
       "    u'_source': {u'*Compound': u'db-cAMP - dibutyryl-cAMP',\n",
       "     u'*Material': u'PS - polystyrene',\n",
       "     u'*Strain': u'hMSC - human mesenchymal stromal cells',\n",
       "     u'*Study ID': 1,\n",
       "     u'Array or chip design': u'Illumina HT12v3',\n",
       "     u'Assay Type': u'in vitro',\n",
       "     u'Attach Duration (hours)': 12.5,\n",
       "     u'Barcode': u'5342595028_B',\n",
       "     u'Biological Replicate': 1,\n",
       "     u'Biologically degradable': u'no',\n",
       "     u'CAS number': u'362-74-3',\n",
       "     u'Cell type': u'stromal cell',\n",
       "     u'Compound': u'dibutyryl-cAMP',\n",
       "     u'Compound abbreviation': u'db-cAMP',\n",
       "     u'Control': False,\n",
       "     u'Culture medium': u'alpha-MEM',\n",
       "     u'Dose (mM)': 1.0,\n",
       "     u'Dose Duration (hours)': 72.0,\n",
       "     u'Gene expression type': u'Microarray',\n",
       "     u'Group ID': 5,\n",
       "     u'Material Class': u'polymer',\n",
       "     u'Material Name': u'polystyrene',\n",
       "     u'Material Shape': u'flat',\n",
       "     u'Material abbreviation': u'PS',\n",
       "     u'Organ': u'bone',\n",
       "     u'Organism': u'Homo sapiens',\n",
       "     u'Passage number': 2,\n",
       "     u'Platform': u'Illumina',\n",
       "     u'Protocols': u'Protocol_01_Sample_treatment, Protocol_02_Material_synthesis',\n",
       "     u'Sample ID': u'01-5-1',\n",
       "     u'Sample Match': u'5342595028_A',\n",
       "     u'Sample Name': u'5342595028_B',\n",
       "     u'Sex': u'unknown',\n",
       "     u'Source Name': 1,\n",
       "     u'Strain abbreviation': u'hMSC',\n",
       "     u'Strain full name': u'human mesenchymal stromal cells',\n",
       "     u'Study ID': 1,\n",
       "     u'Tissue': u'connective',\n",
       "     u'Transcriptomics Assay Detail: Background correction': u'yes',\n",
       "     u'Transcriptomics Assay Detail: Data Transformation Name': u'variance stabilization',\n",
       "     u'Transcriptomics Assay Detail: Label': u'biotin',\n",
       "     u'Transcriptomics Assay Detail: Normalization Name': u'quantile'},\n",
       "    u'_type': u'sample'}],\n",
       "  u'max_score': 0.31567356,\n",
       "  u'total': 6},\n",
       " u'timed_out': False,\n",
       " u'took': 10}"
      ]
     },
     "execution_count": 90,
     "metadata": {},
     "output_type": "execute_result"
    }
   ],
   "source": [
    "# This is the start of the query I need for full-text search\n",
    "query_text = 'db-camp'\n",
    "r = es.search(index='cbit', doc_type='sample', body={\n",
    "        \"query\": {\n",
    "            \"match_phrase\": {\n",
    "                \"_all\": query_text\n",
    "            }\n",
    "        },\n",
    "        \"aggs\": {\n",
    "            \"matching_studies\": {\n",
    "                \"terms\": {\n",
    "                    \"field\": \"*Study ID\"\n",
    "                }\n",
    "            }\n",
    "        }\n",
    "    })\n",
    "r"
   ]
  },
  {
   "cell_type": "code",
   "execution_count": 92,
   "metadata": {
    "collapsed": false
   },
   "outputs": [
    {
     "data": {
      "text/plain": [
       "{u'_id': u'1',\n",
       " u'_index': u'cbit',\n",
       " u'_shards': {u'failed': 0, u'successful': 1, u'total': 2},\n",
       " u'_type': u'study',\n",
       " u'_version': 2,\n",
       " u'created': False}"
      ]
     },
     "execution_count": 92,
     "metadata": {},
     "output_type": "execute_result"
    }
   ],
   "source": [
    "# Add \"*Study ID\" to studies as well\n",
    "import reader, config, json\n",
    "cfg = config.Config()\n",
    "\n",
    "i = reader.read_investigation(cfg, open('../../data/new_ISAcreatorArchives/StudyID_01_archive/i_Investigation.txt', 'r'))\n",
    "result = {\n",
    "    'id': 1,\n",
    "    'sampleIds': [k for k in range(0, 17+1)],\n",
    "    '_source': reader.conform_investigation_to_schema(\n",
    "                reader.remove_isa_name_prefixes(\n",
    "                  reader.remove_empty_values_in_dict(\n",
    "                    reader.flatten_investigation(\n",
    "                      i\n",
    "                    )\n",
    "                  )\n",
    "                )\n",
    "              )\n",
    "}\n",
    "d = result['_source'].copy()\n",
    "d['*Study ID'] = 1\n",
    "es.index(index='cbit', doc_type='study', id=1, body=d, refresh=True)"
   ]
  },
  {
   "cell_type": "code",
   "execution_count": 93,
   "metadata": {
    "collapsed": false,
    "scrolled": true
   },
   "outputs": [
    {
     "data": {
      "text/plain": [
       "{u'_shards': {u'failed': 0, u'successful': 5, u'total': 5},\n",
       " u'aggregations': {u'matching_studies': {u'buckets': [{u'doc_count': 7,\n",
       "     u'key': 1}],\n",
       "   u'doc_count_error_upper_bound': 0,\n",
       "   u'sum_other_doc_count': 0}},\n",
       " u'hits': {u'hits': [{u'_id': u'5',\n",
       "    u'_index': u'cbit',\n",
       "    u'_score': 0.31567356,\n",
       "    u'_source': {u'*Compound': u'db-cAMP - dibutyryl-cAMP',\n",
       "     u'*Material': u'PS - polystyrene',\n",
       "     u'*Strain': u'hMSC - human mesenchymal stromal cells',\n",
       "     u'*Study ID': 1,\n",
       "     u'Array or chip design': u'Illumina HT12v3',\n",
       "     u'Assay Type': u'in vitro',\n",
       "     u'Attach Duration (hours)': 12.5,\n",
       "     u'Barcode': u'5342595019_B',\n",
       "     u'Biological Replicate': 1,\n",
       "     u'Biologically degradable': u'no',\n",
       "     u'CAS number': u'362-74-3',\n",
       "     u'Cell type': u'stromal cell',\n",
       "     u'Compound': u'dibutyryl-cAMP',\n",
       "     u'Compound abbreviation': u'db-cAMP',\n",
       "     u'Control': False,\n",
       "     u'Culture medium': u'alpha-MEM',\n",
       "     u'Dose (mM)': 1.0,\n",
       "     u'Dose Duration (hours)': 6.0,\n",
       "     u'Gene expression type': u'Microarray',\n",
       "     u'Group ID': 2,\n",
       "     u'Material Class': u'polymer',\n",
       "     u'Material Name': u'polystyrene',\n",
       "     u'Material Shape': u'flat',\n",
       "     u'Material abbreviation': u'PS',\n",
       "     u'Organ': u'bone',\n",
       "     u'Organism': u'Homo sapiens',\n",
       "     u'Passage number': 2,\n",
       "     u'Platform': u'Illumina',\n",
       "     u'Protocols': u'Protocol_01_Sample_treatment, Protocol_02_Material_synthesis',\n",
       "     u'Sample ID': u'01-2-1',\n",
       "     u'Sample Match': u'5342595019_A',\n",
       "     u'Sample Name': u'5342595019_B',\n",
       "     u'Sex': u'unknown',\n",
       "     u'Source Name': 1,\n",
       "     u'Strain abbreviation': u'hMSC',\n",
       "     u'Strain full name': u'human mesenchymal stromal cells',\n",
       "     u'Study ID': 1,\n",
       "     u'Tissue': u'connective',\n",
       "     u'Transcriptomics Assay Detail: Background correction': u'yes',\n",
       "     u'Transcriptomics Assay Detail: Data Transformation Name': u'variance stabilization',\n",
       "     u'Transcriptomics Assay Detail: Label': u'biotin',\n",
       "     u'Transcriptomics Assay Detail: Normalization Name': u'quantile'},\n",
       "    u'_type': u'sample'},\n",
       "   {u'_id': u'9',\n",
       "    u'_index': u'cbit',\n",
       "    u'_score': 0.31567356,\n",
       "    u'_source': {u'*Compound': u'db-cAMP - dibutyryl-cAMP',\n",
       "     u'*Material': u'PS - polystyrene',\n",
       "     u'*Strain': u'hMSC - human mesenchymal stromal cells',\n",
       "     u'*Study ID': 1,\n",
       "     u'Array or chip design': u'Illumina HT12v3',\n",
       "     u'Assay Type': u'in vitro',\n",
       "     u'Attach Duration (hours)': 12.5,\n",
       "     u'Barcode': u'5342595028_H',\n",
       "     u'Biological Replicate': 3,\n",
       "     u'Biologically degradable': u'no',\n",
       "     u'CAS number': u'362-74-3',\n",
       "     u'Cell type': u'stromal cell',\n",
       "     u'Compound': u'dibutyryl-cAMP',\n",
       "     u'Compound abbreviation': u'db-cAMP',\n",
       "     u'Control': False,\n",
       "     u'Culture medium': u'alpha-MEM',\n",
       "     u'Dose (mM)': 1.0,\n",
       "     u'Dose Duration (hours)': 72.0,\n",
       "     u'Gene expression type': u'Microarray',\n",
       "     u'Group ID': 5,\n",
       "     u'Material Class': u'polymer',\n",
       "     u'Material Name': u'polystyrene',\n",
       "     u'Material Shape': u'flat',\n",
       "     u'Material abbreviation': u'PS',\n",
       "     u'Organ': u'bone',\n",
       "     u'Organism': u'Homo sapiens',\n",
       "     u'Passage number': 2,\n",
       "     u'Platform': u'Illumina',\n",
       "     u'Protocols': u'Protocol_01_Sample_treatment, Protocol_02_Material_synthesis',\n",
       "     u'Sample ID': u'01-5-3',\n",
       "     u'Sample Match': u'5342595028_G',\n",
       "     u'Sample Name': u'5342595028_H',\n",
       "     u'Sex': u'unknown',\n",
       "     u'Source Name': 1,\n",
       "     u'Strain abbreviation': u'hMSC',\n",
       "     u'Strain full name': u'human mesenchymal stromal cells',\n",
       "     u'Study ID': 1,\n",
       "     u'Tissue': u'connective',\n",
       "     u'Transcriptomics Assay Detail: Background correction': u'yes',\n",
       "     u'Transcriptomics Assay Detail: Data Transformation Name': u'variance stabilization',\n",
       "     u'Transcriptomics Assay Detail: Label': u'biotin',\n",
       "     u'Transcriptomics Assay Detail: Normalization Name': u'quantile'},\n",
       "    u'_type': u'sample'},\n",
       "   {u'_id': u'12',\n",
       "    u'_index': u'cbit',\n",
       "    u'_score': 0.31567356,\n",
       "    u'_source': {u'*Compound': u'db-cAMP - dibutyryl-cAMP',\n",
       "     u'*Material': u'PS - polystyrene',\n",
       "     u'*Strain': u'hMSC - human mesenchymal stromal cells',\n",
       "     u'*Study ID': 1,\n",
       "     u'Array or chip design': u'Illumina HT12v3',\n",
       "     u'Assay Type': u'in vitro',\n",
       "     u'Attach Duration (hours)': 12.5,\n",
       "     u'Barcode': u'5342595028_E',\n",
       "     u'Biological Replicate': 2,\n",
       "     u'Biologically degradable': u'no',\n",
       "     u'CAS number': u'362-74-3',\n",
       "     u'Cell type': u'stromal cell',\n",
       "     u'Compound': u'dibutyryl-cAMP',\n",
       "     u'Compound abbreviation': u'db-cAMP',\n",
       "     u'Control': False,\n",
       "     u'Culture medium': u'alpha-MEM',\n",
       "     u'Dose (mM)': 1.0,\n",
       "     u'Dose Duration (hours)': 72.0,\n",
       "     u'Gene expression type': u'Microarray',\n",
       "     u'Group ID': 5,\n",
       "     u'Material Class': u'polymer',\n",
       "     u'Material Name': u'polystyrene',\n",
       "     u'Material Shape': u'flat',\n",
       "     u'Material abbreviation': u'PS',\n",
       "     u'Organ': u'bone',\n",
       "     u'Organism': u'Homo sapiens',\n",
       "     u'Passage number': 2,\n",
       "     u'Platform': u'Illumina',\n",
       "     u'Protocols': u'Protocol_01_Sample_treatment, Protocol_02_Material_synthesis',\n",
       "     u'Sample ID': u'01-5-2',\n",
       "     u'Sample Match': u'5342595028_D',\n",
       "     u'Sample Name': u'5342595028_E',\n",
       "     u'Sex': u'unknown',\n",
       "     u'Source Name': 1,\n",
       "     u'Strain abbreviation': u'hMSC',\n",
       "     u'Strain full name': u'human mesenchymal stromal cells',\n",
       "     u'Study ID': 1,\n",
       "     u'Tissue': u'connective',\n",
       "     u'Transcriptomics Assay Detail: Background correction': u'yes',\n",
       "     u'Transcriptomics Assay Detail: Data Transformation Name': u'variance stabilization',\n",
       "     u'Transcriptomics Assay Detail: Label': u'biotin',\n",
       "     u'Transcriptomics Assay Detail: Normalization Name': u'quantile'},\n",
       "    u'_type': u'sample'},\n",
       "   {u'_id': u'1',\n",
       "    u'_index': u'cbit',\n",
       "    u'_score': 0.2811578,\n",
       "    u'_source': {u'*Compound': u'db-cAMP - dibutyryl-cAMP',\n",
       "     u'*Material': u'PS - polystyrene',\n",
       "     u'*Strain': u'hMSC - human mesenchymal stromal cells',\n",
       "     u'*Study ID': 1,\n",
       "     u'Array or chip design': u'Illumina HT12v3',\n",
       "     u'Assay Type': u'in vitro',\n",
       "     u'Attach Duration (hours)': 12.5,\n",
       "     u'Barcode': u'5342595019_E',\n",
       "     u'Biological Replicate': 2,\n",
       "     u'Biologically degradable': u'no',\n",
       "     u'CAS number': u'362-74-3',\n",
       "     u'Cell type': u'stromal cell',\n",
       "     u'Compound': u'dibutyryl-cAMP',\n",
       "     u'Compound abbreviation': u'db-cAMP',\n",
       "     u'Control': False,\n",
       "     u'Culture medium': u'alpha-MEM',\n",
       "     u'Dose (mM)': 1.0,\n",
       "     u'Dose Duration (hours)': 6.0,\n",
       "     u'Gene expression type': u'Microarray',\n",
       "     u'Group ID': 2,\n",
       "     u'Material Class': u'polymer',\n",
       "     u'Material Name': u'polystyrene',\n",
       "     u'Material Shape': u'flat',\n",
       "     u'Material abbreviation': u'PS',\n",
       "     u'Organ': u'bone',\n",
       "     u'Organism': u'Homo sapiens',\n",
       "     u'Passage number': 2,\n",
       "     u'Platform': u'Illumina',\n",
       "     u'Protocols': u'Protocol_01_Sample_treatment, Protocol_02_Material_synthesis',\n",
       "     u'Sample ID': u'01-2-2',\n",
       "     u'Sample Match': u'5342595019_D',\n",
       "     u'Sample Name': u'5342595019_E',\n",
       "     u'Sex': u'unknown',\n",
       "     u'Source Name': 1,\n",
       "     u'Strain abbreviation': u'hMSC',\n",
       "     u'Strain full name': u'human mesenchymal stromal cells',\n",
       "     u'Study ID': 1,\n",
       "     u'Tissue': u'connective',\n",
       "     u'Transcriptomics Assay Detail: Background correction': u'yes',\n",
       "     u'Transcriptomics Assay Detail: Data Transformation Name': u'variance stabilization',\n",
       "     u'Transcriptomics Assay Detail: Label': u'biotin',\n",
       "     u'Transcriptomics Assay Detail: Normalization Name': u'quantile'},\n",
       "    u'_type': u'sample'},\n",
       "   {u'_id': u'7',\n",
       "    u'_index': u'cbit',\n",
       "    u'_score': 0.2811578,\n",
       "    u'_source': {u'*Compound': u'db-cAMP - dibutyryl-cAMP',\n",
       "     u'*Material': u'PS - polystyrene',\n",
       "     u'*Strain': u'hMSC - human mesenchymal stromal cells',\n",
       "     u'*Study ID': 1,\n",
       "     u'Array or chip design': u'Illumina HT12v3',\n",
       "     u'Assay Type': u'in vitro',\n",
       "     u'Attach Duration (hours)': 12.5,\n",
       "     u'Barcode': u'5342595019_H',\n",
       "     u'Biological Replicate': 3,\n",
       "     u'Biologically degradable': u'no',\n",
       "     u'CAS number': u'362-74-3',\n",
       "     u'Cell type': u'stromal cell',\n",
       "     u'Compound': u'dibutyryl-cAMP',\n",
       "     u'Compound abbreviation': u'db-cAMP',\n",
       "     u'Control': False,\n",
       "     u'Culture medium': u'alpha-MEM',\n",
       "     u'Dose (mM)': 1.0,\n",
       "     u'Dose Duration (hours)': 6.0,\n",
       "     u'Gene expression type': u'Microarray',\n",
       "     u'Group ID': 2,\n",
       "     u'Material Class': u'polymer',\n",
       "     u'Material Name': u'polystyrene',\n",
       "     u'Material Shape': u'flat',\n",
       "     u'Material abbreviation': u'PS',\n",
       "     u'Organ': u'bone',\n",
       "     u'Organism': u'Homo sapiens',\n",
       "     u'Passage number': 2,\n",
       "     u'Platform': u'Illumina',\n",
       "     u'Protocols': u'Protocol_01_Sample_treatment, Protocol_02_Material_synthesis',\n",
       "     u'Sample ID': u'01-2-3',\n",
       "     u'Sample Match': u'5342595019_G',\n",
       "     u'Sample Name': u'5342595019_H',\n",
       "     u'Sex': u'unknown',\n",
       "     u'Source Name': 1,\n",
       "     u'Strain abbreviation': u'hMSC',\n",
       "     u'Strain full name': u'human mesenchymal stromal cells',\n",
       "     u'Study ID': 1,\n",
       "     u'Tissue': u'connective',\n",
       "     u'Transcriptomics Assay Detail: Background correction': u'yes',\n",
       "     u'Transcriptomics Assay Detail: Data Transformation Name': u'variance stabilization',\n",
       "     u'Transcriptomics Assay Detail: Label': u'biotin',\n",
       "     u'Transcriptomics Assay Detail: Normalization Name': u'quantile'},\n",
       "    u'_type': u'sample'},\n",
       "   {u'_id': u'16',\n",
       "    u'_index': u'cbit',\n",
       "    u'_score': 0.2811578,\n",
       "    u'_source': {u'*Compound': u'db-cAMP - dibutyryl-cAMP',\n",
       "     u'*Material': u'PS - polystyrene',\n",
       "     u'*Strain': u'hMSC - human mesenchymal stromal cells',\n",
       "     u'*Study ID': 1,\n",
       "     u'Array or chip design': u'Illumina HT12v3',\n",
       "     u'Assay Type': u'in vitro',\n",
       "     u'Attach Duration (hours)': 12.5,\n",
       "     u'Barcode': u'5342595028_B',\n",
       "     u'Biological Replicate': 1,\n",
       "     u'Biologically degradable': u'no',\n",
       "     u'CAS number': u'362-74-3',\n",
       "     u'Cell type': u'stromal cell',\n",
       "     u'Compound': u'dibutyryl-cAMP',\n",
       "     u'Compound abbreviation': u'db-cAMP',\n",
       "     u'Control': False,\n",
       "     u'Culture medium': u'alpha-MEM',\n",
       "     u'Dose (mM)': 1.0,\n",
       "     u'Dose Duration (hours)': 72.0,\n",
       "     u'Gene expression type': u'Microarray',\n",
       "     u'Group ID': 5,\n",
       "     u'Material Class': u'polymer',\n",
       "     u'Material Name': u'polystyrene',\n",
       "     u'Material Shape': u'flat',\n",
       "     u'Material abbreviation': u'PS',\n",
       "     u'Organ': u'bone',\n",
       "     u'Organism': u'Homo sapiens',\n",
       "     u'Passage number': 2,\n",
       "     u'Platform': u'Illumina',\n",
       "     u'Protocols': u'Protocol_01_Sample_treatment, Protocol_02_Material_synthesis',\n",
       "     u'Sample ID': u'01-5-1',\n",
       "     u'Sample Match': u'5342595028_A',\n",
       "     u'Sample Name': u'5342595028_B',\n",
       "     u'Sex': u'unknown',\n",
       "     u'Source Name': 1,\n",
       "     u'Strain abbreviation': u'hMSC',\n",
       "     u'Strain full name': u'human mesenchymal stromal cells',\n",
       "     u'Study ID': 1,\n",
       "     u'Tissue': u'connective',\n",
       "     u'Transcriptomics Assay Detail: Background correction': u'yes',\n",
       "     u'Transcriptomics Assay Detail: Data Transformation Name': u'variance stabilization',\n",
       "     u'Transcriptomics Assay Detail: Label': u'biotin',\n",
       "     u'Transcriptomics Assay Detail: Normalization Name': u'quantile'},\n",
       "    u'_type': u'sample'},\n",
       "   {u'_id': u'1',\n",
       "    u'_index': u'cbit',\n",
       "    u'_score': 0.05680245,\n",
       "    u'_source': {u'*Study ID': 1,\n",
       "     u'INVESTIGATION': {u'Investigation Identifier': u'1478015927860',\n",
       "      u'Investigation Title': u'Investigation'},\n",
       "     u'ONTOLOGY SOURCE REFERENCE': {u'Term Source Description': u'Experimental Factor Ontology',\n",
       "      u'Term Source File': u'http://data.bioontology.org/ontologies/EFO',\n",
       "      u'Term Source Name': u'EFO',\n",
       "      u'Term Source Version': u'149'},\n",
       "     u'STUDY': {u'Study Description': u'Osteogenic differentiation of human mesenchymal stromal cells (hMSCs) may potentially be used in cell-based bone tissue-engineering applications to enhance the bone-forming potential of these cells. Osteogenic differentiation and adipogenic differentiation are thought to be mutually exclusive, and although several signaling pathways and cues that induce osteogenic or adipogenic differentiation, respectively, have been identified, there is no general consensus on how to optimally differentiate hMSCs into the osteogenic lineage. Some pathways have also been reported to be involved in both adipogenic and osteogenic differentiation, as for example, the protein kinase A (PKA) pathway, and the aim of this study was to investigate the role of cAMP/PKA signaling in differentiation of hMSCs in more detail. We show that activation of this pathway with dibutyryl-cAMP results in enhanced alkaline phosphatase expression, whereas another cAMP analog induces adipogenesis in long-term mineralization cultures. Adipogenic differentiation, induced by 8-bromo-cAMP, was accompanied by stronger PKA activity and higher expression of cAMP-responsive genes, suggesting that stronger activation correlates with adipogenic differentiation. In addition, a whole-genome expression analysis showed an increase in expression of adipogenic genes in 8-br-cAMP-treated cells. Furthermore, by means of quantitative polymerase chain reaction, we show differences in peroxisome proliferator-activated receptor-gamma activation, either alone or in combination with dexamethasone, thus demonstrating differential effects of the PKA pathway, most likely depending on its mode of activation.',\n",
       "      u'Study File Name': u's_study_sample.txt',\n",
       "      u'Study Identifier': u'StudyID_01',\n",
       "      u'Study Public Release Date': u'2012-05-30',\n",
       "      u'Study Researchers Involved': u'Doorn J, Leusink M, Groen N, van de Peppel J, van Leeuwen JP, van Blitterswijk CA, de Boer J',\n",
       "      u'Study Submission Date': u'2011-08-25',\n",
       "      u'Study Title': u'Diverse effects of cyclic AMP variants on osteogenic and adipogenic differentiation of human mesenchymal stromal cells'},\n",
       "     u'STUDY ASSAYS': {u'Study Assay File Name': u'a_transcription_micro_1.txt',\n",
       "      u'Study Assay Measurement Type': u'transcription profiling',\n",
       "      u'Study Assay Technology Platform': u'Illumina',\n",
       "      u'Study Assay Technology Type': u'DNA microarray'},\n",
       "     u'STUDY CONTACTS': [{u'Study Person Affiliation': u'Maastricht University',\n",
       "       u'Study Person First Name': u'Jan',\n",
       "       u'Study Person Last Name': u'de Boer'},\n",
       "      {u'Study Person Affiliation': u'Maastricht University',\n",
       "       u'Study Person First Name': u'Dennie',\n",
       "       u'Study Person Last Name': u'Hebels'}],\n",
       "     u'STUDY DESIGN DESCRIPTORS': {u'Study Design Type': u'compound treatment design'},\n",
       "     u'STUDY FACTORS': [{u'Study Factor Name': u'Age',\n",
       "       u'Study Factor Type': u'Age'},\n",
       "      {u'Study Factor Name': u'Attach Duration',\n",
       "       u'Study Factor Type': u'Attach Duration'},\n",
       "      {u'Study Factor Name': u'Compound', u'Study Factor Type': u'Compound'},\n",
       "      {u'Study Factor Name': u'Dose', u'Study Factor Type': u'Dose'},\n",
       "      {u'Study Factor Name': u'Dose Duration',\n",
       "       u'Study Factor Type': u'Dose Duration'},\n",
       "      {u'Study Factor Name': u'Dose Frequency',\n",
       "       u'Study Factor Type': u'Dose Frequency'},\n",
       "      {u'Study Factor Name': u'Culture Duration',\n",
       "       u'Study Factor Type': u'Culture Duration'},\n",
       "      {u'Study Factor Name': u'Material abbreviation',\n",
       "       u'Study Factor Type': u'Material abbreviation'},\n",
       "      {u'Study Factor Name': u'Sintering temperature',\n",
       "       u'Study Factor Type': u'Sintering temperature'}],\n",
       "     u'STUDY PROTOCOLS': [{u'Study Protocol Description': u'Bone marrow aspirates were obtained from donors after obtaining written informed consent. hMSCs were isolated and proliferated as described previously. Briefly, aspirates were resuspended using 20G needles, plated at a density of 5.105 cells/cm2, and cultured in an hMSC proliferation medium, consisting of an alpha-minimal essential medium (alpha-MEM; Life Technologies), 10% fetal bovine serum (FBS; Cambrex Bio sciences, Verviers), 0.2 mM ascorbic acid 2-phosphate (ASAP; Sigma Aldrich), 2 mM L-glutamine (Invitrogen, Life Technologies), 100 U/mL penicillin (Life Technologies), 10 ug/mL streptomycin (Life Technologies), and 1 ng/mL basic fibroblast growth factor (bFGF; Instruchemie). Cells were grown at 37\\xb0C, in a humid atmosphere with 5% CO2. The medium was refreshed twice a week, and cells were used for further subculturing or cryopreservation upon reaching near confluence. The hMSC basic medium was composed of a proliferation medium without bFGF.\\nFor whole-genome expression analysis, hMSCs were seeded in 12-well plates at 5000 cells/cm2 and allowed to attach for 10\\u201315 h in a proliferation medium. The next day, either a basic medium or a basic medium supplemented with 1 mM db-cAMP or 8-br-cAMP was added. After 6 or 72 h of treatment, cells were lyzed directly from the plate, and RNA was isolated.',\n",
       "       u'Study Protocol Name': u'Protocol_01_Sample_treatment',\n",
       "       u'Study Protocol Type': u'Protocol_01_Sample_treatment'},\n",
       "      {u'Study Protocol Description': u'In this study no materials were synthesized. All cells were grown on standard 12-well polystyrene plates.',\n",
       "       u'Study Protocol Name': u'Protocol_02_Material_synthesis',\n",
       "       u'Study Protocol Type': u'Protocol_02_Material_synthesis'},\n",
       "      {u'Study Protocol Description': u'After 6 or 72 h of treatment, cells were lyzed directly from the plate. RNA was isolated using a Bioke RNA II nucleospin RNA isolation kit (Machery Nagel), and RNA concentrations were measured using an ND100 spectrophotometer (Nanodrop technologies).',\n",
       "       u'Study Protocol Name': u'Protocol_03_RNA_extraction',\n",
       "       u'Study Protocol Type': u'Protocol_03_RNA_extraction'},\n",
       "      {u'Study Protocol Description': u\"From 500 ng of RNA, cRNA was synthesized using the Illumina TotalPrep RNA amplification Kit (Ambion/Life Technologies), according to the manufacturer's protocol, and RNA and cRNA quality was verified on Bioanalyzer 2100 (Agilent).\",\n",
       "       u'Study Protocol Name': u'Protocol_04_Labeling',\n",
       "       u'Study Protocol Type': u'Protocol_04_Labeling'},\n",
       "      {u'Study Protocol Description': u\"Microarrays were performed using Illumina HT-12 v3 expression Beadchips (Illumina), according to the manufacturer's protocol. Briefly, 750 ng of cRNA was hybridized on the array overnight, after which the array was washed and blocked. Then, by addition of streptavidin Cy-3 (Illumina), a fluorescent signal was developed.\",\n",
       "       u'Study Protocol Name': u'Protocol_05_Nucleic_acid_hybridization',\n",
       "       u'Study Protocol Parameters Name': u'Hybridization Date',\n",
       "       u'Study Protocol Type': u'Protocol_05_Nucleic_acid_hybridization'},\n",
       "      {u'Study Protocol Description': u'Arrays were scanned on an Illumina iScan, and raw intensity values were background corrected in Genomestudio (Illumina). Further data processing and statistical testing were performed using R and Bioconductor statistical software (www.bioconductor.org/).',\n",
       "       u'Study Protocol Name': u'Protocol_06_Data_collection',\n",
       "       u'Study Protocol Type': u'Protocol_06_Data_collection'},\n",
       "      {u'Study Protocol Description': u'The probe-level raw intensity values were quantile normalized.',\n",
       "       u'Study Protocol Name': u'Protocol_07_Normalization_data_transformation',\n",
       "       u'Study Protocol Parameters Name': u'Background correction',\n",
       "       u'Study Protocol Type': u'Protocol_07_Normalization_data_transformation'},\n",
       "      {u'Study Protocol Description': u'The normalized intensity values were transformed using variance stabilization.',\n",
       "       u'Study Protocol Name': u'Protocol_08_Data transformation',\n",
       "       u'Study Protocol Type': u'Protocol_08_Data transformation'}],\n",
       "     u'STUDY PUBLICATIONS': [{u'Study PubMed ID': u'22646480',\n",
       "       u'Study Publication Author List': u'Doorn J, Leusink M, Groen N, van de Peppel J, van Leeuwen JP, van Blitterswijk CA, de Boer J',\n",
       "       u'Study Publication DOI': u'10.1089/ten.TEA.2011.0484',\n",
       "       u'Study Publication Status': u'published',\n",
       "       u'Study Publication Status Term Accession Number': u'http://www.ebi.ac.uk/efo/EFO_0001796',\n",
       "       u'Study Publication Status Term Source REF': u'EFO',\n",
       "       u'Study Publication Title': u'Diverse effects of cyclic AMP variants on osteogenic and adipogenic differentiation of human mesenchymal stromal cells'}]},\n",
       "    u'_type': u'study'}],\n",
       "  u'max_score': 0.31567356,\n",
       "  u'total': 7},\n",
       " u'timed_out': False,\n",
       " u'took': 6}"
      ]
     },
     "execution_count": 93,
     "metadata": {},
     "output_type": "execute_result"
    }
   ],
   "source": [
    "# Now match studies or samples\n",
    "# (now I get an aggregation result that gives me matching study IDs, but the count is of both\n",
    "#  studies *and* samples that match)\n",
    "query_text = 'db-camp'\n",
    "r = es.search(index='cbit', doc_type=None, body={\n",
    "        \"query\": {\n",
    "            \"match_phrase\": {\n",
    "                \"_all\": query_text\n",
    "            }\n",
    "        },\n",
    "        \"aggs\": {\n",
    "            \"matching_studies\": {\n",
    "                \"terms\": {\n",
    "                    \"field\": \"*Study ID\"\n",
    "                }\n",
    "            }\n",
    "        }\n",
    "    })\n",
    "r"
   ]
  },
  {
   "cell_type": "markdown",
   "metadata": {},
   "source": [
    "---\n",
    "\n",
    "OK, the queries I actually need are tricky, back to `ElasticSearch: The Definitive Guide`\n",
    "\n",
    "---"
   ]
  },
  {
   "cell_type": "code",
   "execution_count": 96,
   "metadata": {
    "collapsed": false
   },
   "outputs": [
    {
     "name": "stdout",
     "output_type": "stream",
     "text": [
      "{\n",
      "  \"active_primary_shards\": 10, \n",
      "  \"active_shards\": 10, \n",
      "  \"active_shards_percent_as_number\": 50.0, \n",
      "  \"cluster_name\": \"elasticsearch\", \n",
      "  \"delayed_unassigned_shards\": 0, \n",
      "  \"initializing_shards\": 0, \n",
      "  \"number_of_data_nodes\": 1, \n",
      "  \"number_of_in_flight_fetch\": 0, \n",
      "  \"number_of_nodes\": 1, \n",
      "  \"number_of_pending_tasks\": 0, \n",
      "  \"relocating_shards\": 0, \n",
      "  \"status\": \"yellow\", \n",
      "  \"task_max_waiting_in_queue_millis\": 0, \n",
      "  \"timed_out\": false, \n",
      "  \"unassigned_shards\": 10\n",
      "}\n"
     ]
    }
   ],
   "source": [
    "p(es.cluster.health())"
   ]
  },
  {
   "cell_type": "code",
   "execution_count": 105,
   "metadata": {
    "collapsed": false
   },
   "outputs": [
    {
     "data": {
      "text/plain": [
       "{u'acknowledged': True}"
      ]
     },
     "execution_count": 105,
     "metadata": {},
     "output_type": "execute_result"
    }
   ],
   "source": [
    "es.indices.create(index='blogs', body={\n",
    "        \"settings\": {\n",
    "            \"number_of_shards\": 3,\n",
    "            \"number_of_replicas\": 1\n",
    "        }\n",
    "    })"
   ]
  },
  {
   "cell_type": "code",
   "execution_count": 106,
   "metadata": {
    "collapsed": false
   },
   "outputs": [
    {
     "data": {
      "text/plain": [
       "{u'blogs': {u'aliases': {},\n",
       "  u'mappings': {},\n",
       "  u'settings': {u'index': {u'creation_date': u'1478273698129',\n",
       "    u'number_of_replicas': u'1',\n",
       "    u'number_of_shards': u'3',\n",
       "    u'uuid': u'JTNn6NNpROuaSNx3-AkUWw',\n",
       "    u'version': {u'created': u'2040199'}}},\n",
       "  u'warmers': {}}}"
      ]
     },
     "execution_count": 106,
     "metadata": {},
     "output_type": "execute_result"
    }
   ],
   "source": [
    "es.indices.get(index='blogs')"
   ]
  },
  {
   "cell_type": "code",
   "execution_count": 107,
   "metadata": {
    "collapsed": false
   },
   "outputs": [
    {
     "name": "stdout",
     "output_type": "stream",
     "text": [
      "{\n",
      "  \"active_primary_shards\": 13, \n",
      "  \"active_shards\": 13, \n",
      "  \"active_shards_percent_as_number\": 50.0, \n",
      "  \"cluster_name\": \"elasticsearch\", \n",
      "  \"delayed_unassigned_shards\": 0, \n",
      "  \"initializing_shards\": 0, \n",
      "  \"number_of_data_nodes\": 1, \n",
      "  \"number_of_in_flight_fetch\": 0, \n",
      "  \"number_of_nodes\": 1, \n",
      "  \"number_of_pending_tasks\": 0, \n",
      "  \"relocating_shards\": 0, \n",
      "  \"status\": \"yellow\", \n",
      "  \"task_max_waiting_in_queue_millis\": 0, \n",
      "  \"timed_out\": false, \n",
      "  \"unassigned_shards\": 13\n",
      "}\n"
     ]
    }
   ],
   "source": [
    "p(es.cluster.health())"
   ]
  },
  {
   "cell_type": "code",
   "execution_count": 109,
   "metadata": {
    "collapsed": false
   },
   "outputs": [
    {
     "data": {
      "text/plain": [
       "{u'acknowledged': True}"
      ]
     },
     "execution_count": 109,
     "metadata": {},
     "output_type": "execute_result"
    }
   ],
   "source": [
    "es.indices.put_settings(index='blogs', body={\n",
    "        \"number_of_replicas\": 2\n",
    "    })"
   ]
  },
  {
   "cell_type": "code",
   "execution_count": 110,
   "metadata": {
    "collapsed": false
   },
   "outputs": [
    {
     "data": {
      "text/plain": [
       "{u'blogs': {u'aliases': {},\n",
       "  u'mappings': {},\n",
       "  u'settings': {u'index': {u'creation_date': u'1478273698129',\n",
       "    u'number_of_replicas': u'2',\n",
       "    u'number_of_shards': u'3',\n",
       "    u'uuid': u'JTNn6NNpROuaSNx3-AkUWw',\n",
       "    u'version': {u'created': u'2040199'}}},\n",
       "  u'warmers': {}}}"
      ]
     },
     "execution_count": 110,
     "metadata": {},
     "output_type": "execute_result"
    }
   ],
   "source": [
    "es.indices.get(index='blogs')"
   ]
  },
  {
   "cell_type": "markdown",
   "metadata": {},
   "source": [
    "In reality, it looks like I should store studies and samples in different *indices* in order to have different mappings for them (they're very different).  Maybe I can use for each sample the study id as the type: all samples look very similar, but samples from a given study look even more similar to each other.  Moreover, then I get the Study ID of the sample for free in ES' metadata"
   ]
  },
  {
   "cell_type": "markdown",
   "metadata": {},
   "source": [
    "Interesting tidbit: I can let ES generate `id`s for me :-D  But they're shortGUIDs..."
   ]
  },
  {
   "cell_type": "code",
   "execution_count": 111,
   "metadata": {
    "collapsed": false
   },
   "outputs": [
    {
     "data": {
      "text/plain": [
       "{u'_id': u'123',\n",
       " u'_index': u'website',\n",
       " u'_shards': {u'failed': 0, u'successful': 1, u'total': 2},\n",
       " u'_type': u'blog',\n",
       " u'_version': 1,\n",
       " u'created': True}"
      ]
     },
     "execution_count": 111,
     "metadata": {},
     "output_type": "execute_result"
    }
   ],
   "source": [
    "es.index(index='website', doc_type='blog', id=123, body={\n",
    "        \"title\": \"My first blog entry\",\n",
    "        \"text\":  \"Just trying this out...\",\n",
    "        \"date\":  \"2014/01/01\"\n",
    "    })"
   ]
  },
  {
   "cell_type": "code",
   "execution_count": 112,
   "metadata": {
    "collapsed": false
   },
   "outputs": [
    {
     "data": {
      "text/plain": [
       "{u'_id': u'AVgwC0SFopLqMxzUh2_t',\n",
       " u'_index': u'website',\n",
       " u'_shards': {u'failed': 0, u'successful': 1, u'total': 2},\n",
       " u'_type': u'blog',\n",
       " u'_version': 1,\n",
       " u'created': True}"
      ]
     },
     "execution_count": 112,
     "metadata": {},
     "output_type": "execute_result"
    }
   ],
   "source": [
    "es.index(index='website', doc_type='blog', body={\n",
    "  \"title\": \"My second blog entry\",\n",
    "  \"text\":  \"Still trying this out...\",\n",
    "  \"date\":  \"2014/01/01\"\n",
    "})"
   ]
  },
  {
   "cell_type": "code",
   "execution_count": 114,
   "metadata": {
    "collapsed": false
   },
   "outputs": [
    {
     "name": "stdout",
     "output_type": "stream",
     "text": [
      "{\n",
      "  \"_id\": \"123\", \n",
      "  \"_index\": \"website\", \n",
      "  \"_source\": {\n",
      "    \"date\": \"2014/01/01\", \n",
      "    \"text\": \"Just trying this out...\", \n",
      "    \"title\": \"My first blog entry\"\n",
      "  }, \n",
      "  \"_type\": \"blog\", \n",
      "  \"_version\": 1, \n",
      "  \"found\": true\n",
      "}\n"
     ]
    }
   ],
   "source": [
    "p(es.get(index='website', doc_type='blog', id='123'))"
   ]
  },
  {
   "cell_type": "code",
   "execution_count": 116,
   "metadata": {
    "collapsed": false
   },
   "outputs": [
    {
     "data": {
      "text/plain": [
       "{u'_id': u'123',\n",
       " u'_index': u'website',\n",
       " u'_source': {u'text': u'Just trying this out...',\n",
       "  u'title': u'My first blog entry'},\n",
       " u'_type': u'blog',\n",
       " u'_version': 1,\n",
       " u'found': True}"
      ]
     },
     "execution_count": 116,
     "metadata": {},
     "output_type": "execute_result"
    }
   ],
   "source": [
    "es.get(index='website', doc_type='blog', id='123', _source_include=['title', 'text'])"
   ]
  },
  {
   "cell_type": "code",
   "execution_count": 119,
   "metadata": {
    "collapsed": false
   },
   "outputs": [
    {
     "data": {
      "text/plain": [
       "{u'date': u'2014/01/01',\n",
       " u'text': u'Just trying this out...',\n",
       " u'title': u'My first blog entry'}"
      ]
     },
     "execution_count": 119,
     "metadata": {},
     "output_type": "execute_result"
    }
   ],
   "source": [
    "es.get_source(index='website', doc_type='blog', id='123')"
   ]
  },
  {
   "cell_type": "code",
   "execution_count": 120,
   "metadata": {
    "collapsed": false
   },
   "outputs": [
    {
     "data": {
      "text/plain": [
       "{u'_id': u'123',\n",
       " u'_index': u'website',\n",
       " u'_shards': {u'failed': 0, u'successful': 1, u'total': 2},\n",
       " u'_type': u'blog',\n",
       " u'_version': 2,\n",
       " u'created': False}"
      ]
     },
     "execution_count": 120,
     "metadata": {},
     "output_type": "execute_result"
    }
   ],
   "source": [
    "es.index(index='website', doc_type='blog', id='123', body={\n",
    "        \"title\": \"My first blog entry\",\n",
    "  \"text\":  \"I am starting to get the hang of this...\",\n",
    "  \"date\":  \"2014/01/02\"\n",
    "    })"
   ]
  },
  {
   "cell_type": "code",
   "execution_count": 122,
   "metadata": {
    "collapsed": false
   },
   "outputs": [
    {
     "ename": "ConflictError",
     "evalue": "TransportError(409, u'document_already_exists_exception', u'[blog][123]: document already exists')",
     "output_type": "error",
     "traceback": [
      "\u001b[0;31m---------------------------------------------------------------------------\u001b[0m",
      "\u001b[0;31mConflictError\u001b[0m                             Traceback (most recent call last)",
      "\u001b[0;32m<ipython-input-122-3f8ea08bb9bf>\u001b[0m in \u001b[0;36m<module>\u001b[0;34m()\u001b[0m\n\u001b[1;32m      2\u001b[0m         \u001b[0;34m\"title\"\u001b[0m\u001b[0;34m:\u001b[0m \u001b[0;34m\"My first blog entry\"\u001b[0m\u001b[0;34m,\u001b[0m\u001b[0;34m\u001b[0m\u001b[0m\n\u001b[1;32m      3\u001b[0m   \u001b[0;34m\"text\"\u001b[0m\u001b[0;34m:\u001b[0m  \u001b[0;34m\"I am starting to get the hang of this...\"\u001b[0m\u001b[0;34m,\u001b[0m\u001b[0;34m\u001b[0m\u001b[0m\n\u001b[0;32m----> 4\u001b[0;31m   \u001b[0;34m\"date\"\u001b[0m\u001b[0;34m:\u001b[0m  \u001b[0;34m\"2014/01/02\"\u001b[0m\u001b[0;34m\u001b[0m\u001b[0m\n\u001b[0m\u001b[1;32m      5\u001b[0m     })\n",
      "\u001b[0;32m/Users/pat/Work/VarillySciences/2016_UMaastricht/cbit/venv/lib/python2.7/site-packages/elasticsearch/client/utils.pyc\u001b[0m in \u001b[0;36m_wrapped\u001b[0;34m(*args, **kwargs)\u001b[0m\n\u001b[1;32m     69\u001b[0m                 \u001b[0;32mif\u001b[0m \u001b[0mp\u001b[0m \u001b[0;32min\u001b[0m \u001b[0mkwargs\u001b[0m\u001b[0;34m:\u001b[0m\u001b[0;34m\u001b[0m\u001b[0m\n\u001b[1;32m     70\u001b[0m                     \u001b[0mparams\u001b[0m\u001b[0;34m[\u001b[0m\u001b[0mp\u001b[0m\u001b[0;34m]\u001b[0m \u001b[0;34m=\u001b[0m \u001b[0mkwargs\u001b[0m\u001b[0;34m.\u001b[0m\u001b[0mpop\u001b[0m\u001b[0;34m(\u001b[0m\u001b[0mp\u001b[0m\u001b[0;34m)\u001b[0m\u001b[0;34m\u001b[0m\u001b[0m\n\u001b[0;32m---> 71\u001b[0;31m             \u001b[0;32mreturn\u001b[0m \u001b[0mfunc\u001b[0m\u001b[0;34m(\u001b[0m\u001b[0;34m*\u001b[0m\u001b[0margs\u001b[0m\u001b[0;34m,\u001b[0m \u001b[0mparams\u001b[0m\u001b[0;34m=\u001b[0m\u001b[0mparams\u001b[0m\u001b[0;34m,\u001b[0m \u001b[0;34m**\u001b[0m\u001b[0mkwargs\u001b[0m\u001b[0;34m)\u001b[0m\u001b[0;34m\u001b[0m\u001b[0m\n\u001b[0m\u001b[1;32m     72\u001b[0m         \u001b[0;32mreturn\u001b[0m \u001b[0m_wrapped\u001b[0m\u001b[0;34m\u001b[0m\u001b[0m\n\u001b[1;32m     73\u001b[0m     \u001b[0;32mreturn\u001b[0m \u001b[0m_wrapper\u001b[0m\u001b[0;34m\u001b[0m\u001b[0m\n",
      "\u001b[0;32m/Users/pat/Work/VarillySciences/2016_UMaastricht/cbit/venv/lib/python2.7/site-packages/elasticsearch/client/__init__.pyc\u001b[0m in \u001b[0;36mcreate\u001b[0;34m(self, index, doc_type, id, body, params)\u001b[0m\n\u001b[1;32m    258\u001b[0m                 \u001b[0;32mraise\u001b[0m \u001b[0mValueError\u001b[0m\u001b[0;34m(\u001b[0m\u001b[0;34m\"Empty value passed for a required argument.\"\u001b[0m\u001b[0;34m)\u001b[0m\u001b[0;34m\u001b[0m\u001b[0m\n\u001b[1;32m    259\u001b[0m         return self.transport.perform_request('PUT', _make_path(index, doc_type,\n\u001b[0;32m--> 260\u001b[0;31m             id, '_create'), params=params, body=body)\n\u001b[0m\u001b[1;32m    261\u001b[0m \u001b[0;34m\u001b[0m\u001b[0m\n\u001b[1;32m    262\u001b[0m     @query_params('op_type', 'parent', 'pipeline', 'refresh', 'routing',\n",
      "\u001b[0;32m/Users/pat/Work/VarillySciences/2016_UMaastricht/cbit/venv/lib/python2.7/site-packages/elasticsearch/transport.pyc\u001b[0m in \u001b[0;36mperform_request\u001b[0;34m(self, method, url, params, body)\u001b[0m\n\u001b[1;32m    325\u001b[0m \u001b[0;34m\u001b[0m\u001b[0m\n\u001b[1;32m    326\u001b[0m             \u001b[0;32mtry\u001b[0m\u001b[0;34m:\u001b[0m\u001b[0;34m\u001b[0m\u001b[0m\n\u001b[0;32m--> 327\u001b[0;31m                 \u001b[0mstatus\u001b[0m\u001b[0;34m,\u001b[0m \u001b[0mheaders\u001b[0m\u001b[0;34m,\u001b[0m \u001b[0mdata\u001b[0m \u001b[0;34m=\u001b[0m \u001b[0mconnection\u001b[0m\u001b[0;34m.\u001b[0m\u001b[0mperform_request\u001b[0m\u001b[0;34m(\u001b[0m\u001b[0mmethod\u001b[0m\u001b[0;34m,\u001b[0m \u001b[0murl\u001b[0m\u001b[0;34m,\u001b[0m \u001b[0mparams\u001b[0m\u001b[0;34m,\u001b[0m \u001b[0mbody\u001b[0m\u001b[0;34m,\u001b[0m \u001b[0mignore\u001b[0m\u001b[0;34m=\u001b[0m\u001b[0mignore\u001b[0m\u001b[0;34m,\u001b[0m \u001b[0mtimeout\u001b[0m\u001b[0;34m=\u001b[0m\u001b[0mtimeout\u001b[0m\u001b[0;34m)\u001b[0m\u001b[0;34m\u001b[0m\u001b[0m\n\u001b[0m\u001b[1;32m    328\u001b[0m \u001b[0;34m\u001b[0m\u001b[0m\n\u001b[1;32m    329\u001b[0m             \u001b[0;32mexcept\u001b[0m \u001b[0mTransportError\u001b[0m \u001b[0;32mas\u001b[0m \u001b[0me\u001b[0m\u001b[0;34m:\u001b[0m\u001b[0;34m\u001b[0m\u001b[0m\n",
      "\u001b[0;32m/Users/pat/Work/VarillySciences/2016_UMaastricht/cbit/venv/lib/python2.7/site-packages/elasticsearch/connection/http_urllib3.pyc\u001b[0m in \u001b[0;36mperform_request\u001b[0;34m(self, method, url, params, body, timeout, ignore)\u001b[0m\n\u001b[1;32m    122\u001b[0m         \u001b[0;32mif\u001b[0m \u001b[0;32mnot\u001b[0m \u001b[0;34m(\u001b[0m\u001b[0;36m200\u001b[0m \u001b[0;34m<=\u001b[0m \u001b[0mresponse\u001b[0m\u001b[0;34m.\u001b[0m\u001b[0mstatus\u001b[0m \u001b[0;34m<\u001b[0m \u001b[0;36m300\u001b[0m\u001b[0;34m)\u001b[0m \u001b[0;32mand\u001b[0m \u001b[0mresponse\u001b[0m\u001b[0;34m.\u001b[0m\u001b[0mstatus\u001b[0m \u001b[0;32mnot\u001b[0m \u001b[0;32min\u001b[0m \u001b[0mignore\u001b[0m\u001b[0;34m:\u001b[0m\u001b[0;34m\u001b[0m\u001b[0m\n\u001b[1;32m    123\u001b[0m             \u001b[0mself\u001b[0m\u001b[0;34m.\u001b[0m\u001b[0mlog_request_fail\u001b[0m\u001b[0;34m(\u001b[0m\u001b[0mmethod\u001b[0m\u001b[0;34m,\u001b[0m \u001b[0mfull_url\u001b[0m\u001b[0;34m,\u001b[0m \u001b[0murl\u001b[0m\u001b[0;34m,\u001b[0m \u001b[0mbody\u001b[0m\u001b[0;34m,\u001b[0m \u001b[0mduration\u001b[0m\u001b[0;34m,\u001b[0m \u001b[0mresponse\u001b[0m\u001b[0;34m.\u001b[0m\u001b[0mstatus\u001b[0m\u001b[0;34m,\u001b[0m \u001b[0mraw_data\u001b[0m\u001b[0;34m)\u001b[0m\u001b[0;34m\u001b[0m\u001b[0m\n\u001b[0;32m--> 124\u001b[0;31m             \u001b[0mself\u001b[0m\u001b[0;34m.\u001b[0m\u001b[0m_raise_error\u001b[0m\u001b[0;34m(\u001b[0m\u001b[0mresponse\u001b[0m\u001b[0;34m.\u001b[0m\u001b[0mstatus\u001b[0m\u001b[0;34m,\u001b[0m \u001b[0mraw_data\u001b[0m\u001b[0;34m)\u001b[0m\u001b[0;34m\u001b[0m\u001b[0m\n\u001b[0m\u001b[1;32m    125\u001b[0m \u001b[0;34m\u001b[0m\u001b[0m\n\u001b[1;32m    126\u001b[0m         self.log_request_success(method, full_url, url, body, response.status,\n",
      "\u001b[0;32m/Users/pat/Work/VarillySciences/2016_UMaastricht/cbit/venv/lib/python2.7/site-packages/elasticsearch/connection/base.pyc\u001b[0m in \u001b[0;36m_raise_error\u001b[0;34m(self, status_code, raw_data)\u001b[0m\n\u001b[1;32m    120\u001b[0m             \u001b[0mlogger\u001b[0m\u001b[0;34m.\u001b[0m\u001b[0mwarning\u001b[0m\u001b[0;34m(\u001b[0m\u001b[0;34m'Undecodable raw error response from server: %s'\u001b[0m\u001b[0;34m,\u001b[0m \u001b[0merr\u001b[0m\u001b[0;34m)\u001b[0m\u001b[0;34m\u001b[0m\u001b[0m\n\u001b[1;32m    121\u001b[0m \u001b[0;34m\u001b[0m\u001b[0m\n\u001b[0;32m--> 122\u001b[0;31m         \u001b[0;32mraise\u001b[0m \u001b[0mHTTP_EXCEPTIONS\u001b[0m\u001b[0;34m.\u001b[0m\u001b[0mget\u001b[0m\u001b[0;34m(\u001b[0m\u001b[0mstatus_code\u001b[0m\u001b[0;34m,\u001b[0m \u001b[0mTransportError\u001b[0m\u001b[0;34m)\u001b[0m\u001b[0;34m(\u001b[0m\u001b[0mstatus_code\u001b[0m\u001b[0;34m,\u001b[0m \u001b[0merror_message\u001b[0m\u001b[0;34m,\u001b[0m \u001b[0madditional_info\u001b[0m\u001b[0;34m)\u001b[0m\u001b[0;34m\u001b[0m\u001b[0m\n\u001b[0m\u001b[1;32m    123\u001b[0m \u001b[0;34m\u001b[0m\u001b[0m\n\u001b[1;32m    124\u001b[0m \u001b[0;34m\u001b[0m\u001b[0m\n",
      "\u001b[0;31mConflictError\u001b[0m: TransportError(409, u'document_already_exists_exception', u'[blog][123]: document already exists')"
     ]
    }
   ],
   "source": [
    "es.create(index='website', doc_type='blog', id='123', body={\n",
    "        \"title\": \"My first blog entry\",\n",
    "  \"text\":  \"I am starting to get the hang of this...\",\n",
    "  \"date\":  \"2014/01/02\"\n",
    "    })"
   ]
  },
  {
   "cell_type": "code",
   "execution_count": 123,
   "metadata": {
    "collapsed": false
   },
   "outputs": [
    {
     "ename": "ConflictError",
     "evalue": "TransportError(409, u'document_already_exists_exception', u'[blog][123]: document already exists')",
     "output_type": "error",
     "traceback": [
      "\u001b[0;31m---------------------------------------------------------------------------\u001b[0m",
      "\u001b[0;31mConflictError\u001b[0m                             Traceback (most recent call last)",
      "\u001b[0;32m<ipython-input-123-3639170a4a91>\u001b[0m in \u001b[0;36m<module>\u001b[0;34m()\u001b[0m\n\u001b[1;32m      2\u001b[0m         \u001b[0;34m\"title\"\u001b[0m\u001b[0;34m:\u001b[0m \u001b[0;34m\"My first blog entry\"\u001b[0m\u001b[0;34m,\u001b[0m\u001b[0;34m\u001b[0m\u001b[0m\n\u001b[1;32m      3\u001b[0m   \u001b[0;34m\"text\"\u001b[0m\u001b[0;34m:\u001b[0m  \u001b[0;34m\"I am starting to get the hang of this...\"\u001b[0m\u001b[0;34m,\u001b[0m\u001b[0;34m\u001b[0m\u001b[0m\n\u001b[0;32m----> 4\u001b[0;31m   \u001b[0;34m\"date\"\u001b[0m\u001b[0;34m:\u001b[0m  \u001b[0;34m\"2014/01/02\"\u001b[0m\u001b[0;34m\u001b[0m\u001b[0m\n\u001b[0m\u001b[1;32m      5\u001b[0m     })\n",
      "\u001b[0;32m/Users/pat/Work/VarillySciences/2016_UMaastricht/cbit/venv/lib/python2.7/site-packages/elasticsearch/client/utils.pyc\u001b[0m in \u001b[0;36m_wrapped\u001b[0;34m(*args, **kwargs)\u001b[0m\n\u001b[1;32m     69\u001b[0m                 \u001b[0;32mif\u001b[0m \u001b[0mp\u001b[0m \u001b[0;32min\u001b[0m \u001b[0mkwargs\u001b[0m\u001b[0;34m:\u001b[0m\u001b[0;34m\u001b[0m\u001b[0m\n\u001b[1;32m     70\u001b[0m                     \u001b[0mparams\u001b[0m\u001b[0;34m[\u001b[0m\u001b[0mp\u001b[0m\u001b[0;34m]\u001b[0m \u001b[0;34m=\u001b[0m \u001b[0mkwargs\u001b[0m\u001b[0;34m.\u001b[0m\u001b[0mpop\u001b[0m\u001b[0;34m(\u001b[0m\u001b[0mp\u001b[0m\u001b[0;34m)\u001b[0m\u001b[0;34m\u001b[0m\u001b[0m\n\u001b[0;32m---> 71\u001b[0;31m             \u001b[0;32mreturn\u001b[0m \u001b[0mfunc\u001b[0m\u001b[0;34m(\u001b[0m\u001b[0;34m*\u001b[0m\u001b[0margs\u001b[0m\u001b[0;34m,\u001b[0m \u001b[0mparams\u001b[0m\u001b[0;34m=\u001b[0m\u001b[0mparams\u001b[0m\u001b[0;34m,\u001b[0m \u001b[0;34m**\u001b[0m\u001b[0mkwargs\u001b[0m\u001b[0;34m)\u001b[0m\u001b[0;34m\u001b[0m\u001b[0m\n\u001b[0m\u001b[1;32m     72\u001b[0m         \u001b[0;32mreturn\u001b[0m \u001b[0m_wrapped\u001b[0m\u001b[0;34m\u001b[0m\u001b[0m\n\u001b[1;32m     73\u001b[0m     \u001b[0;32mreturn\u001b[0m \u001b[0m_wrapper\u001b[0m\u001b[0;34m\u001b[0m\u001b[0m\n",
      "\u001b[0;32m/Users/pat/Work/VarillySciences/2016_UMaastricht/cbit/venv/lib/python2.7/site-packages/elasticsearch/client/__init__.pyc\u001b[0m in \u001b[0;36mindex\u001b[0;34m(self, index, doc_type, body, id, params)\u001b[0m\n\u001b[1;32m    298\u001b[0m                 \u001b[0;32mraise\u001b[0m \u001b[0mValueError\u001b[0m\u001b[0;34m(\u001b[0m\u001b[0;34m\"Empty value passed for a required argument.\"\u001b[0m\u001b[0;34m)\u001b[0m\u001b[0;34m\u001b[0m\u001b[0m\n\u001b[1;32m    299\u001b[0m         return self.transport.perform_request('POST' if id in SKIP_IN_PATH else 'PUT',\n\u001b[0;32m--> 300\u001b[0;31m             _make_path(index, doc_type, id), params=params, body=body)\n\u001b[0m\u001b[1;32m    301\u001b[0m \u001b[0;34m\u001b[0m\u001b[0m\n\u001b[1;32m    302\u001b[0m     \u001b[0;34m@\u001b[0m\u001b[0mquery_params\u001b[0m\u001b[0;34m(\u001b[0m\u001b[0;34m'parent'\u001b[0m\u001b[0;34m,\u001b[0m \u001b[0;34m'preference'\u001b[0m\u001b[0;34m,\u001b[0m \u001b[0;34m'realtime'\u001b[0m\u001b[0;34m,\u001b[0m \u001b[0;34m'refresh'\u001b[0m\u001b[0;34m,\u001b[0m \u001b[0;34m'routing'\u001b[0m\u001b[0;34m)\u001b[0m\u001b[0;34m\u001b[0m\u001b[0m\n",
      "\u001b[0;32m/Users/pat/Work/VarillySciences/2016_UMaastricht/cbit/venv/lib/python2.7/site-packages/elasticsearch/transport.pyc\u001b[0m in \u001b[0;36mperform_request\u001b[0;34m(self, method, url, params, body)\u001b[0m\n\u001b[1;32m    325\u001b[0m \u001b[0;34m\u001b[0m\u001b[0m\n\u001b[1;32m    326\u001b[0m             \u001b[0;32mtry\u001b[0m\u001b[0;34m:\u001b[0m\u001b[0;34m\u001b[0m\u001b[0m\n\u001b[0;32m--> 327\u001b[0;31m                 \u001b[0mstatus\u001b[0m\u001b[0;34m,\u001b[0m \u001b[0mheaders\u001b[0m\u001b[0;34m,\u001b[0m \u001b[0mdata\u001b[0m \u001b[0;34m=\u001b[0m \u001b[0mconnection\u001b[0m\u001b[0;34m.\u001b[0m\u001b[0mperform_request\u001b[0m\u001b[0;34m(\u001b[0m\u001b[0mmethod\u001b[0m\u001b[0;34m,\u001b[0m \u001b[0murl\u001b[0m\u001b[0;34m,\u001b[0m \u001b[0mparams\u001b[0m\u001b[0;34m,\u001b[0m \u001b[0mbody\u001b[0m\u001b[0;34m,\u001b[0m \u001b[0mignore\u001b[0m\u001b[0;34m=\u001b[0m\u001b[0mignore\u001b[0m\u001b[0;34m,\u001b[0m \u001b[0mtimeout\u001b[0m\u001b[0;34m=\u001b[0m\u001b[0mtimeout\u001b[0m\u001b[0;34m)\u001b[0m\u001b[0;34m\u001b[0m\u001b[0m\n\u001b[0m\u001b[1;32m    328\u001b[0m \u001b[0;34m\u001b[0m\u001b[0m\n\u001b[1;32m    329\u001b[0m             \u001b[0;32mexcept\u001b[0m \u001b[0mTransportError\u001b[0m \u001b[0;32mas\u001b[0m \u001b[0me\u001b[0m\u001b[0;34m:\u001b[0m\u001b[0;34m\u001b[0m\u001b[0m\n",
      "\u001b[0;32m/Users/pat/Work/VarillySciences/2016_UMaastricht/cbit/venv/lib/python2.7/site-packages/elasticsearch/connection/http_urllib3.pyc\u001b[0m in \u001b[0;36mperform_request\u001b[0;34m(self, method, url, params, body, timeout, ignore)\u001b[0m\n\u001b[1;32m    122\u001b[0m         \u001b[0;32mif\u001b[0m \u001b[0;32mnot\u001b[0m \u001b[0;34m(\u001b[0m\u001b[0;36m200\u001b[0m \u001b[0;34m<=\u001b[0m \u001b[0mresponse\u001b[0m\u001b[0;34m.\u001b[0m\u001b[0mstatus\u001b[0m \u001b[0;34m<\u001b[0m \u001b[0;36m300\u001b[0m\u001b[0;34m)\u001b[0m \u001b[0;32mand\u001b[0m \u001b[0mresponse\u001b[0m\u001b[0;34m.\u001b[0m\u001b[0mstatus\u001b[0m \u001b[0;32mnot\u001b[0m \u001b[0;32min\u001b[0m \u001b[0mignore\u001b[0m\u001b[0;34m:\u001b[0m\u001b[0;34m\u001b[0m\u001b[0m\n\u001b[1;32m    123\u001b[0m             \u001b[0mself\u001b[0m\u001b[0;34m.\u001b[0m\u001b[0mlog_request_fail\u001b[0m\u001b[0;34m(\u001b[0m\u001b[0mmethod\u001b[0m\u001b[0;34m,\u001b[0m \u001b[0mfull_url\u001b[0m\u001b[0;34m,\u001b[0m \u001b[0murl\u001b[0m\u001b[0;34m,\u001b[0m \u001b[0mbody\u001b[0m\u001b[0;34m,\u001b[0m \u001b[0mduration\u001b[0m\u001b[0;34m,\u001b[0m \u001b[0mresponse\u001b[0m\u001b[0;34m.\u001b[0m\u001b[0mstatus\u001b[0m\u001b[0;34m,\u001b[0m \u001b[0mraw_data\u001b[0m\u001b[0;34m)\u001b[0m\u001b[0;34m\u001b[0m\u001b[0m\n\u001b[0;32m--> 124\u001b[0;31m             \u001b[0mself\u001b[0m\u001b[0;34m.\u001b[0m\u001b[0m_raise_error\u001b[0m\u001b[0;34m(\u001b[0m\u001b[0mresponse\u001b[0m\u001b[0;34m.\u001b[0m\u001b[0mstatus\u001b[0m\u001b[0;34m,\u001b[0m \u001b[0mraw_data\u001b[0m\u001b[0;34m)\u001b[0m\u001b[0;34m\u001b[0m\u001b[0m\n\u001b[0m\u001b[1;32m    125\u001b[0m \u001b[0;34m\u001b[0m\u001b[0m\n\u001b[1;32m    126\u001b[0m         self.log_request_success(method, full_url, url, body, response.status,\n",
      "\u001b[0;32m/Users/pat/Work/VarillySciences/2016_UMaastricht/cbit/venv/lib/python2.7/site-packages/elasticsearch/connection/base.pyc\u001b[0m in \u001b[0;36m_raise_error\u001b[0;34m(self, status_code, raw_data)\u001b[0m\n\u001b[1;32m    120\u001b[0m             \u001b[0mlogger\u001b[0m\u001b[0;34m.\u001b[0m\u001b[0mwarning\u001b[0m\u001b[0;34m(\u001b[0m\u001b[0;34m'Undecodable raw error response from server: %s'\u001b[0m\u001b[0;34m,\u001b[0m \u001b[0merr\u001b[0m\u001b[0;34m)\u001b[0m\u001b[0;34m\u001b[0m\u001b[0m\n\u001b[1;32m    121\u001b[0m \u001b[0;34m\u001b[0m\u001b[0m\n\u001b[0;32m--> 122\u001b[0;31m         \u001b[0;32mraise\u001b[0m \u001b[0mHTTP_EXCEPTIONS\u001b[0m\u001b[0;34m.\u001b[0m\u001b[0mget\u001b[0m\u001b[0;34m(\u001b[0m\u001b[0mstatus_code\u001b[0m\u001b[0;34m,\u001b[0m \u001b[0mTransportError\u001b[0m\u001b[0;34m)\u001b[0m\u001b[0;34m(\u001b[0m\u001b[0mstatus_code\u001b[0m\u001b[0;34m,\u001b[0m \u001b[0merror_message\u001b[0m\u001b[0;34m,\u001b[0m \u001b[0madditional_info\u001b[0m\u001b[0;34m)\u001b[0m\u001b[0;34m\u001b[0m\u001b[0m\n\u001b[0m\u001b[1;32m    123\u001b[0m \u001b[0;34m\u001b[0m\u001b[0m\n\u001b[1;32m    124\u001b[0m \u001b[0;34m\u001b[0m\u001b[0m\n",
      "\u001b[0;31mConflictError\u001b[0m: TransportError(409, u'document_already_exists_exception', u'[blog][123]: document already exists')"
     ]
    }
   ],
   "source": [
    "es.index(index='website', doc_type='blog', id='123', op_type='create', body={\n",
    "        \"title\": \"My first blog entry\",\n",
    "  \"text\":  \"I am starting to get the hang of this...\",\n",
    "  \"date\":  \"2014/01/02\"\n",
    "    })"
   ]
  },
  {
   "cell_type": "code",
   "execution_count": 124,
   "metadata": {
    "collapsed": false
   },
   "outputs": [
    {
     "data": {
      "text/plain": [
       "{u'_id': u'123',\n",
       " u'_index': u'website',\n",
       " u'_shards': {u'failed': 0, u'successful': 1, u'total': 2},\n",
       " u'_type': u'blog',\n",
       " u'_version': 3,\n",
       " u'found': True}"
      ]
     },
     "execution_count": 124,
     "metadata": {},
     "output_type": "execute_result"
    }
   ],
   "source": [
    "es.delete(index='website', doc_type='blog', id='123')"
   ]
  },
  {
   "cell_type": "code",
   "execution_count": 125,
   "metadata": {
    "collapsed": false
   },
   "outputs": [
    {
     "ename": "NotFoundError",
     "evalue": "TransportError(404, u'{\"found\":false,\"_index\":\"website\",\"_type\":\"blog\",\"_id\":\"123\",\"_version\":4,\"_shards\":{\"total\":2,\"successful\":1,\"failed\":0}}')",
     "output_type": "error",
     "traceback": [
      "\u001b[0;31m---------------------------------------------------------------------------\u001b[0m",
      "\u001b[0;31mNotFoundError\u001b[0m                             Traceback (most recent call last)",
      "\u001b[0;32m<ipython-input-125-10b8fa6a6f96>\u001b[0m in \u001b[0;36m<module>\u001b[0;34m()\u001b[0m\n\u001b[0;32m----> 1\u001b[0;31m \u001b[0mes\u001b[0m\u001b[0;34m.\u001b[0m\u001b[0mdelete\u001b[0m\u001b[0;34m(\u001b[0m\u001b[0mindex\u001b[0m\u001b[0;34m=\u001b[0m\u001b[0;34m'website'\u001b[0m\u001b[0;34m,\u001b[0m \u001b[0mdoc_type\u001b[0m\u001b[0;34m=\u001b[0m\u001b[0;34m'blog'\u001b[0m\u001b[0;34m,\u001b[0m \u001b[0mid\u001b[0m\u001b[0;34m=\u001b[0m\u001b[0;34m'123'\u001b[0m\u001b[0;34m)\u001b[0m\u001b[0;34m\u001b[0m\u001b[0m\n\u001b[0m",
      "\u001b[0;32m/Users/pat/Work/VarillySciences/2016_UMaastricht/cbit/venv/lib/python2.7/site-packages/elasticsearch/client/utils.pyc\u001b[0m in \u001b[0;36m_wrapped\u001b[0;34m(*args, **kwargs)\u001b[0m\n\u001b[1;32m     69\u001b[0m                 \u001b[0;32mif\u001b[0m \u001b[0mp\u001b[0m \u001b[0;32min\u001b[0m \u001b[0mkwargs\u001b[0m\u001b[0;34m:\u001b[0m\u001b[0;34m\u001b[0m\u001b[0m\n\u001b[1;32m     70\u001b[0m                     \u001b[0mparams\u001b[0m\u001b[0;34m[\u001b[0m\u001b[0mp\u001b[0m\u001b[0;34m]\u001b[0m \u001b[0;34m=\u001b[0m \u001b[0mkwargs\u001b[0m\u001b[0;34m.\u001b[0m\u001b[0mpop\u001b[0m\u001b[0;34m(\u001b[0m\u001b[0mp\u001b[0m\u001b[0;34m)\u001b[0m\u001b[0;34m\u001b[0m\u001b[0m\n\u001b[0;32m---> 71\u001b[0;31m             \u001b[0;32mreturn\u001b[0m \u001b[0mfunc\u001b[0m\u001b[0;34m(\u001b[0m\u001b[0;34m*\u001b[0m\u001b[0margs\u001b[0m\u001b[0;34m,\u001b[0m \u001b[0mparams\u001b[0m\u001b[0;34m=\u001b[0m\u001b[0mparams\u001b[0m\u001b[0;34m,\u001b[0m \u001b[0;34m**\u001b[0m\u001b[0mkwargs\u001b[0m\u001b[0;34m)\u001b[0m\u001b[0;34m\u001b[0m\u001b[0m\n\u001b[0m\u001b[1;32m     72\u001b[0m         \u001b[0;32mreturn\u001b[0m \u001b[0m_wrapped\u001b[0m\u001b[0;34m\u001b[0m\u001b[0m\n\u001b[1;32m     73\u001b[0m     \u001b[0;32mreturn\u001b[0m \u001b[0m_wrapper\u001b[0m\u001b[0;34m\u001b[0m\u001b[0m\n",
      "\u001b[0;32m/Users/pat/Work/VarillySciences/2016_UMaastricht/cbit/venv/lib/python2.7/site-packages/elasticsearch/client/__init__.pyc\u001b[0m in \u001b[0;36mdelete\u001b[0;34m(self, index, doc_type, id, params)\u001b[0m\n\u001b[1;32m   1007\u001b[0m                 \u001b[0;32mraise\u001b[0m \u001b[0mValueError\u001b[0m\u001b[0;34m(\u001b[0m\u001b[0;34m\"Empty value passed for a required argument.\"\u001b[0m\u001b[0;34m)\u001b[0m\u001b[0;34m\u001b[0m\u001b[0m\n\u001b[1;32m   1008\u001b[0m         return self.transport.perform_request('DELETE', _make_path(index,\n\u001b[0;32m-> 1009\u001b[0;31m             doc_type, id), params=params)\n\u001b[0m\u001b[1;32m   1010\u001b[0m \u001b[0;34m\u001b[0m\u001b[0m\n\u001b[1;32m   1011\u001b[0m     @query_params('allow_no_indices', 'analyze_wildcard', 'analyzer',\n",
      "\u001b[0;32m/Users/pat/Work/VarillySciences/2016_UMaastricht/cbit/venv/lib/python2.7/site-packages/elasticsearch/transport.pyc\u001b[0m in \u001b[0;36mperform_request\u001b[0;34m(self, method, url, params, body)\u001b[0m\n\u001b[1;32m    325\u001b[0m \u001b[0;34m\u001b[0m\u001b[0m\n\u001b[1;32m    326\u001b[0m             \u001b[0;32mtry\u001b[0m\u001b[0;34m:\u001b[0m\u001b[0;34m\u001b[0m\u001b[0m\n\u001b[0;32m--> 327\u001b[0;31m                 \u001b[0mstatus\u001b[0m\u001b[0;34m,\u001b[0m \u001b[0mheaders\u001b[0m\u001b[0;34m,\u001b[0m \u001b[0mdata\u001b[0m \u001b[0;34m=\u001b[0m \u001b[0mconnection\u001b[0m\u001b[0;34m.\u001b[0m\u001b[0mperform_request\u001b[0m\u001b[0;34m(\u001b[0m\u001b[0mmethod\u001b[0m\u001b[0;34m,\u001b[0m \u001b[0murl\u001b[0m\u001b[0;34m,\u001b[0m \u001b[0mparams\u001b[0m\u001b[0;34m,\u001b[0m \u001b[0mbody\u001b[0m\u001b[0;34m,\u001b[0m \u001b[0mignore\u001b[0m\u001b[0;34m=\u001b[0m\u001b[0mignore\u001b[0m\u001b[0;34m,\u001b[0m \u001b[0mtimeout\u001b[0m\u001b[0;34m=\u001b[0m\u001b[0mtimeout\u001b[0m\u001b[0;34m)\u001b[0m\u001b[0;34m\u001b[0m\u001b[0m\n\u001b[0m\u001b[1;32m    328\u001b[0m \u001b[0;34m\u001b[0m\u001b[0m\n\u001b[1;32m    329\u001b[0m             \u001b[0;32mexcept\u001b[0m \u001b[0mTransportError\u001b[0m \u001b[0;32mas\u001b[0m \u001b[0me\u001b[0m\u001b[0;34m:\u001b[0m\u001b[0;34m\u001b[0m\u001b[0m\n",
      "\u001b[0;32m/Users/pat/Work/VarillySciences/2016_UMaastricht/cbit/venv/lib/python2.7/site-packages/elasticsearch/connection/http_urllib3.pyc\u001b[0m in \u001b[0;36mperform_request\u001b[0;34m(self, method, url, params, body, timeout, ignore)\u001b[0m\n\u001b[1;32m    122\u001b[0m         \u001b[0;32mif\u001b[0m \u001b[0;32mnot\u001b[0m \u001b[0;34m(\u001b[0m\u001b[0;36m200\u001b[0m \u001b[0;34m<=\u001b[0m \u001b[0mresponse\u001b[0m\u001b[0;34m.\u001b[0m\u001b[0mstatus\u001b[0m \u001b[0;34m<\u001b[0m \u001b[0;36m300\u001b[0m\u001b[0;34m)\u001b[0m \u001b[0;32mand\u001b[0m \u001b[0mresponse\u001b[0m\u001b[0;34m.\u001b[0m\u001b[0mstatus\u001b[0m \u001b[0;32mnot\u001b[0m \u001b[0;32min\u001b[0m \u001b[0mignore\u001b[0m\u001b[0;34m:\u001b[0m\u001b[0;34m\u001b[0m\u001b[0m\n\u001b[1;32m    123\u001b[0m             \u001b[0mself\u001b[0m\u001b[0;34m.\u001b[0m\u001b[0mlog_request_fail\u001b[0m\u001b[0;34m(\u001b[0m\u001b[0mmethod\u001b[0m\u001b[0;34m,\u001b[0m \u001b[0mfull_url\u001b[0m\u001b[0;34m,\u001b[0m \u001b[0murl\u001b[0m\u001b[0;34m,\u001b[0m \u001b[0mbody\u001b[0m\u001b[0;34m,\u001b[0m \u001b[0mduration\u001b[0m\u001b[0;34m,\u001b[0m \u001b[0mresponse\u001b[0m\u001b[0;34m.\u001b[0m\u001b[0mstatus\u001b[0m\u001b[0;34m,\u001b[0m \u001b[0mraw_data\u001b[0m\u001b[0;34m)\u001b[0m\u001b[0;34m\u001b[0m\u001b[0m\n\u001b[0;32m--> 124\u001b[0;31m             \u001b[0mself\u001b[0m\u001b[0;34m.\u001b[0m\u001b[0m_raise_error\u001b[0m\u001b[0;34m(\u001b[0m\u001b[0mresponse\u001b[0m\u001b[0;34m.\u001b[0m\u001b[0mstatus\u001b[0m\u001b[0;34m,\u001b[0m \u001b[0mraw_data\u001b[0m\u001b[0;34m)\u001b[0m\u001b[0;34m\u001b[0m\u001b[0m\n\u001b[0m\u001b[1;32m    125\u001b[0m \u001b[0;34m\u001b[0m\u001b[0m\n\u001b[1;32m    126\u001b[0m         self.log_request_success(method, full_url, url, body, response.status,\n",
      "\u001b[0;32m/Users/pat/Work/VarillySciences/2016_UMaastricht/cbit/venv/lib/python2.7/site-packages/elasticsearch/connection/base.pyc\u001b[0m in \u001b[0;36m_raise_error\u001b[0;34m(self, status_code, raw_data)\u001b[0m\n\u001b[1;32m    120\u001b[0m             \u001b[0mlogger\u001b[0m\u001b[0;34m.\u001b[0m\u001b[0mwarning\u001b[0m\u001b[0;34m(\u001b[0m\u001b[0;34m'Undecodable raw error response from server: %s'\u001b[0m\u001b[0;34m,\u001b[0m \u001b[0merr\u001b[0m\u001b[0;34m)\u001b[0m\u001b[0;34m\u001b[0m\u001b[0m\n\u001b[1;32m    121\u001b[0m \u001b[0;34m\u001b[0m\u001b[0m\n\u001b[0;32m--> 122\u001b[0;31m         \u001b[0;32mraise\u001b[0m \u001b[0mHTTP_EXCEPTIONS\u001b[0m\u001b[0;34m.\u001b[0m\u001b[0mget\u001b[0m\u001b[0;34m(\u001b[0m\u001b[0mstatus_code\u001b[0m\u001b[0;34m,\u001b[0m \u001b[0mTransportError\u001b[0m\u001b[0;34m)\u001b[0m\u001b[0;34m(\u001b[0m\u001b[0mstatus_code\u001b[0m\u001b[0;34m,\u001b[0m \u001b[0merror_message\u001b[0m\u001b[0;34m,\u001b[0m \u001b[0madditional_info\u001b[0m\u001b[0;34m)\u001b[0m\u001b[0;34m\u001b[0m\u001b[0m\n\u001b[0m\u001b[1;32m    123\u001b[0m \u001b[0;34m\u001b[0m\u001b[0m\n\u001b[1;32m    124\u001b[0m \u001b[0;34m\u001b[0m\u001b[0m\n",
      "\u001b[0;31mNotFoundError\u001b[0m: TransportError(404, u'{\"found\":false,\"_index\":\"website\",\"_type\":\"blog\",\"_id\":\"123\",\"_version\":4,\"_shards\":{\"total\":2,\"successful\":1,\"failed\":0}}')"
     ]
    }
   ],
   "source": [
    "es.delete(index='website', doc_type='blog', id='123')"
   ]
  },
  {
   "cell_type": "code",
   "execution_count": 126,
   "metadata": {
    "collapsed": false
   },
   "outputs": [
    {
     "data": {
      "text/plain": [
       "{u'_id': u'1',\n",
       " u'_index': u'website',\n",
       " u'_shards': {u'failed': 0, u'successful': 1, u'total': 2},\n",
       " u'_type': u'blog',\n",
       " u'_version': 1,\n",
       " u'created': True}"
      ]
     },
     "execution_count": 126,
     "metadata": {},
     "output_type": "execute_result"
    }
   ],
   "source": [
    "es.create(index='website', doc_type='blog', id='1', body={\n",
    "        \"title\": \"My first blog entry\",\n",
    "        \"text\":  \"Just trying this out...\"\n",
    "    })"
   ]
  },
  {
   "cell_type": "code",
   "execution_count": 127,
   "metadata": {
    "collapsed": false
   },
   "outputs": [
    {
     "data": {
      "text/plain": [
       "{u'_id': u'1',\n",
       " u'_index': u'website',\n",
       " u'_source': {u'text': u'Just trying this out...',\n",
       "  u'title': u'My first blog entry'},\n",
       " u'_type': u'blog',\n",
       " u'_version': 1,\n",
       " u'found': True}"
      ]
     },
     "execution_count": 127,
     "metadata": {},
     "output_type": "execute_result"
    }
   ],
   "source": [
    "es.get(index='website', doc_type='blog', id='1')"
   ]
  },
  {
   "cell_type": "code",
   "execution_count": 128,
   "metadata": {
    "collapsed": false
   },
   "outputs": [
    {
     "data": {
      "text/plain": [
       "{u'_id': u'1',\n",
       " u'_index': u'website',\n",
       " u'_shards': {u'failed': 0, u'successful': 1, u'total': 2},\n",
       " u'_type': u'blog',\n",
       " u'_version': 2,\n",
       " u'created': False}"
      ]
     },
     "execution_count": 128,
     "metadata": {},
     "output_type": "execute_result"
    }
   ],
   "source": [
    "es.index(index='website', doc_type='blog', id='1', version=1, body={\n",
    "  \"title\": \"My first blog entry\",\n",
    "  \"text\":  \"Starting to get the hang of this...\"\n",
    "})"
   ]
  },
  {
   "cell_type": "code",
   "execution_count": 129,
   "metadata": {
    "collapsed": false
   },
   "outputs": [
    {
     "ename": "ConflictError",
     "evalue": "TransportError(409, u'version_conflict_engine_exception', u'[blog][1]: version conflict, current [2], provided [1]')",
     "output_type": "error",
     "traceback": [
      "\u001b[0;31m---------------------------------------------------------------------------\u001b[0m",
      "\u001b[0;31mConflictError\u001b[0m                             Traceback (most recent call last)",
      "\u001b[0;32m<ipython-input-129-adb076e946d9>\u001b[0m in \u001b[0;36m<module>\u001b[0;34m()\u001b[0m\n\u001b[1;32m      1\u001b[0m es.index(index='website', doc_type='blog', id='1', version=1, body={\n\u001b[1;32m      2\u001b[0m   \u001b[0;34m\"title\"\u001b[0m\u001b[0;34m:\u001b[0m \u001b[0;34m\"My first blog entry\"\u001b[0m\u001b[0;34m,\u001b[0m\u001b[0;34m\u001b[0m\u001b[0m\n\u001b[0;32m----> 3\u001b[0;31m   \u001b[0;34m\"text\"\u001b[0m\u001b[0;34m:\u001b[0m  \u001b[0;34m\"Starting to get the hang of this...\"\u001b[0m\u001b[0;34m\u001b[0m\u001b[0m\n\u001b[0m\u001b[1;32m      4\u001b[0m })\n",
      "\u001b[0;32m/Users/pat/Work/VarillySciences/2016_UMaastricht/cbit/venv/lib/python2.7/site-packages/elasticsearch/client/utils.pyc\u001b[0m in \u001b[0;36m_wrapped\u001b[0;34m(*args, **kwargs)\u001b[0m\n\u001b[1;32m     69\u001b[0m                 \u001b[0;32mif\u001b[0m \u001b[0mp\u001b[0m \u001b[0;32min\u001b[0m \u001b[0mkwargs\u001b[0m\u001b[0;34m:\u001b[0m\u001b[0;34m\u001b[0m\u001b[0m\n\u001b[1;32m     70\u001b[0m                     \u001b[0mparams\u001b[0m\u001b[0;34m[\u001b[0m\u001b[0mp\u001b[0m\u001b[0;34m]\u001b[0m \u001b[0;34m=\u001b[0m \u001b[0mkwargs\u001b[0m\u001b[0;34m.\u001b[0m\u001b[0mpop\u001b[0m\u001b[0;34m(\u001b[0m\u001b[0mp\u001b[0m\u001b[0;34m)\u001b[0m\u001b[0;34m\u001b[0m\u001b[0m\n\u001b[0;32m---> 71\u001b[0;31m             \u001b[0;32mreturn\u001b[0m \u001b[0mfunc\u001b[0m\u001b[0;34m(\u001b[0m\u001b[0;34m*\u001b[0m\u001b[0margs\u001b[0m\u001b[0;34m,\u001b[0m \u001b[0mparams\u001b[0m\u001b[0;34m=\u001b[0m\u001b[0mparams\u001b[0m\u001b[0;34m,\u001b[0m \u001b[0;34m**\u001b[0m\u001b[0mkwargs\u001b[0m\u001b[0;34m)\u001b[0m\u001b[0;34m\u001b[0m\u001b[0m\n\u001b[0m\u001b[1;32m     72\u001b[0m         \u001b[0;32mreturn\u001b[0m \u001b[0m_wrapped\u001b[0m\u001b[0;34m\u001b[0m\u001b[0m\n\u001b[1;32m     73\u001b[0m     \u001b[0;32mreturn\u001b[0m \u001b[0m_wrapper\u001b[0m\u001b[0;34m\u001b[0m\u001b[0m\n",
      "\u001b[0;32m/Users/pat/Work/VarillySciences/2016_UMaastricht/cbit/venv/lib/python2.7/site-packages/elasticsearch/client/__init__.pyc\u001b[0m in \u001b[0;36mindex\u001b[0;34m(self, index, doc_type, body, id, params)\u001b[0m\n\u001b[1;32m    298\u001b[0m                 \u001b[0;32mraise\u001b[0m \u001b[0mValueError\u001b[0m\u001b[0;34m(\u001b[0m\u001b[0;34m\"Empty value passed for a required argument.\"\u001b[0m\u001b[0;34m)\u001b[0m\u001b[0;34m\u001b[0m\u001b[0m\n\u001b[1;32m    299\u001b[0m         return self.transport.perform_request('POST' if id in SKIP_IN_PATH else 'PUT',\n\u001b[0;32m--> 300\u001b[0;31m             _make_path(index, doc_type, id), params=params, body=body)\n\u001b[0m\u001b[1;32m    301\u001b[0m \u001b[0;34m\u001b[0m\u001b[0m\n\u001b[1;32m    302\u001b[0m     \u001b[0;34m@\u001b[0m\u001b[0mquery_params\u001b[0m\u001b[0;34m(\u001b[0m\u001b[0;34m'parent'\u001b[0m\u001b[0;34m,\u001b[0m \u001b[0;34m'preference'\u001b[0m\u001b[0;34m,\u001b[0m \u001b[0;34m'realtime'\u001b[0m\u001b[0;34m,\u001b[0m \u001b[0;34m'refresh'\u001b[0m\u001b[0;34m,\u001b[0m \u001b[0;34m'routing'\u001b[0m\u001b[0;34m)\u001b[0m\u001b[0;34m\u001b[0m\u001b[0m\n",
      "\u001b[0;32m/Users/pat/Work/VarillySciences/2016_UMaastricht/cbit/venv/lib/python2.7/site-packages/elasticsearch/transport.pyc\u001b[0m in \u001b[0;36mperform_request\u001b[0;34m(self, method, url, params, body)\u001b[0m\n\u001b[1;32m    325\u001b[0m \u001b[0;34m\u001b[0m\u001b[0m\n\u001b[1;32m    326\u001b[0m             \u001b[0;32mtry\u001b[0m\u001b[0;34m:\u001b[0m\u001b[0;34m\u001b[0m\u001b[0m\n\u001b[0;32m--> 327\u001b[0;31m                 \u001b[0mstatus\u001b[0m\u001b[0;34m,\u001b[0m \u001b[0mheaders\u001b[0m\u001b[0;34m,\u001b[0m \u001b[0mdata\u001b[0m \u001b[0;34m=\u001b[0m \u001b[0mconnection\u001b[0m\u001b[0;34m.\u001b[0m\u001b[0mperform_request\u001b[0m\u001b[0;34m(\u001b[0m\u001b[0mmethod\u001b[0m\u001b[0;34m,\u001b[0m \u001b[0murl\u001b[0m\u001b[0;34m,\u001b[0m \u001b[0mparams\u001b[0m\u001b[0;34m,\u001b[0m \u001b[0mbody\u001b[0m\u001b[0;34m,\u001b[0m \u001b[0mignore\u001b[0m\u001b[0;34m=\u001b[0m\u001b[0mignore\u001b[0m\u001b[0;34m,\u001b[0m \u001b[0mtimeout\u001b[0m\u001b[0;34m=\u001b[0m\u001b[0mtimeout\u001b[0m\u001b[0;34m)\u001b[0m\u001b[0;34m\u001b[0m\u001b[0m\n\u001b[0m\u001b[1;32m    328\u001b[0m \u001b[0;34m\u001b[0m\u001b[0m\n\u001b[1;32m    329\u001b[0m             \u001b[0;32mexcept\u001b[0m \u001b[0mTransportError\u001b[0m \u001b[0;32mas\u001b[0m \u001b[0me\u001b[0m\u001b[0;34m:\u001b[0m\u001b[0;34m\u001b[0m\u001b[0m\n",
      "\u001b[0;32m/Users/pat/Work/VarillySciences/2016_UMaastricht/cbit/venv/lib/python2.7/site-packages/elasticsearch/connection/http_urllib3.pyc\u001b[0m in \u001b[0;36mperform_request\u001b[0;34m(self, method, url, params, body, timeout, ignore)\u001b[0m\n\u001b[1;32m    122\u001b[0m         \u001b[0;32mif\u001b[0m \u001b[0;32mnot\u001b[0m \u001b[0;34m(\u001b[0m\u001b[0;36m200\u001b[0m \u001b[0;34m<=\u001b[0m \u001b[0mresponse\u001b[0m\u001b[0;34m.\u001b[0m\u001b[0mstatus\u001b[0m \u001b[0;34m<\u001b[0m \u001b[0;36m300\u001b[0m\u001b[0;34m)\u001b[0m \u001b[0;32mand\u001b[0m \u001b[0mresponse\u001b[0m\u001b[0;34m.\u001b[0m\u001b[0mstatus\u001b[0m \u001b[0;32mnot\u001b[0m \u001b[0;32min\u001b[0m \u001b[0mignore\u001b[0m\u001b[0;34m:\u001b[0m\u001b[0;34m\u001b[0m\u001b[0m\n\u001b[1;32m    123\u001b[0m             \u001b[0mself\u001b[0m\u001b[0;34m.\u001b[0m\u001b[0mlog_request_fail\u001b[0m\u001b[0;34m(\u001b[0m\u001b[0mmethod\u001b[0m\u001b[0;34m,\u001b[0m \u001b[0mfull_url\u001b[0m\u001b[0;34m,\u001b[0m \u001b[0murl\u001b[0m\u001b[0;34m,\u001b[0m \u001b[0mbody\u001b[0m\u001b[0;34m,\u001b[0m \u001b[0mduration\u001b[0m\u001b[0;34m,\u001b[0m \u001b[0mresponse\u001b[0m\u001b[0;34m.\u001b[0m\u001b[0mstatus\u001b[0m\u001b[0;34m,\u001b[0m \u001b[0mraw_data\u001b[0m\u001b[0;34m)\u001b[0m\u001b[0;34m\u001b[0m\u001b[0m\n\u001b[0;32m--> 124\u001b[0;31m             \u001b[0mself\u001b[0m\u001b[0;34m.\u001b[0m\u001b[0m_raise_error\u001b[0m\u001b[0;34m(\u001b[0m\u001b[0mresponse\u001b[0m\u001b[0;34m.\u001b[0m\u001b[0mstatus\u001b[0m\u001b[0;34m,\u001b[0m \u001b[0mraw_data\u001b[0m\u001b[0;34m)\u001b[0m\u001b[0;34m\u001b[0m\u001b[0m\n\u001b[0m\u001b[1;32m    125\u001b[0m \u001b[0;34m\u001b[0m\u001b[0m\n\u001b[1;32m    126\u001b[0m         self.log_request_success(method, full_url, url, body, response.status,\n",
      "\u001b[0;32m/Users/pat/Work/VarillySciences/2016_UMaastricht/cbit/venv/lib/python2.7/site-packages/elasticsearch/connection/base.pyc\u001b[0m in \u001b[0;36m_raise_error\u001b[0;34m(self, status_code, raw_data)\u001b[0m\n\u001b[1;32m    120\u001b[0m             \u001b[0mlogger\u001b[0m\u001b[0;34m.\u001b[0m\u001b[0mwarning\u001b[0m\u001b[0;34m(\u001b[0m\u001b[0;34m'Undecodable raw error response from server: %s'\u001b[0m\u001b[0;34m,\u001b[0m \u001b[0merr\u001b[0m\u001b[0;34m)\u001b[0m\u001b[0;34m\u001b[0m\u001b[0m\n\u001b[1;32m    121\u001b[0m \u001b[0;34m\u001b[0m\u001b[0m\n\u001b[0;32m--> 122\u001b[0;31m         \u001b[0;32mraise\u001b[0m \u001b[0mHTTP_EXCEPTIONS\u001b[0m\u001b[0;34m.\u001b[0m\u001b[0mget\u001b[0m\u001b[0;34m(\u001b[0m\u001b[0mstatus_code\u001b[0m\u001b[0;34m,\u001b[0m \u001b[0mTransportError\u001b[0m\u001b[0;34m)\u001b[0m\u001b[0;34m(\u001b[0m\u001b[0mstatus_code\u001b[0m\u001b[0;34m,\u001b[0m \u001b[0merror_message\u001b[0m\u001b[0;34m,\u001b[0m \u001b[0madditional_info\u001b[0m\u001b[0;34m)\u001b[0m\u001b[0;34m\u001b[0m\u001b[0m\n\u001b[0m\u001b[1;32m    123\u001b[0m \u001b[0;34m\u001b[0m\u001b[0m\n\u001b[1;32m    124\u001b[0m \u001b[0;34m\u001b[0m\u001b[0m\n",
      "\u001b[0;31mConflictError\u001b[0m: TransportError(409, u'version_conflict_engine_exception', u'[blog][1]: version conflict, current [2], provided [1]')"
     ]
    }
   ],
   "source": [
    "es.index(index='website', doc_type='blog', id='1', version=1, body={\n",
    "  \"title\": \"My first blog entry\",\n",
    "  \"text\":  \"Starting to get the hang of this...\"\n",
    "})"
   ]
  },
  {
   "cell_type": "code",
   "execution_count": 130,
   "metadata": {
    "collapsed": false
   },
   "outputs": [
    {
     "data": {
      "text/plain": [
       "{u'_id': u'2',\n",
       " u'_index': u'website',\n",
       " u'_shards': {u'failed': 0, u'successful': 1, u'total': 2},\n",
       " u'_type': u'blog',\n",
       " u'_version': 5,\n",
       " u'created': True}"
      ]
     },
     "execution_count": 130,
     "metadata": {},
     "output_type": "execute_result"
    }
   ],
   "source": [
    "es.create(index='website', doc_type='blog', id=2, version=5, version_type='external', body={\n",
    "        \"title\": \"My first external blog entry\",\n",
    "        \"text\":  \"Starting to get the hang of this...\"\n",
    "    })"
   ]
  },
  {
   "cell_type": "code",
   "execution_count": 132,
   "metadata": {
    "collapsed": false
   },
   "outputs": [
    {
     "data": {
      "text/plain": [
       "{u'_id': u'2',\n",
       " u'_index': u'website',\n",
       " u'_shards': {u'failed': 0, u'successful': 1, u'total': 2},\n",
       " u'_type': u'blog',\n",
       " u'_version': 10,\n",
       " u'created': False}"
      ]
     },
     "execution_count": 132,
     "metadata": {},
     "output_type": "execute_result"
    }
   ],
   "source": [
    "es.index(index='website', doc_type='blog', id=2, version=10, version_type='external', body={\n",
    "        \"title\": \"My first external blog entry\",\n",
    "        \"text\":  \"This is a piece of cake...\"\n",
    "    })"
   ]
  },
  {
   "cell_type": "code",
   "execution_count": 133,
   "metadata": {
    "collapsed": false
   },
   "outputs": [
    {
     "data": {
      "text/plain": [
       "{u'_id': u'1',\n",
       " u'_index': u'website',\n",
       " u'_shards': {u'failed': 0, u'successful': 1, u'total': 2},\n",
       " u'_type': u'blog',\n",
       " u'_version': 3}"
      ]
     },
     "execution_count": 133,
     "metadata": {},
     "output_type": "execute_result"
    }
   ],
   "source": [
    "es.update(index='website', doc_type='blog', id=1, body={\n",
    "        \"doc\": {\n",
    "            \"tags\": [\"testing\"],\n",
    "            \"views\": 0\n",
    "        }\n",
    "    })"
   ]
  },
  {
   "cell_type": "code",
   "execution_count": 134,
   "metadata": {
    "collapsed": false
   },
   "outputs": [
    {
     "data": {
      "text/plain": [
       "{u'_id': u'1',\n",
       " u'_index': u'website',\n",
       " u'_source': {u'tags': [u'testing'],\n",
       "  u'text': u'Starting to get the hang of this...',\n",
       "  u'title': u'My first blog entry',\n",
       "  u'views': 0},\n",
       " u'_type': u'blog',\n",
       " u'_version': 3,\n",
       " u'found': True}"
      ]
     },
     "execution_count": 134,
     "metadata": {},
     "output_type": "execute_result"
    }
   ],
   "source": [
    "es.get(index='website', doc_type='blog', id=1)"
   ]
  },
  {
   "cell_type": "code",
   "execution_count": 139,
   "metadata": {
    "collapsed": false
   },
   "outputs": [
    {
     "name": "stdout",
     "output_type": "stream",
     "text": [
      "{\n",
      "  \"docs\": [\n",
      "    {\n",
      "      \"_id\": \"2\", \n",
      "      \"_index\": \"website\", \n",
      "      \"_source\": {\n",
      "        \"text\": \"This is a piece of cake...\", \n",
      "        \"title\": \"My first external blog entry\"\n",
      "      }, \n",
      "      \"_type\": \"blog\", \n",
      "      \"_version\": 10, \n",
      "      \"found\": true\n",
      "    }, \n",
      "    {\n",
      "      \"_id\": \"1\", \n",
      "...\n",
      "        \"text\": \"Starting to get the hang of this...\", \n",
      "        \"title\": \"My first blog entry\", \n",
      "        \"views\": 0\n",
      "      }, \n",
      "      \"_type\": \"blog\", \n",
      "      \"_version\": 3, \n",
      "      \"found\": true\n",
      "    }\n",
      "  ]\n",
      "}\n"
     ]
    }
   ],
   "source": [
    "p(es.mget(body={\n",
    "        \"docs\": [\n",
    "            {\n",
    "                \"_index\": \"website\",\n",
    "                \"_type\": \"blog\",\n",
    "                \"_id\": \"2\"\n",
    "            },\n",
    "            {\n",
    "                \"_index\": \"website\",\n",
    "                \"_type\": \"blog\",\n",
    "                \"_id\": \"1\"\n",
    "            }\n",
    "        ]\n",
    "    }))"
   ]
  },
  {
   "cell_type": "code",
   "execution_count": 141,
   "metadata": {
    "collapsed": false
   },
   "outputs": [
    {
     "name": "stdout",
     "output_type": "stream",
     "text": [
      "{\n",
      "  \"docs\": [\n",
      "    {\n",
      "      \"_id\": \"1\", \n",
      "      \"_index\": \"website\", \n",
      "      \"_source\": {\n",
      "        \"tags\": [\n",
      "          \"testing\"\n",
      "        ], \n",
      "        \"text\": \"Starting to get the hang of this...\", \n",
      "        \"title\": \"My first blog entry\", \n",
      "        \"views\": 0\n",
      "      }, \n",
      "      \"_type\": \"blog\", \n",
      "      \"_version\": 3, \n",
      "      \"found\": true\n",
      "    }, \n",
      "    {\n",
      "      \"_id\": \"1\", \n",
      "      \"_index\": \"website\", \n",
      "      \"_type\": \"pageviews\", \n",
      "      \"found\": false\n",
      "    }\n",
      "  ]\n",
      "}\n"
     ]
    }
   ],
   "source": [
    "p(es.mget(index='website', doc_type='blog', body={\n",
    "        \"docs\": [\n",
    "            { \"_id\": \"1\" },\n",
    "            { \"_type\": \"pageviews\", \"_id\": 1 }\n",
    "        ]\n",
    "    }))"
   ]
  },
  {
   "cell_type": "code",
   "execution_count": 144,
   "metadata": {
    "collapsed": false
   },
   "outputs": [
    {
     "name": "stdout",
     "output_type": "stream",
     "text": [
      "{\n",
      "  \"docs\": [\n",
      "    {\n",
      "      \"_id\": \"1\", \n",
      "      \"_index\": \"website\", \n",
      "      \"_source\": {\n",
      "        \"tags\": [\n",
      "          \"testing\"\n",
      "        ], \n",
      "        \"text\": \"Starting to get the hang of this...\", \n",
      "        \"title\": \"My first blog entry\", \n",
      "        \"views\": 0\n",
      "      }, \n",
      "      \"_type\": \"blog\", \n",
      "      \"_version\": 3, \n",
      "...\n",
      "      \"_source\": {\n",
      "        \"text\": \"This is a piece of cake...\", \n",
      "        \"title\": \"My first external blog entry\"\n",
      "      }, \n",
      "      \"_type\": \"blog\", \n",
      "      \"_version\": 10, \n",
      "      \"found\": true\n",
      "    }\n",
      "  ]\n",
      "}\n"
     ]
    }
   ],
   "source": [
    "p(es.mget(index='website', doc_type='blog', body={\n",
    "        \"ids\": ['1', '2']\n",
    "    }))"
   ]
  },
  {
   "cell_type": "code",
   "execution_count": 146,
   "metadata": {
    "collapsed": true
   },
   "outputs": [],
   "source": [
    "import elasticsearch.helpers"
   ]
  },
  {
   "cell_type": "code",
   "execution_count": 150,
   "metadata": {
    "collapsed": true
   },
   "outputs": [],
   "source": [
    "elasticsearch.helpers.streaming_bulk??"
   ]
  },
  {
   "cell_type": "code",
   "execution_count": 151,
   "metadata": {
    "collapsed": false
   },
   "outputs": [
    {
     "data": {
      "text/plain": [
       "[(True,\n",
       "  {u'delete': {u'_id': u'123',\n",
       "    u'_index': u'website',\n",
       "    u'_shards': {u'failed': 0, u'successful': 1, u'total': 2},\n",
       "    u'_type': u'blog',\n",
       "    u'_version': 3,\n",
       "    u'found': True,\n",
       "    u'status': 200}}),\n",
       " (True,\n",
       "  {u'create': {u'_id': u'123',\n",
       "    u'_index': u'website',\n",
       "    u'_shards': {u'failed': 0, u'successful': 1, u'total': 2},\n",
       "    u'_type': u'blog',\n",
       "    u'_version': 4,\n",
       "    u'status': 201}}),\n",
       " (True,\n",
       "  {u'create': {u'_id': u'AVgxAv6mopLqMxzUh2_5',\n",
       "    u'_index': u'website',\n",
       "    u'_shards': {u'failed': 0, u'successful': 1, u'total': 2},\n",
       "    u'_type': u'blog',\n",
       "    u'_version': 1,\n",
       "    u'status': 201}}),\n",
       " (True,\n",
       "  {u'update': {u'_id': u'123',\n",
       "    u'_index': u'website',\n",
       "    u'_shards': {u'failed': 0, u'successful': 1, u'total': 2},\n",
       "    u'_type': u'blog',\n",
       "    u'_version': 5,\n",
       "    u'status': 200}})]"
      ]
     },
     "execution_count": 151,
     "metadata": {},
     "output_type": "execute_result"
    }
   ],
   "source": [
    "list(elasticsearch.helpers.streaming_bulk(client=es, actions=[\n",
    "        { \"_op_type\": \"delete\", \"_index\": \"website\", \"_type\": \"blog\", \"_id\": \"123\" }, \n",
    "        { \"_op_type\": \"create\", \"_index\": \"website\", \"_type\": \"blog\", \"_id\": \"123\",\n",
    "          \"_source\": { \"title\":    \"My first blog post\" } },\n",
    "        { \"_op_type\": \"index\", \"_index\": \"website\", \"_type\": \"blog\" ,\n",
    "          \"_source\": { \"title\":    \"My second blog post\" } },\n",
    "        { \"_op_type\": \"update\", \"_index\": \"website\", \"_type\": \"blog\", \"_id\": \"123\", \"_retry_on_conflict\" : 3,\n",
    "          \"_source\": { \"doc\" : {\"title\" : \"My updated blog post\"} } }\n",
    "    ]))"
   ]
  },
  {
   "cell_type": "code",
   "execution_count": 152,
   "metadata": {
    "collapsed": false
   },
   "outputs": [
    {
     "data": {
      "text/plain": [
       "[(True,\n",
       "  {u'create': {u'_id': u'AVgxBdkxopLqMxzUh2_6',\n",
       "    u'_index': u'website',\n",
       "    u'_shards': {u'failed': 0, u'successful': 1, u'total': 2},\n",
       "    u'_type': u'blog',\n",
       "    u'_version': 1,\n",
       "    u'status': 201}}),\n",
       " (True,\n",
       "  {u'create': {u'_id': u'AVgxBdkxopLqMxzUh2_7',\n",
       "    u'_index': u'website',\n",
       "    u'_shards': {u'failed': 0, u'successful': 1, u'total': 2},\n",
       "    u'_type': u'blog',\n",
       "    u'_version': 1,\n",
       "    u'status': 201}})]"
      ]
     },
     "execution_count": 152,
     "metadata": {},
     "output_type": "execute_result"
    }
   ],
   "source": [
    "list(elasticsearch.helpers.streaming_bulk(client=es, index='website', doc_type='blog', actions=[\n",
    "            { \"_op_type\": \"index\",\n",
    "              \"_source\": { \"event\": \"User logged in\" } },\n",
    "            { \"_op_type\": \"index\", \"_type\": \"blog\",\n",
    "              \"_source\": { \"title\": \"Overriding the default type\" } }\n",
    "        ]))"
   ]
  },
  {
   "cell_type": "code",
   "execution_count": 167,
   "metadata": {
    "collapsed": false
   },
   "outputs": [
    {
     "data": {
      "text/plain": [
       "{u'acknowledged': True}"
      ]
     },
     "execution_count": 167,
     "metadata": {},
     "output_type": "execute_result"
    }
   ],
   "source": [
    "es.indices.delete('cbit')"
   ]
  },
  {
   "cell_type": "code",
   "execution_count": 169,
   "metadata": {
    "collapsed": false
   },
   "outputs": [
    {
     "data": {
      "text/plain": [
       "{u'acknowledged': True}"
      ]
     },
     "execution_count": 169,
     "metadata": {},
     "output_type": "execute_result"
    }
   ],
   "source": [
    "es.indices.delete('website')"
   ]
  },
  {
   "cell_type": "code",
   "execution_count": 172,
   "metadata": {
    "collapsed": false
   },
   "outputs": [
    {
     "data": {
      "text/plain": [
       "{u'acknowledged': True}"
      ]
     },
     "execution_count": 172,
     "metadata": {},
     "output_type": "execute_result"
    }
   ],
   "source": [
    "es.indices.delete('megacorp')"
   ]
  },
  {
   "cell_type": "code",
   "execution_count": 173,
   "metadata": {
    "collapsed": false,
    "scrolled": true
   },
   "outputs": [
    {
     "data": {
      "text/plain": [
       "{u'_shards': {u'failed': 0, u'successful': 13, u'total': 13},\n",
       " u'hits': {u'hits': [{u'_id': u'14',\n",
       "    u'_index': u'us',\n",
       "    u'_score': 1.0,\n",
       "    u'_source': {u'date': u'2014-09-24',\n",
       "     u'name': u'John Smith',\n",
       "     u'tweet': u'How many more cheesy tweets do I have to write?',\n",
       "     u'user_id': 1},\n",
       "    u'_type': u'tweet'},\n",
       "   {u'_id': u'5',\n",
       "    u'_index': u'gb',\n",
       "    u'_score': 1.0,\n",
       "    u'_source': {u'date': u'2014-09-15',\n",
       "     u'name': u'Mary Jones',\n",
       "     u'tweet': u'However did I manage before Elasticsearch?',\n",
       "     u'user_id': 2},\n",
       "    u'_type': u'tweet'},\n",
       "   {u'_id': u'9',\n",
       "    u'_index': u'gb',\n",
       "    u'_score': 1.0,\n",
       "    u'_source': {u'date': u'2014-09-19',\n",
       "     u'name': u'Mary Jones',\n",
       "     u'tweet': u'Geo-location aggregations are really cool',\n",
       "     u'user_id': 2},\n",
       "    u'_type': u'tweet'},\n",
       "   {u'_id': u'8',\n",
       "    u'_index': u'us',\n",
       "    u'_score': 1.0,\n",
       "    u'_source': {u'date': u'2014-09-18',\n",
       "     u'name': u'John Smith',\n",
       "     u'user_id': 1},\n",
       "    u'_type': u'tweet'},\n",
       "   {u'_id': u'10',\n",
       "    u'_index': u'us',\n",
       "    u'_score': 1.0,\n",
       "    u'_source': {u'date': u'2014-09-20',\n",
       "     u'name': u'John Smith',\n",
       "     u'tweet': u'Elasticsearch surely is one of the hottest new NoSQL products',\n",
       "     u'user_id': 1},\n",
       "    u'_type': u'tweet'},\n",
       "   {u'_id': u'12',\n",
       "    u'_index': u'us',\n",
       "    u'_score': 1.0,\n",
       "    u'_source': {u'date': u'2014-09-22',\n",
       "     u'name': u'John Smith',\n",
       "     u'tweet': u'Elasticsearch and I have left the honeymoon stage, and I still love her.',\n",
       "     u'user_id': 1},\n",
       "    u'_type': u'tweet'},\n",
       "   {u'_id': u'2',\n",
       "    u'_index': u'gb',\n",
       "    u'_score': 1.0,\n",
       "    u'_source': {u'email': u'mary@jones.com',\n",
       "     u'name': u'Mary Jones',\n",
       "     u'username': u'@mary'},\n",
       "    u'_type': u'user'},\n",
       "   {u'_id': u'4',\n",
       "    u'_index': u'us',\n",
       "    u'_score': 1.0,\n",
       "    u'_source': {u'date': u'2014-09-14',\n",
       "     u'name': u'John Smith',\n",
       "     u'tweet': u'@mary it is not just text, it does everything',\n",
       "     u'user_id': 1},\n",
       "    u'_type': u'tweet'},\n",
       "   {u'_id': u'6',\n",
       "    u'_index': u'us',\n",
       "    u'_score': 1.0,\n",
       "    u'_source': {u'date': u'2014-09-16',\n",
       "     u'name': u'John Smith',\n",
       "     u'tweet': u'The Elasticsearch API is really easy to use',\n",
       "     u'user_id': 1},\n",
       "    u'_type': u'tweet'},\n",
       "   {u'_id': u'7',\n",
       "    u'_index': u'gb',\n",
       "    u'_score': 1.0,\n",
       "    u'_source': {u'date': u'2014-09-17',\n",
       "     u'name': u'Mary Jones',\n",
       "     u'tweet': u'The Query DSL is really powerful and flexible',\n",
       "     u'user_id': 2},\n",
       "    u'_type': u'tweet'},\n",
       "   {u'_id': u'13',\n",
       "    u'_index': u'gb',\n",
       "    u'_score': 1.0,\n",
       "    u'_source': {u'date': u'2014-09-23',\n",
       "     u'name': u'Mary Jones',\n",
       "     u'tweet': u'So yes, I am an Elasticsearch fanboy',\n",
       "     u'user_id': 2},\n",
       "    u'_type': u'tweet'},\n",
       "   {u'_id': u'1',\n",
       "    u'_index': u'us',\n",
       "    u'_score': 1.0,\n",
       "    u'_source': {u'email': u'john@smith.com',\n",
       "     u'name': u'John Smith',\n",
       "     u'username': u'@john'},\n",
       "    u'_type': u'user'},\n",
       "   {u'_id': u'3',\n",
       "    u'_index': u'gb',\n",
       "    u'_score': 1.0,\n",
       "    u'_source': {u'date': u'2014-09-13',\n",
       "     u'name': u'Mary Jones',\n",
       "     u'tweet': u'Elasticsearch means full text search has never been so easy',\n",
       "     u'user_id': 2},\n",
       "    u'_type': u'tweet'},\n",
       "   {u'_id': u'11',\n",
       "    u'_index': u'gb',\n",
       "    u'_score': 1.0,\n",
       "    u'_source': {u'date': u'2014-09-21',\n",
       "     u'name': u'Mary Jones',\n",
       "     u'tweet': u'Elasticsearch is built for the cloud, easy to scale',\n",
       "     u'user_id': 2},\n",
       "    u'_type': u'tweet'}],\n",
       "  u'max_score': 1.0,\n",
       "  u'total': 14},\n",
       " u'timed_out': False,\n",
       " u'took': 4}"
      ]
     },
     "execution_count": 173,
     "metadata": {},
     "output_type": "execute_result"
    }
   ],
   "source": [
    "es.search()"
   ]
  },
  {
   "cell_type": "code",
   "execution_count": 8,
   "metadata": {
    "collapsed": false
   },
   "outputs": [
    {
     "name": "stdout",
     "output_type": "stream",
     "text": [
      "{\n",
      "  \"_shards\": {\n",
      "    \"failed\": 0, \n",
      "    \"successful\": 10, \n",
      "    \"total\": 13\n",
      "  }, \n",
      "  \"hits\": {\n",
      "    \"hits\": [\n",
      "      {\n",
      "        \"_id\": \"14\", \n",
      "        \"_index\": \"us\", \n",
      "        \"_score\": 1.0, \n",
      "        \"_source\": {\n",
      "          \"date\": \"2014-09-24\", \n",
      "          \"name\": \"John Smith\", \n",
      "          \"tweet\": \"How many more cheesy tweets do I have to write?\", \n",
      "          \"user_id\": 1\n",
      "        }, \n",
      "        \"_type\": \"tweet\"\n",
      "      }, \n",
      "      {\n",
      "        \"_id\": \"5\", \n",
      "        \"_index\": \"gb\", \n",
      "        \"_score\": 1.0, \n",
      "        \"_source\": {\n",
      "          \"date\": \"2014-09-15\", \n",
      "          \"name\": \"Mary Jones\", \n",
      "          \"tweet\": \"However did I manage before Elasticsearch?\", \n",
      "          \"user_id\": 2\n",
      "        }, \n",
      "        \"_type\": \"tweet\"\n",
      "      }, \n",
      "      {\n",
      "        \"_id\": \"9\", \n",
      "        \"_index\": \"gb\", \n",
      "        \"_score\": 1.0, \n",
      "        \"_source\": {\n",
      "          \"date\": \"2014-09-19\", \n",
      "          \"name\": \"Mary Jones\", \n",
      "          \"tweet\": \"Geo-location aggregations are really cool\", \n",
      "          \"user_id\": 2\n",
      "        }, \n",
      "        \"_type\": \"tweet\"\n",
      "      }, \n",
      "      {\n",
      "        \"_id\": \"8\", \n",
      "        \"_index\": \"us\", \n",
      "        \"_score\": 1.0, \n",
      "        \"_source\": {\n",
      "          \"date\": \"2014-09-18\", \n",
      "          \"name\": \"John Smith\", \n",
      "          \"user_id\": 1\n",
      "        }, \n",
      "        \"_type\": \"tweet\"\n",
      "      }, \n",
      "      {\n",
      "        \"_id\": \"10\", \n",
      "        \"_index\": \"us\", \n",
      "        \"_score\": 1.0, \n",
      "        \"_source\": {\n",
      "          \"date\": \"2014-09-20\", \n",
      "          \"name\": \"John Smith\", \n",
      "          \"tweet\": \"Elasticsearch surely is one of the hottest new NoSQL products\", \n",
      "          \"user_id\": 1\n",
      "        }, \n",
      "        \"_type\": \"tweet\"\n",
      "      }, \n",
      "      {\n",
      "        \"_id\": \"12\", \n",
      "        \"_index\": \"us\", \n",
      "        \"_score\": 1.0, \n",
      "        \"_source\": {\n",
      "          \"date\": \"2014-09-22\", \n",
      "          \"name\": \"John Smith\", \n",
      "          \"tweet\": \"Elasticsearch and I have left the honeymoon stage, and I still love her.\", \n",
      "          \"user_id\": 1\n",
      "        }, \n",
      "        \"_type\": \"tweet\"\n",
      "      }, \n",
      "      {\n",
      "        \"_id\": \"2\", \n",
      "        \"_index\": \"gb\", \n",
      "        \"_score\": 1.0, \n",
      "        \"_source\": {\n",
      "          \"email\": \"mary@jones.com\", \n",
      "          \"name\": \"Mary Jones\", \n",
      "          \"username\": \"@mary\"\n",
      "        }, \n",
      "        \"_type\": \"user\"\n",
      "      }, \n",
      "      {\n",
      "        \"_id\": \"4\", \n",
      "        \"_index\": \"us\", \n",
      "        \"_score\": 1.0, \n",
      "        \"_source\": {\n",
      "          \"date\": \"2014-09-14\", \n",
      "          \"name\": \"John Smith\", \n",
      "          \"tweet\": \"@mary it is not just text, it does everything\", \n",
      "          \"user_id\": 1\n",
      "        }, \n",
      "        \"_type\": \"tweet\"\n",
      "      }, \n",
      "      {\n",
      "        \"_id\": \"6\", \n",
      "        \"_index\": \"us\", \n",
      "        \"_score\": 1.0, \n",
      "        \"_source\": {\n",
      "          \"date\": \"2014-09-16\", \n",
      "          \"name\": \"John Smith\", \n",
      "          \"tweet\": \"The Elasticsearch API is really easy to use\", \n",
      "          \"user_id\": 1\n",
      "        }, \n",
      "        \"_type\": \"tweet\"\n",
      "      }, \n",
      "      {\n",
      "        \"_id\": \"7\", \n",
      "        \"_index\": \"gb\", \n",
      "        \"_score\": 1.0, \n",
      "        \"_source\": {\n",
      "          \"date\": \"2014-09-17\", \n",
      "          \"name\": \"Mary Jones\", \n",
      "          \"tweet\": \"The Query DSL is really powerful and flexible\", \n",
      "          \"user_id\": 2\n",
      "        }, \n",
      "        \"_type\": \"tweet\"\n",
      "      }\n",
      "    ], \n",
      "    \"max_score\": 1.0, \n",
      "    \"total\": 14\n",
      "  }, \n",
      "  \"timed_out\": false, \n",
      "  \"took\": 3\n",
      "}\n"
     ]
    }
   ],
   "source": [
    "p(es.search(), None)"
   ]
  },
  {
   "cell_type": "code",
   "execution_count": 11,
   "metadata": {
    "collapsed": false
   },
   "outputs": [
    {
     "name": "stdout",
     "output_type": "stream",
     "text": [
      "{\n",
      "  \"_shards\": {\n",
      "    \"failed\": 0, \n",
      "    \"successful\": 10, \n",
      "    \"total\": 10\n",
      "  }, \n",
      "  \"hits\": {\n",
      "    \"hits\": [\n",
      "      {\n",
      "        \"_id\": \"14\", \n",
      "        \"_index\": \"us\", \n",
      "        \"_score\": 1.0, \n",
      "...\n",
      "          \"name\": \"Mary Jones\", \n",
      "          \"tweet\": \"The Query DSL is really powerful and flexible\", \n",
      "          \"user_id\": 2\n",
      "        }, \n",
      "        \"_type\": \"tweet\"\n",
      "      }\n",
      "    ], \n",
      "    \"max_score\": 1.0, \n",
      "    \"total\": 14\n",
      "  }, \n",
      "  \"timed_out\": false, \n",
      "  \"took\": 4\n",
      "}\n"
     ]
    }
   ],
   "source": [
    "p(es.search(index='us,gb'))  # Search over 2+ indices"
   ]
  },
  {
   "cell_type": "code",
   "execution_count": 14,
   "metadata": {
    "collapsed": false
   },
   "outputs": [
    {
     "name": "stdout",
     "output_type": "stream",
     "text": [
      "{\n",
      "  \"_shards\": {\n",
      "    \"failed\": 0, \n",
      "    \"successful\": 10, \n",
      "    \"total\": 10\n",
      "  }, \n",
      "  \"hits\": {\n",
      "    \"hits\": [\n",
      "      {\n",
      "        \"_id\": \"14\", \n",
      "        \"_index\": \"us\", \n",
      "        \"_score\": 1.0, \n",
      "...\n",
      "          \"name\": \"Mary Jones\", \n",
      "          \"tweet\": \"So yes, I am an Elasticsearch fanboy\", \n",
      "          \"user_id\": 2\n",
      "        }, \n",
      "        \"_type\": \"tweet\"\n",
      "      }\n",
      "    ], \n",
      "    \"max_score\": 1.0, \n",
      "    \"total\": 12\n",
      "  }, \n",
      "  \"timed_out\": false, \n",
      "  \"took\": 4\n",
      "}\n"
     ]
    }
   ],
   "source": [
    "p(es.search(index='us,gb', doc_type='tweet'))"
   ]
  },
  {
   "cell_type": "code",
   "execution_count": 16,
   "metadata": {
    "collapsed": false
   },
   "outputs": [
    {
     "name": "stdout",
     "output_type": "stream",
     "text": [
      "{\n",
      "  \"_shards\": {\n",
      "    \"failed\": 0, \n",
      "    \"successful\": 10, \n",
      "    \"total\": 13\n",
      "  }, \n",
      "  \"hits\": {\n",
      "    \"hits\": [\n",
      "      {\n",
      "        \"_id\": \"2\", \n",
      "        \"_index\": \"gb\", \n",
      "        \"_score\": 1.0, \n",
      "...\n",
      "          \"email\": \"john@smith.com\", \n",
      "          \"name\": \"John Smith\", \n",
      "          \"username\": \"@john\"\n",
      "        }, \n",
      "        \"_type\": \"user\"\n",
      "      }\n",
      "    ], \n",
      "    \"max_score\": 1.0, \n",
      "    \"total\": 2\n",
      "  }, \n",
      "  \"timed_out\": false, \n",
      "  \"took\": 3\n",
      "}\n"
     ]
    }
   ],
   "source": [
    "p(es.search(doc_type='user'))"
   ]
  },
  {
   "cell_type": "code",
   "execution_count": 21,
   "metadata": {
    "collapsed": false
   },
   "outputs": [
    {
     "data": {
      "text/plain": [
       "4"
      ]
     },
     "execution_count": 21,
     "metadata": {},
     "output_type": "execute_result"
    }
   ],
   "source": [
    "len(es.search(body={\"from\": 10, \"size\": 5})[\"hits\"][\"hits\"])"
   ]
  },
  {
   "cell_type": "code",
   "execution_count": 22,
   "metadata": {
    "collapsed": false
   },
   "outputs": [
    {
     "name": "stdout",
     "output_type": "stream",
     "text": [
      "{\n",
      "  \"_shards\": {\n",
      "    \"failed\": 0, \n",
      "    \"successful\": 10, \n",
      "    \"total\": 13\n",
      "  }, \n",
      "  \"hits\": {\n",
      "    \"hits\": [\n",
      "      {\n",
      "        \"_id\": \"5\", \n",
      "        \"_index\": \"gb\", \n",
      "        \"_score\": 0.375, \n",
      "...\n",
      "          \"name\": \"Mary Jones\", \n",
      "          \"tweet\": \"Elasticsearch is built for the cloud, easy to scale\", \n",
      "          \"user_id\": 2\n",
      "        }, \n",
      "        \"_type\": \"tweet\"\n",
      "      }\n",
      "    ], \n",
      "    \"max_score\": 0.375, \n",
      "    \"total\": 7\n",
      "  }, \n",
      "  \"timed_out\": false, \n",
      "  \"took\": 46\n",
      "}\n"
     ]
    }
   ],
   "source": [
    "p(es.search(doc_type='tweet', q=\"tweet:elasticsearch\"))"
   ]
  },
  {
   "cell_type": "code",
   "execution_count": 23,
   "metadata": {
    "collapsed": false
   },
   "outputs": [
    {
     "name": "stdout",
     "output_type": "stream",
     "text": [
      "{\n",
      "  \"_shards\": {\n",
      "    \"failed\": 0, \n",
      "    \"successful\": 10, \n",
      "    \"total\": 13\n",
      "  }, \n",
      "  \"hits\": {\n",
      "    \"hits\": [\n",
      "      {\n",
      "        \"_id\": \"4\", \n",
      "        \"_index\": \"us\", \n",
      "        \"_score\": 0.4585055, \n",
      "...\n",
      "          \"name\": \"John Smith\", \n",
      "          \"tweet\": \"@mary it is not just text, it does everything\", \n",
      "          \"user_id\": 1\n",
      "        }, \n",
      "        \"_type\": \"tweet\"\n",
      "      }\n",
      "    ], \n",
      "    \"max_score\": 0.4585055, \n",
      "    \"total\": 1\n",
      "  }, \n",
      "  \"timed_out\": false, \n",
      "  \"took\": 7\n",
      "}\n"
     ]
    }
   ],
   "source": [
    "p(es.search(doc_type='tweet', q=\"+name:john +tweet:mary\"))"
   ]
  },
  {
   "cell_type": "code",
   "execution_count": 25,
   "metadata": {
    "collapsed": false
   },
   "outputs": [
    {
     "name": "stdout",
     "output_type": "stream",
     "text": [
      "{\n",
      "  \"_shards\": {\n",
      "    \"failed\": 0, \n",
      "    \"successful\": 10, \n",
      "    \"total\": 13\n",
      "  }, \n",
      "  \"hits\": {\n",
      "    \"hits\": [\n",
      "      {\n",
      "        \"_id\": \"4\", \n",
      "        \"_index\": \"us\", \n",
      "        \"_score\": 0.25, \n",
      "...\n",
      "          \"name\": \"Mary Jones\", \n",
      "          \"tweet\": \"Elasticsearch is built for the cloud, easy to scale\", \n",
      "          \"user_id\": 2\n",
      "        }, \n",
      "        \"_type\": \"tweet\"\n",
      "      }\n",
      "    ], \n",
      "    \"max_score\": 0.25, \n",
      "    \"total\": 8\n",
      "  }, \n",
      "  \"timed_out\": false, \n",
      "  \"took\": 7\n",
      "}\n"
     ]
    }
   ],
   "source": [
    "#p(es.search(q='mary'))  #Same\n",
    "p(es.search(q='_all:mary'))"
   ]
  },
  {
   "cell_type": "code",
   "execution_count": 26,
   "metadata": {
    "collapsed": false
   },
   "outputs": [
    {
     "name": "stdout",
     "output_type": "stream",
     "text": [
      "{\n",
      "  \"_shards\": {\n",
      "    \"failed\": 0, \n",
      "    \"successful\": 10, \n",
      "    \"total\": 13\n",
      "  }, \n",
      "  \"hits\": {\n",
      "    \"hits\": [\n",
      "      {\n",
      "        \"_id\": \"9\", \n",
      "        \"_index\": \"gb\", \n",
      "        \"_score\": 0.6457242, \n",
      "        \"_source\": {\n",
      "          \"date\": \"2014-09-19\", \n",
      "          \"name\": \"Mary Jones\", \n",
      "          \"tweet\": \"Geo-location aggregations are really cool\", \n",
      "          \"user_id\": 2\n",
      "        }, \n",
      "        \"_type\": \"tweet\"\n",
      "      }\n",
      "    ], \n",
      "    \"max_score\": 0.6457242, \n",
      "    \"total\": 1\n",
      "  }, \n",
      "  \"timed_out\": false, \n",
      "  \"took\": 28\n",
      "}\n"
     ]
    }
   ],
   "source": [
    "p(es.search(q='+name:(mary john) +date:>2014-09-10 +(aggregations geo)'), None)"
   ]
  },
  {
   "cell_type": "code",
   "execution_count": 27,
   "metadata": {
    "collapsed": false
   },
   "outputs": [
    {
     "name": "stdout",
     "output_type": "stream",
     "text": [
      "{\n",
      "  \"gb\": {\n",
      "    \"mappings\": {\n",
      "      \"tweet\": {\n",
      "        \"properties\": {\n",
      "          \"date\": {\n",
      "            \"format\": \"strict_date_optional_time||epoch_millis\", \n",
      "            \"type\": \"date\"\n",
      "          }, \n",
      "          \"name\": {\n",
      "            \"type\": \"string\"\n",
      "          }, \n",
      "          \"tweet\": {\n",
      "            \"type\": \"string\"\n",
      "          }, \n",
      "          \"user_id\": {\n",
      "            \"type\": \"long\"\n",
      "          }\n",
      "        }\n",
      "      }\n",
      "    }\n",
      "  }\n",
      "}\n"
     ]
    }
   ],
   "source": [
    "p(es.indices.get_mapping(index='gb', doc_type='tweet'))"
   ]
  },
  {
   "cell_type": "code",
   "execution_count": 33,
   "metadata": {
    "collapsed": false
   },
   "outputs": [
    {
     "name": "stdout",
     "output_type": "stream",
     "text": [
      "{\n",
      "  \"tokens\": [\n",
      "    {\n",
      "      \"end_offset\": 4, \n",
      "      \"position\": 0, \n",
      "      \"start_offset\": 0, \n",
      "      \"token\": \"text\", \n",
      "      \"type\": \"<ALPHANUM>\"\n",
      "    }, \n",
      "    {\n",
      "      \"end_offset\": 7, \n",
      "      \"position\": 1, \n",
      "      \"start_offset\": 5, \n",
      "      \"token\": \"to\", \n",
      "      \"type\": \"<ALPHANUM>\"\n",
      "    }, \n",
      "    {\n",
      "      \"end_offset\": 15, \n",
      "      \"position\": 2, \n",
      "      \"start_offset\": 8, \n",
      "      \"token\": \"analyz\", \n",
      "      \"type\": \"<ALPHANUM>\"\n",
      "    }\n",
      "  ]\n",
      "}\n"
     ]
    }
   ],
   "source": [
    "p(es.indices.analyze(analyzer='spanish', body=\"Text to analyze\"), None)"
   ]
  },
  {
   "cell_type": "code",
   "execution_count": 34,
   "metadata": {
    "collapsed": false
   },
   "outputs": [
    {
     "name": "stdout",
     "output_type": "stream",
     "text": [
      "{\n",
      "  \"tokens\": [\n",
      "    {\n",
      "      \"end_offset\": 5, \n",
      "      \"position\": 0, \n",
      "      \"start_offset\": 0, \n",
      "      \"token\": \"text\", \n",
      "      \"type\": \"<ALPHANUM>\"\n",
      "    }, \n",
      "    {\n",
      "      \"end_offset\": 18, \n",
      "      \"position\": 2, \n",
      "      \"start_offset\": 10, \n",
      "      \"token\": \"analizar\", \n",
      "      \"type\": \"<ALPHANUM>\"\n",
      "    }\n",
      "  ]\n",
      "}\n"
     ]
    }
   ],
   "source": [
    "p(es.indices.analyze(analyzer='spanish', body=\"Texto por analizar\"), None)"
   ]
  },
  {
   "cell_type": "code",
   "execution_count": 35,
   "metadata": {
    "collapsed": false
   },
   "outputs": [
    {
     "data": {
      "text/plain": [
       "{u'acknowledged': True}"
      ]
     },
     "execution_count": 35,
     "metadata": {},
     "output_type": "execute_result"
    }
   ],
   "source": [
    "es.indices.delete(\"gb\")"
   ]
  },
  {
   "cell_type": "code",
   "execution_count": 37,
   "metadata": {
    "collapsed": false
   },
   "outputs": [
    {
     "data": {
      "text/plain": [
       "{u'acknowledged': True}"
      ]
     },
     "execution_count": 37,
     "metadata": {},
     "output_type": "execute_result"
    }
   ],
   "source": [
    "es.indices.create(\"gb\", body={\n",
    "        \"mappings\": {\n",
    "            \"tweet\": {\n",
    "                \"properties\": {\n",
    "                    \"tweet\": {\n",
    "                        \"type\": \"string\", \n",
    "                        \"analyzer\": \"english\"\n",
    "                    },\n",
    "                    \"date\": {\n",
    "                        \"type\": \"date\"\n",
    "                    },\n",
    "                    \"name\": {\n",
    "                        \"type\": \"string\"\n",
    "                    },\n",
    "                    \"user_id\": {\n",
    "                        \"type\": \"long\"\n",
    "                    }\n",
    "                }\n",
    "            }\n",
    "        }\n",
    "    })"
   ]
  },
  {
   "cell_type": "code",
   "execution_count": 39,
   "metadata": {
    "collapsed": false
   },
   "outputs": [
    {
     "data": {
      "text/plain": [
       "{u'acknowledged': True}"
      ]
     },
     "execution_count": 39,
     "metadata": {},
     "output_type": "execute_result"
    }
   ],
   "source": [
    "es.indices.put_mapping(index='gb', doc_type='tweet', body={\n",
    "        \"properties\": {\n",
    "            \"tag\": {\n",
    "                \"type\": \"string\",\n",
    "                \"index\": \"not_analyzed\"\n",
    "            }\n",
    "        }\n",
    "    })"
   ]
  },
  {
   "cell_type": "code",
   "execution_count": 40,
   "metadata": {
    "collapsed": false
   },
   "outputs": [
    {
     "name": "stdout",
     "output_type": "stream",
     "text": [
      "{\n",
      "  \"gb\": {\n",
      "    \"mappings\": {\n",
      "      \"tweet\": {\n",
      "        \"properties\": {\n",
      "          \"date\": {\n",
      "            \"format\": \"strict_date_optional_time||epoch_millis\", \n",
      "            \"type\": \"date\"\n",
      "          }, \n",
      "          \"name\": {\n",
      "            \"type\": \"string\"\n",
      "          }, \n",
      "          \"tag\": {\n",
      "            \"index\": \"not_analyzed\", \n",
      "            \"type\": \"string\"\n",
      "          }, \n",
      "          \"tweet\": {\n",
      "            \"analyzer\": \"english\", \n",
      "            \"type\": \"string\"\n",
      "          }, \n",
      "          \"user_id\": {\n",
      "            \"type\": \"long\"\n",
      "          }\n",
      "        }\n",
      "      }\n",
      "    }\n",
      "  }\n",
      "}\n"
     ]
    }
   ],
   "source": [
    "p(es.indices.get_mapping(index='gb', doc_type='tweet'), None)"
   ]
  },
  {
   "cell_type": "code",
   "execution_count": 42,
   "metadata": {
    "collapsed": false
   },
   "outputs": [
    {
     "name": "stdout",
     "output_type": "stream",
     "text": [
      "{\n",
      "  \"tokens\": [\n",
      "    {\n",
      "      \"end_offset\": 5, \n",
      "      \"position\": 0, \n",
      "      \"start_offset\": 0, \n",
      "      \"token\": \"black\", \n",
      "      \"type\": \"<ALPHANUM>\"\n",
      "    }, \n",
      "    {\n",
      "      \"end_offset\": 10, \n",
      "      \"position\": 1, \n",
      "      \"start_offset\": 6, \n",
      "      \"token\": \"cat\", \n",
      "      \"type\": \"<ALPHANUM>\"\n",
      "    }\n",
      "  ]\n",
      "}\n"
     ]
    }
   ],
   "source": [
    "p(es.indices.analyze(index='gb', body={\n",
    "        \"field\": \"tweet\",\n",
    "        \"text\": \"Black-cats\"\n",
    "    }))"
   ]
  },
  {
   "cell_type": "code",
   "execution_count": 43,
   "metadata": {
    "collapsed": false
   },
   "outputs": [
    {
     "name": "stdout",
     "output_type": "stream",
     "text": [
      "{\n",
      "  \"tokens\": [\n",
      "    {\n",
      "      \"end_offset\": 10, \n",
      "      \"position\": 0, \n",
      "      \"start_offset\": 0, \n",
      "      \"token\": \"Black-cats\", \n",
      "      \"type\": \"word\"\n",
      "    }\n",
      "  ]\n",
      "}\n"
     ]
    }
   ],
   "source": [
    "p(es.indices.analyze(index='gb', body={\n",
    "        \"field\": \"tag\",\n",
    "        \"text\": \"Black-cats\"\n",
    "    }))"
   ]
  },
  {
   "cell_type": "code",
   "execution_count": 45,
   "metadata": {
    "collapsed": false
   },
   "outputs": [
    {
     "name": "stdout",
     "output_type": "stream",
     "text": [
      "{\n",
      "  \"_shards\": {\n",
      "    \"failed\": 0, \n",
      "    \"successful\": 10, \n",
      "    \"total\": 13\n",
      "  }, \n",
      "  \"hits\": {\n",
      "    \"hits\": [\n",
      "      {\n",
      "        \"_id\": \"14\", \n",
      "        \"_index\": \"us\", \n",
      "        \"_score\": 1.0, \n",
      "...\n",
      "          \"email\": \"john@smith.com\", \n",
      "          \"name\": \"John Smith\", \n",
      "          \"username\": \"@john\"\n",
      "        }, \n",
      "        \"_type\": \"user\"\n",
      "      }\n",
      "    ], \n",
      "    \"max_score\": 1.0, \n",
      "    \"total\": 7\n",
      "  }, \n",
      "  \"timed_out\": false, \n",
      "  \"took\": 3\n",
      "}\n"
     ]
    }
   ],
   "source": [
    "p(es.search(body={}))"
   ]
  },
  {
   "cell_type": "code",
   "execution_count": 46,
   "metadata": {
    "collapsed": false
   },
   "outputs": [
    {
     "name": "stdout",
     "output_type": "stream",
     "text": [
      "{\n",
      "  \"_shards\": {\n",
      "    \"failed\": 0, \n",
      "    \"successful\": 10, \n",
      "    \"total\": 13\n",
      "  }, \n",
      "  \"hits\": {\n",
      "    \"hits\": [\n",
      "      {\n",
      "        \"_id\": \"14\", \n",
      "        \"_index\": \"us\", \n",
      "        \"_score\": 1.0, \n",
      "...\n",
      "          \"email\": \"john@smith.com\", \n",
      "          \"name\": \"John Smith\", \n",
      "          \"username\": \"@john\"\n",
      "        }, \n",
      "        \"_type\": \"user\"\n",
      "      }\n",
      "    ], \n",
      "    \"max_score\": 1.0, \n",
      "    \"total\": 7\n",
      "  }, \n",
      "  \"timed_out\": false, \n",
      "  \"took\": 4\n",
      "}\n"
     ]
    }
   ],
   "source": [
    "p(es.search(body={\n",
    "            \"query\": {\n",
    "                \"match_all\": {}\n",
    "            }\n",
    "        }))"
   ]
  },
  {
   "cell_type": "code",
   "execution_count": 48,
   "metadata": {
    "collapsed": false
   },
   "outputs": [
    {
     "name": "stdout",
     "output_type": "stream",
     "text": [
      "{\n",
      "  \"_shards\": {\n",
      "    \"failed\": 0, \n",
      "    \"successful\": 10, \n",
      "    \"total\": 13\n",
      "  }, \n",
      "  \"hits\": {\n",
      "    \"hits\": [\n",
      "      {\n",
      "        \"_id\": \"10\", \n",
      "        \"_index\": \"us\", \n",
      "        \"_score\": 0.3125, \n",
      "        \"_source\": {\n",
      "          \"date\": \"2014-09-20\", \n",
      "          \"name\": \"John Smith\", \n",
      "          \"tweet\": \"Elasticsearch surely is one of the hottest new NoSQL products\", \n",
      "          \"user_id\": 1\n",
      "        }, \n",
      "        \"_type\": \"tweet\"\n",
      "      }, \n",
      "      {\n",
      "        \"_id\": \"6\", \n",
      "        \"_index\": \"us\", \n",
      "        \"_score\": 0.3125, \n",
      "        \"_source\": {\n",
      "          \"date\": \"2014-09-16\", \n",
      "          \"name\": \"John Smith\", \n",
      "          \"tweet\": \"The Elasticsearch API is really easy to use\", \n",
      "          \"user_id\": 1\n",
      "        }, \n",
      "        \"_type\": \"tweet\"\n",
      "      }, \n",
      "      {\n",
      "        \"_id\": \"12\", \n",
      "        \"_index\": \"us\", \n",
      "        \"_score\": 0.25, \n",
      "        \"_source\": {\n",
      "          \"date\": \"2014-09-22\", \n",
      "          \"name\": \"John Smith\", \n",
      "          \"tweet\": \"Elasticsearch and I have left the honeymoon stage, and I still love her.\", \n",
      "          \"user_id\": 1\n",
      "        }, \n",
      "        \"_type\": \"tweet\"\n",
      "      }\n",
      "    ], \n",
      "    \"max_score\": 0.3125, \n",
      "    \"total\": 3\n",
      "  }, \n",
      "  \"timed_out\": false, \n",
      "  \"took\": 2\n",
      "}\n"
     ]
    }
   ],
   "source": [
    "p(es.search(body={\n",
    "            \"query\": {\n",
    "                \"match\": {\n",
    "                    \"tweet\": \"elasticsearch\"\n",
    "                }\n",
    "            }\n",
    "        }), None)"
   ]
  },
  {
   "cell_type": "code",
   "execution_count": 49,
   "metadata": {
    "collapsed": false
   },
   "outputs": [
    {
     "name": "stdout",
     "output_type": "stream",
     "text": [
      "{\n",
      "  \"_shards\": {\n",
      "    \"failed\": 0, \n",
      "    \"successful\": 10, \n",
      "    \"total\": 13\n",
      "  }, \n",
      "  \"hits\": {\n",
      "    \"hits\": [], \n",
      "    \"max_score\": null, \n",
      "    \"total\": 0\n",
      "  }, \n",
      "  \"timed_out\": false, \n",
      "  \"took\": 23\n",
      "}\n"
     ]
    }
   ],
   "source": [
    "p(es.search(body={\n",
    "            \"query\": {\n",
    "                \"bool\": {\n",
    "                    \"must\":     { \"match\": {\"email\": \"business opportunity\"} },\n",
    "                    \"must_not\": { \"match\": {\"name\": \"mary\"} },\n",
    "                    \"should\":   { \"match\": {\"tweet\": \"full text\"} },\n",
    "                    \"filter\":   { \"range\": { \"age\": {\"gt\": 30}} }\n",
    "                }\n",
    "            }\n",
    "        }))"
   ]
  },
  {
   "cell_type": "code",
   "execution_count": 52,
   "metadata": {
    "collapsed": false
   },
   "outputs": [
    {
     "name": "stdout",
     "output_type": "stream",
     "text": [
      "{\n",
      "  \"_shards\": {\n",
      "    \"failed\": 0, \n",
      "    \"successful\": 1, \n",
      "    \"total\": 1\n",
      "  }, \n",
      "  \"valid\": false\n",
      "}\n"
     ]
    }
   ],
   "source": [
    "p(es.indices.validate_query(index='us', doc_type='tweet', body={\n",
    "        \"query\": {\n",
    "            \"tweet\": {\n",
    "                \"match\": \"really powerful\"\n",
    "            }\n",
    "        }\n",
    "    }))"
   ]
  },
  {
   "cell_type": "code",
   "execution_count": 53,
   "metadata": {
    "collapsed": false
   },
   "outputs": [
    {
     "name": "stdout",
     "output_type": "stream",
     "text": [
      "{\n",
      "  \"_shards\": {\n",
      "    \"failed\": 0, \n",
      "    \"successful\": 1, \n",
      "    \"total\": 1\n",
      "  }, \n",
      "  \"valid\": true\n",
      "}\n"
     ]
    }
   ],
   "source": [
    "p(es.indices.validate_query(index='us', doc_type='tweet', body={\n",
    "        \"query\": {\n",
    "            \"match\": {\n",
    "                \"tweet\": \"really powerful\"\n",
    "            }\n",
    "        }\n",
    "    }))"
   ]
  },
  {
   "cell_type": "code",
   "execution_count": 55,
   "metadata": {
    "collapsed": false
   },
   "outputs": [
    {
     "name": "stdout",
     "output_type": "stream",
     "text": [
      "{\n",
      "  \"_shards\": {\n",
      "    \"failed\": 0, \n",
      "    \"successful\": 2, \n",
      "    \"total\": 3\n",
      "  }, \n",
      "  \"explanations\": [\n",
      "    {\n",
      "      \"explanation\": \"tweet:realli tweet:power\", \n",
      "      \"index\": \"gb\", \n",
      "      \"valid\": true\n",
      "    }, \n",
      "    {\n",
      "      \"explanation\": \"tweet:really tweet:powerful\", \n",
      "      \"index\": \"us\", \n",
      "      \"valid\": true\n",
      "    }\n",
      "  ], \n",
      "  \"valid\": true\n",
      "}\n"
     ]
    }
   ],
   "source": [
    "p(es.indices.validate_query(body={\n",
    "        \"query\": {\n",
    "            \"match\": {\n",
    "                \"tweet\": \"really powerful\"\n",
    "            }\n",
    "        }\n",
    "    }, explain=True))"
   ]
  },
  {
   "cell_type": "code",
   "execution_count": null,
   "metadata": {
    "collapsed": true
   },
   "outputs": [],
   "source": []
  }
 ],
 "metadata": {
  "kernelspec": {
   "display_name": "Python 2",
   "language": "python",
   "name": "python2"
  },
  "language_info": {
   "codemirror_mode": {
    "name": "ipython",
    "version": 2
   },
   "file_extension": ".py",
   "mimetype": "text/x-python",
   "name": "python",
   "nbconvert_exporter": "python",
   "pygments_lexer": "ipython2",
   "version": "2.7.9"
  }
 },
 "nbformat": 4,
 "nbformat_minor": 1
}
