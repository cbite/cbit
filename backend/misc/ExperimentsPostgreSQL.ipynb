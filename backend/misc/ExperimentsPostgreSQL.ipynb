{
 "cells": [
  {
   "cell_type": "code",
   "execution_count": 1,
   "metadata": {
    "collapsed": true
   },
   "outputs": [],
   "source": [
    "import psycopg2"
   ]
  },
  {
   "cell_type": "code",
   "execution_count": 2,
   "metadata": {
    "collapsed": true
   },
   "outputs": [],
   "source": [
    "DB_HOST = \"localhost\"\n",
    "DB_PORT = 5432\n",
    "DB_USER = \"cbit\"\n",
    "DB_PASS = \"2076a675b6d813b582977189c13a3279cc9cf02a9aeab01389798d9167cf259c8b247aee9a2be149\"\n",
    "DB_NAME = \"cbit\""
   ]
  },
  {
   "cell_type": "code",
   "execution_count": 3,
   "metadata": {
    "collapsed": true
   },
   "outputs": [],
   "source": [
    "conn = psycopg2.connect(\n",
    "        host=DB_HOST,\n",
    "        port=DB_PORT,\n",
    "        user=DB_USER,\n",
    "        password=DB_PASS,\n",
    "        database=DB_NAME\n",
    "    )"
   ]
  },
  {
   "cell_type": "code",
   "execution_count": 6,
   "metadata": {
    "collapsed": true
   },
   "outputs": [],
   "source": [
    "cur = conn.cursor()"
   ]
  },
  {
   "cell_type": "code",
   "execution_count": 40,
   "metadata": {
    "collapsed": false
   },
   "outputs": [
    {
     "data": {
      "text/plain": [
       "[]"
      ]
     },
     "execution_count": 40,
     "metadata": {},
     "output_type": "execute_result"
    }
   ],
   "source": [
    "cur.execute(\"SELECT uuid \" +\n",
    "                            \"FROM uploads \" +\n",
    "                            \"WHERE createdOn < (CURRENT_TIMESTAMP - interval %s)\",\n",
    "                            ('100 minute',))\n",
    "cur.fetchall()"
   ]
  },
  {
   "cell_type": "code",
   "execution_count": 33,
   "metadata": {
    "collapsed": false
   },
   "outputs": [],
   "source": [
    "cur.execute(\"DELETE FROM uploads WHERE uuid IN %s\",\n",
    "            [('a0eebc99-9c0b-4ef8-bb6d-6bb9bd380a11',)])"
   ]
  },
  {
   "cell_type": "code",
   "execution_count": 11,
   "metadata": {
    "collapsed": false
   },
   "outputs": [],
   "source": [
    "conn.rollback()"
   ]
  },
  {
   "cell_type": "code",
   "execution_count": 35,
   "metadata": {
    "collapsed": false
   },
   "outputs": [
    {
     "data": {
      "text/plain": [
       "(1, 2, 3)"
      ]
     },
     "execution_count": 35,
     "metadata": {},
     "output_type": "execute_result"
    }
   ],
   "source": [
    "tuple([1,2,3])"
   ]
  },
  {
   "cell_type": "code",
   "execution_count": 43,
   "metadata": {
    "collapsed": false
   },
   "outputs": [
    {
     "data": {
      "text/plain": [
       "('uploaded',)"
      ]
     },
     "execution_count": 43,
     "metadata": {},
     "output_type": "execute_result"
    }
   ],
   "source": [
    "cur.execute(\"SELECT status FROM uploads WHERE uuid = %s\",\n",
    "            ('e68d2863-6ea4-4316-a693-709eb2d1ebcb',))\n",
    "cur.fetchone()"
   ]
  },
  {
   "cell_type": "code",
   "execution_count": 44,
   "metadata": {
    "collapsed": false
   },
   "outputs": [],
   "source": [
    "cur.execute(\"SELECT status FROM uploads WHERE uuid = %s\",\n",
    "            ('f68d2863-6ea4-4316-a693-709eb2d1ebcb',))\n",
    "cur.fetchone()"
   ]
  },
  {
   "cell_type": "code",
   "execution_count": 12,
   "metadata": {
    "collapsed": false
   },
   "outputs": [
    {
     "data": {
      "text/plain": [
       "[('9ce0ade9-6d93-4059-8bf6-836290ccacbb',),\n",
       " ('e68d2863-6ea4-4316-a693-709eb2d1ebcb',),\n",
       " ('eb4cefac-94bc-4b71-8854-a4250c6cd874',),\n",
       " ('f4bfc066-9b2b-4ded-95e0-930c097252de',),\n",
       " ('fe66faca-3573-41db-88bb-631663c2fdb9',)]"
      ]
     },
     "execution_count": 12,
     "metadata": {},
     "output_type": "execute_result"
    }
   ],
   "source": [
    "local_uuids = [\n",
    "    '9ce0ade9-6d93-4059-8bf6-836290ccacbb',\n",
    "    'e68d2863-6ea4-4316-a693-709eb2d1ebcb',\n",
    "    'eb4cefac-94bc-4b71-8854-a4250c6cd874',\n",
    "    'f4bfc066-9b2b-4ded-95e0-930c097252de',\n",
    "    'fe66faca-3573-41db-88bb-631663c2fdb9'\n",
    "]\n",
    "local_uuids_query = \" UNION ALL \".join(\"SELECT '{0}'::UUID AS uuid\".format(_) for _ in local_uuids)\n",
    "cur.execute(local_uuids_query)\n",
    "cur.fetchall()"
   ]
  },
  {
   "cell_type": "code",
   "execution_count": 14,
   "metadata": {
    "collapsed": false
   },
   "outputs": [
    {
     "data": {
      "text/plain": [
       "[(None, 'e68d2863-6ea4-4316-a693-709eb2d1ebcb'),\n",
       " (None, 'f4bfc066-9b2b-4ded-95e0-930c097252de'),\n",
       " (None, 'fe66faca-3573-41db-88bb-631663c2fdb9'),\n",
       " (None, '9ce0ade9-6d93-4059-8bf6-836290ccacbb'),\n",
       " (None, 'eb4cefac-94bc-4b71-8854-a4250c6cd874')]"
      ]
     },
     "execution_count": 14,
     "metadata": {},
     "output_type": "execute_result"
    }
   ],
   "source": [
    "cur.execute(\"\"\"\n",
    "WITH local_uuids AS (\n",
    "  {local_uuids_query}\n",
    ")\n",
    "\n",
    "SELECT remote.uuid remoteUuid, local.uuid localUuid\n",
    "FROM uploads AS remote\n",
    "  FULL OUTER JOIN local_uuids AS local ON remote.uuid = local.uuid\n",
    "WHERE remote.uuid IS NULL\n",
    "\"\"\".format(local_uuids_query=local_uuids_query))\n",
    "cur.fetchall()"
   ]
  },
  {
   "cell_type": "code",
   "execution_count": 15,
   "metadata": {
    "collapsed": true
   },
   "outputs": [],
   "source": [
    "import os"
   ]
  },
  {
   "cell_type": "code",
   "execution_count": 17,
   "metadata": {
    "collapsed": false
   },
   "outputs": [
    {
     "data": {
      "text/plain": [
       "['.ssh',\n",
       " '.ansible',\n",
       " '.ipython',\n",
       " '.jupyter',\n",
       " '.local',\n",
       " '.bashrc',\n",
       " 'Untitled.ipynb',\n",
       " '.bash_logout',\n",
       " '.pip',\n",
       " '.w3m',\n",
       " '.cache',\n",
       " '.bash_history',\n",
       " '.profile',\n",
       " '.ipynb_checkpoints']"
      ]
     },
     "execution_count": 17,
     "metadata": {},
     "output_type": "execute_result"
    }
   ],
   "source": [
    "os.listdir('.')"
   ]
  },
  {
   "cell_type": "code",
   "execution_count": 18,
   "metadata": {
    "collapsed": false
   },
   "outputs": [
    {
     "ename": "AttributeError",
     "evalue": "'psycopg2._psycopg.cursor' object has no attribute 'commit'",
     "output_type": "error",
     "traceback": [
      "\u001b[0;31m---------------------------------------------------------------------------\u001b[0m",
      "\u001b[0;31mAttributeError\u001b[0m                            Traceback (most recent call last)",
      "\u001b[0;32m<ipython-input-18-45675fc29b2c>\u001b[0m in \u001b[0;36m<module>\u001b[0;34m()\u001b[0m\n\u001b[0;32m----> 1\u001b[0;31m \u001b[0mcur\u001b[0m\u001b[0;34m.\u001b[0m\u001b[0mcommit\u001b[0m\u001b[0;34m(\u001b[0m\u001b[0;34m)\u001b[0m\u001b[0;34m\u001b[0m\u001b[0m\n\u001b[0m",
      "\u001b[0;31mAttributeError\u001b[0m: 'psycopg2._psycopg.cursor' object has no attribute 'commit'"
     ]
    }
   ],
   "source": [
    "cur.commit()"
   ]
  },
  {
   "cell_type": "code",
   "execution_count": 19,
   "metadata": {
    "collapsed": true
   },
   "outputs": [],
   "source": [
    "conn.commit()"
   ]
  },
  {
   "cell_type": "code",
   "execution_count": null,
   "metadata": {
    "collapsed": true
   },
   "outputs": [],
   "source": []
  }
 ],
 "metadata": {
  "kernelspec": {
   "display_name": "Python 2",
   "language": "python",
   "name": "python2"
  },
  "language_info": {
   "codemirror_mode": {
    "name": "ipython",
    "version": 2
   },
   "file_extension": ".py",
   "mimetype": "text/x-python",
   "name": "python",
   "nbconvert_exporter": "python",
   "pygments_lexer": "ipython2",
   "version": "2.7.6"
  }
 },
 "nbformat": 4,
 "nbformat_minor": 1
}
